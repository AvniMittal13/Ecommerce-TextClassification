{
  "nbformat": 4,
  "nbformat_minor": 0,
  "metadata": {
    "colab": {
      "provenance": [],
      "collapsed_sections": []
    },
    "kernelspec": {
      "name": "python3",
      "display_name": "Python 3"
    },
    "language_info": {
      "name": "python"
    },
    "accelerator": "GPU",
    "widgets": {
      "application/vnd.jupyter.widget-state+json": {
        "f467a1c3419443ef86a8349e25bb93bb": {
          "model_module": "@jupyter-widgets/controls",
          "model_name": "HBoxModel",
          "model_module_version": "1.5.0",
          "state": {
            "_dom_classes": [],
            "_model_module": "@jupyter-widgets/controls",
            "_model_module_version": "1.5.0",
            "_model_name": "HBoxModel",
            "_view_count": null,
            "_view_module": "@jupyter-widgets/controls",
            "_view_module_version": "1.5.0",
            "_view_name": "HBoxView",
            "box_style": "",
            "children": [
              "IPY_MODEL_bbb876c57ff04d7db2a23f5aa1fcdc8c",
              "IPY_MODEL_12cae35c5f944745a3a44511e403a1e3",
              "IPY_MODEL_189e5954845042b4bacf64092d34937a"
            ],
            "layout": "IPY_MODEL_48e28bed27a945a2bccd3c4bca140168"
          }
        },
        "bbb876c57ff04d7db2a23f5aa1fcdc8c": {
          "model_module": "@jupyter-widgets/controls",
          "model_name": "HTMLModel",
          "model_module_version": "1.5.0",
          "state": {
            "_dom_classes": [],
            "_model_module": "@jupyter-widgets/controls",
            "_model_module_version": "1.5.0",
            "_model_name": "HTMLModel",
            "_view_count": null,
            "_view_module": "@jupyter-widgets/controls",
            "_view_module_version": "1.5.0",
            "_view_name": "HTMLView",
            "description": "",
            "description_tooltip": null,
            "layout": "IPY_MODEL_ad5f8d5c90ba479bac69da02eca9a186",
            "placeholder": "​",
            "style": "IPY_MODEL_6de0ff7dfc924ae3984713d0797c83db",
            "value": ""
          }
        },
        "12cae35c5f944745a3a44511e403a1e3": {
          "model_module": "@jupyter-widgets/controls",
          "model_name": "FloatProgressModel",
          "model_module_version": "1.5.0",
          "state": {
            "_dom_classes": [],
            "_model_module": "@jupyter-widgets/controls",
            "_model_module_version": "1.5.0",
            "_model_name": "FloatProgressModel",
            "_view_count": null,
            "_view_module": "@jupyter-widgets/controls",
            "_view_module_version": "1.5.0",
            "_view_name": "ProgressView",
            "bar_style": "success",
            "description": "",
            "description_tooltip": null,
            "layout": "IPY_MODEL_6ebfd3888d7c4b918b8db0a33c19da11",
            "max": 1,
            "min": 0,
            "orientation": "horizontal",
            "style": "IPY_MODEL_70aab9afa8e34513b60f52538cdbd67c",
            "value": 0
          }
        },
        "189e5954845042b4bacf64092d34937a": {
          "model_module": "@jupyter-widgets/controls",
          "model_name": "HTMLModel",
          "model_module_version": "1.5.0",
          "state": {
            "_dom_classes": [],
            "_model_module": "@jupyter-widgets/controls",
            "_model_module_version": "1.5.0",
            "_model_name": "HTMLModel",
            "_view_count": null,
            "_view_module": "@jupyter-widgets/controls",
            "_view_module_version": "1.5.0",
            "_view_name": "HTMLView",
            "description": "",
            "description_tooltip": null,
            "layout": "IPY_MODEL_6698d567980b4b179f142f422290d485",
            "placeholder": "​",
            "style": "IPY_MODEL_2ba6ce26b56c4898b934b1f12f172cfc",
            "value": " 0/0 [00:00&lt;?, ?it/s]"
          }
        },
        "48e28bed27a945a2bccd3c4bca140168": {
          "model_module": "@jupyter-widgets/base",
          "model_name": "LayoutModel",
          "model_module_version": "1.2.0",
          "state": {
            "_model_module": "@jupyter-widgets/base",
            "_model_module_version": "1.2.0",
            "_model_name": "LayoutModel",
            "_view_count": null,
            "_view_module": "@jupyter-widgets/base",
            "_view_module_version": "1.2.0",
            "_view_name": "LayoutView",
            "align_content": null,
            "align_items": null,
            "align_self": null,
            "border": null,
            "bottom": null,
            "display": null,
            "flex": null,
            "flex_flow": null,
            "grid_area": null,
            "grid_auto_columns": null,
            "grid_auto_flow": null,
            "grid_auto_rows": null,
            "grid_column": null,
            "grid_gap": null,
            "grid_row": null,
            "grid_template_areas": null,
            "grid_template_columns": null,
            "grid_template_rows": null,
            "height": null,
            "justify_content": null,
            "justify_items": null,
            "left": null,
            "margin": null,
            "max_height": null,
            "max_width": null,
            "min_height": null,
            "min_width": null,
            "object_fit": null,
            "object_position": null,
            "order": null,
            "overflow": null,
            "overflow_x": null,
            "overflow_y": null,
            "padding": null,
            "right": null,
            "top": null,
            "visibility": null,
            "width": null
          }
        },
        "ad5f8d5c90ba479bac69da02eca9a186": {
          "model_module": "@jupyter-widgets/base",
          "model_name": "LayoutModel",
          "model_module_version": "1.2.0",
          "state": {
            "_model_module": "@jupyter-widgets/base",
            "_model_module_version": "1.2.0",
            "_model_name": "LayoutModel",
            "_view_count": null,
            "_view_module": "@jupyter-widgets/base",
            "_view_module_version": "1.2.0",
            "_view_name": "LayoutView",
            "align_content": null,
            "align_items": null,
            "align_self": null,
            "border": null,
            "bottom": null,
            "display": null,
            "flex": null,
            "flex_flow": null,
            "grid_area": null,
            "grid_auto_columns": null,
            "grid_auto_flow": null,
            "grid_auto_rows": null,
            "grid_column": null,
            "grid_gap": null,
            "grid_row": null,
            "grid_template_areas": null,
            "grid_template_columns": null,
            "grid_template_rows": null,
            "height": null,
            "justify_content": null,
            "justify_items": null,
            "left": null,
            "margin": null,
            "max_height": null,
            "max_width": null,
            "min_height": null,
            "min_width": null,
            "object_fit": null,
            "object_position": null,
            "order": null,
            "overflow": null,
            "overflow_x": null,
            "overflow_y": null,
            "padding": null,
            "right": null,
            "top": null,
            "visibility": null,
            "width": null
          }
        },
        "6de0ff7dfc924ae3984713d0797c83db": {
          "model_module": "@jupyter-widgets/controls",
          "model_name": "DescriptionStyleModel",
          "model_module_version": "1.5.0",
          "state": {
            "_model_module": "@jupyter-widgets/controls",
            "_model_module_version": "1.5.0",
            "_model_name": "DescriptionStyleModel",
            "_view_count": null,
            "_view_module": "@jupyter-widgets/base",
            "_view_module_version": "1.2.0",
            "_view_name": "StyleView",
            "description_width": ""
          }
        },
        "6ebfd3888d7c4b918b8db0a33c19da11": {
          "model_module": "@jupyter-widgets/base",
          "model_name": "LayoutModel",
          "model_module_version": "1.2.0",
          "state": {
            "_model_module": "@jupyter-widgets/base",
            "_model_module_version": "1.2.0",
            "_model_name": "LayoutModel",
            "_view_count": null,
            "_view_module": "@jupyter-widgets/base",
            "_view_module_version": "1.2.0",
            "_view_name": "LayoutView",
            "align_content": null,
            "align_items": null,
            "align_self": null,
            "border": null,
            "bottom": null,
            "display": null,
            "flex": null,
            "flex_flow": null,
            "grid_area": null,
            "grid_auto_columns": null,
            "grid_auto_flow": null,
            "grid_auto_rows": null,
            "grid_column": null,
            "grid_gap": null,
            "grid_row": null,
            "grid_template_areas": null,
            "grid_template_columns": null,
            "grid_template_rows": null,
            "height": null,
            "justify_content": null,
            "justify_items": null,
            "left": null,
            "margin": null,
            "max_height": null,
            "max_width": null,
            "min_height": null,
            "min_width": null,
            "object_fit": null,
            "object_position": null,
            "order": null,
            "overflow": null,
            "overflow_x": null,
            "overflow_y": null,
            "padding": null,
            "right": null,
            "top": null,
            "visibility": null,
            "width": "20px"
          }
        },
        "70aab9afa8e34513b60f52538cdbd67c": {
          "model_module": "@jupyter-widgets/controls",
          "model_name": "ProgressStyleModel",
          "model_module_version": "1.5.0",
          "state": {
            "_model_module": "@jupyter-widgets/controls",
            "_model_module_version": "1.5.0",
            "_model_name": "ProgressStyleModel",
            "_view_count": null,
            "_view_module": "@jupyter-widgets/base",
            "_view_module_version": "1.2.0",
            "_view_name": "StyleView",
            "bar_color": null,
            "description_width": ""
          }
        },
        "6698d567980b4b179f142f422290d485": {
          "model_module": "@jupyter-widgets/base",
          "model_name": "LayoutModel",
          "model_module_version": "1.2.0",
          "state": {
            "_model_module": "@jupyter-widgets/base",
            "_model_module_version": "1.2.0",
            "_model_name": "LayoutModel",
            "_view_count": null,
            "_view_module": "@jupyter-widgets/base",
            "_view_module_version": "1.2.0",
            "_view_name": "LayoutView",
            "align_content": null,
            "align_items": null,
            "align_self": null,
            "border": null,
            "bottom": null,
            "display": null,
            "flex": null,
            "flex_flow": null,
            "grid_area": null,
            "grid_auto_columns": null,
            "grid_auto_flow": null,
            "grid_auto_rows": null,
            "grid_column": null,
            "grid_gap": null,
            "grid_row": null,
            "grid_template_areas": null,
            "grid_template_columns": null,
            "grid_template_rows": null,
            "height": null,
            "justify_content": null,
            "justify_items": null,
            "left": null,
            "margin": null,
            "max_height": null,
            "max_width": null,
            "min_height": null,
            "min_width": null,
            "object_fit": null,
            "object_position": null,
            "order": null,
            "overflow": null,
            "overflow_x": null,
            "overflow_y": null,
            "padding": null,
            "right": null,
            "top": null,
            "visibility": null,
            "width": null
          }
        },
        "2ba6ce26b56c4898b934b1f12f172cfc": {
          "model_module": "@jupyter-widgets/controls",
          "model_name": "DescriptionStyleModel",
          "model_module_version": "1.5.0",
          "state": {
            "_model_module": "@jupyter-widgets/controls",
            "_model_module_version": "1.5.0",
            "_model_name": "DescriptionStyleModel",
            "_view_count": null,
            "_view_module": "@jupyter-widgets/base",
            "_view_module_version": "1.2.0",
            "_view_name": "StyleView",
            "description_width": ""
          }
        },
        "c5ac8a1adfd5492890ed83e92963c6f4": {
          "model_module": "@jupyter-widgets/controls",
          "model_name": "HBoxModel",
          "model_module_version": "1.5.0",
          "state": {
            "_dom_classes": [],
            "_model_module": "@jupyter-widgets/controls",
            "_model_module_version": "1.5.0",
            "_model_name": "HBoxModel",
            "_view_count": null,
            "_view_module": "@jupyter-widgets/controls",
            "_view_module_version": "1.5.0",
            "_view_name": "HBoxView",
            "box_style": "",
            "children": [
              "IPY_MODEL_3f901524bffc4d2798fdf56725db7530",
              "IPY_MODEL_7e748d0f0ea948ddb78d71f3076e07e7",
              "IPY_MODEL_676d279876ab42dcbad7235d0de08273"
            ],
            "layout": "IPY_MODEL_d086795cfdf0488da07f7fe04c31cfc2"
          }
        },
        "3f901524bffc4d2798fdf56725db7530": {
          "model_module": "@jupyter-widgets/controls",
          "model_name": "HTMLModel",
          "model_module_version": "1.5.0",
          "state": {
            "_dom_classes": [],
            "_model_module": "@jupyter-widgets/controls",
            "_model_module_version": "1.5.0",
            "_model_name": "HTMLModel",
            "_view_count": null,
            "_view_module": "@jupyter-widgets/controls",
            "_view_module_version": "1.5.0",
            "_view_name": "HTMLView",
            "description": "",
            "description_tooltip": null,
            "layout": "IPY_MODEL_fb05b2272bf946ff91492fb324a8edc3",
            "placeholder": "​",
            "style": "IPY_MODEL_33057b03ad1f4bf4b4a82c135de51a5f",
            "value": "Downloading: 100%"
          }
        },
        "7e748d0f0ea948ddb78d71f3076e07e7": {
          "model_module": "@jupyter-widgets/controls",
          "model_name": "FloatProgressModel",
          "model_module_version": "1.5.0",
          "state": {
            "_dom_classes": [],
            "_model_module": "@jupyter-widgets/controls",
            "_model_module_version": "1.5.0",
            "_model_name": "FloatProgressModel",
            "_view_count": null,
            "_view_module": "@jupyter-widgets/controls",
            "_view_module_version": "1.5.0",
            "_view_name": "ProgressView",
            "bar_style": "success",
            "description": "",
            "description_tooltip": null,
            "layout": "IPY_MODEL_d5b514e114ea4846b62e2ea2b35c38ac",
            "max": 231508,
            "min": 0,
            "orientation": "horizontal",
            "style": "IPY_MODEL_57dadb7e2ded427fa2fe9c4d1d7dc982",
            "value": 231508
          }
        },
        "676d279876ab42dcbad7235d0de08273": {
          "model_module": "@jupyter-widgets/controls",
          "model_name": "HTMLModel",
          "model_module_version": "1.5.0",
          "state": {
            "_dom_classes": [],
            "_model_module": "@jupyter-widgets/controls",
            "_model_module_version": "1.5.0",
            "_model_name": "HTMLModel",
            "_view_count": null,
            "_view_module": "@jupyter-widgets/controls",
            "_view_module_version": "1.5.0",
            "_view_name": "HTMLView",
            "description": "",
            "description_tooltip": null,
            "layout": "IPY_MODEL_75002d42fd2b4de0b4de12e3fb1b0418",
            "placeholder": "​",
            "style": "IPY_MODEL_c766f1b4ef1f4528bbd363f5103039ad",
            "value": " 232k/232k [00:00&lt;00:00, 187kB/s]"
          }
        },
        "d086795cfdf0488da07f7fe04c31cfc2": {
          "model_module": "@jupyter-widgets/base",
          "model_name": "LayoutModel",
          "model_module_version": "1.2.0",
          "state": {
            "_model_module": "@jupyter-widgets/base",
            "_model_module_version": "1.2.0",
            "_model_name": "LayoutModel",
            "_view_count": null,
            "_view_module": "@jupyter-widgets/base",
            "_view_module_version": "1.2.0",
            "_view_name": "LayoutView",
            "align_content": null,
            "align_items": null,
            "align_self": null,
            "border": null,
            "bottom": null,
            "display": null,
            "flex": null,
            "flex_flow": null,
            "grid_area": null,
            "grid_auto_columns": null,
            "grid_auto_flow": null,
            "grid_auto_rows": null,
            "grid_column": null,
            "grid_gap": null,
            "grid_row": null,
            "grid_template_areas": null,
            "grid_template_columns": null,
            "grid_template_rows": null,
            "height": null,
            "justify_content": null,
            "justify_items": null,
            "left": null,
            "margin": null,
            "max_height": null,
            "max_width": null,
            "min_height": null,
            "min_width": null,
            "object_fit": null,
            "object_position": null,
            "order": null,
            "overflow": null,
            "overflow_x": null,
            "overflow_y": null,
            "padding": null,
            "right": null,
            "top": null,
            "visibility": null,
            "width": null
          }
        },
        "fb05b2272bf946ff91492fb324a8edc3": {
          "model_module": "@jupyter-widgets/base",
          "model_name": "LayoutModel",
          "model_module_version": "1.2.0",
          "state": {
            "_model_module": "@jupyter-widgets/base",
            "_model_module_version": "1.2.0",
            "_model_name": "LayoutModel",
            "_view_count": null,
            "_view_module": "@jupyter-widgets/base",
            "_view_module_version": "1.2.0",
            "_view_name": "LayoutView",
            "align_content": null,
            "align_items": null,
            "align_self": null,
            "border": null,
            "bottom": null,
            "display": null,
            "flex": null,
            "flex_flow": null,
            "grid_area": null,
            "grid_auto_columns": null,
            "grid_auto_flow": null,
            "grid_auto_rows": null,
            "grid_column": null,
            "grid_gap": null,
            "grid_row": null,
            "grid_template_areas": null,
            "grid_template_columns": null,
            "grid_template_rows": null,
            "height": null,
            "justify_content": null,
            "justify_items": null,
            "left": null,
            "margin": null,
            "max_height": null,
            "max_width": null,
            "min_height": null,
            "min_width": null,
            "object_fit": null,
            "object_position": null,
            "order": null,
            "overflow": null,
            "overflow_x": null,
            "overflow_y": null,
            "padding": null,
            "right": null,
            "top": null,
            "visibility": null,
            "width": null
          }
        },
        "33057b03ad1f4bf4b4a82c135de51a5f": {
          "model_module": "@jupyter-widgets/controls",
          "model_name": "DescriptionStyleModel",
          "model_module_version": "1.5.0",
          "state": {
            "_model_module": "@jupyter-widgets/controls",
            "_model_module_version": "1.5.0",
            "_model_name": "DescriptionStyleModel",
            "_view_count": null,
            "_view_module": "@jupyter-widgets/base",
            "_view_module_version": "1.2.0",
            "_view_name": "StyleView",
            "description_width": ""
          }
        },
        "d5b514e114ea4846b62e2ea2b35c38ac": {
          "model_module": "@jupyter-widgets/base",
          "model_name": "LayoutModel",
          "model_module_version": "1.2.0",
          "state": {
            "_model_module": "@jupyter-widgets/base",
            "_model_module_version": "1.2.0",
            "_model_name": "LayoutModel",
            "_view_count": null,
            "_view_module": "@jupyter-widgets/base",
            "_view_module_version": "1.2.0",
            "_view_name": "LayoutView",
            "align_content": null,
            "align_items": null,
            "align_self": null,
            "border": null,
            "bottom": null,
            "display": null,
            "flex": null,
            "flex_flow": null,
            "grid_area": null,
            "grid_auto_columns": null,
            "grid_auto_flow": null,
            "grid_auto_rows": null,
            "grid_column": null,
            "grid_gap": null,
            "grid_row": null,
            "grid_template_areas": null,
            "grid_template_columns": null,
            "grid_template_rows": null,
            "height": null,
            "justify_content": null,
            "justify_items": null,
            "left": null,
            "margin": null,
            "max_height": null,
            "max_width": null,
            "min_height": null,
            "min_width": null,
            "object_fit": null,
            "object_position": null,
            "order": null,
            "overflow": null,
            "overflow_x": null,
            "overflow_y": null,
            "padding": null,
            "right": null,
            "top": null,
            "visibility": null,
            "width": null
          }
        },
        "57dadb7e2ded427fa2fe9c4d1d7dc982": {
          "model_module": "@jupyter-widgets/controls",
          "model_name": "ProgressStyleModel",
          "model_module_version": "1.5.0",
          "state": {
            "_model_module": "@jupyter-widgets/controls",
            "_model_module_version": "1.5.0",
            "_model_name": "ProgressStyleModel",
            "_view_count": null,
            "_view_module": "@jupyter-widgets/base",
            "_view_module_version": "1.2.0",
            "_view_name": "StyleView",
            "bar_color": null,
            "description_width": ""
          }
        },
        "75002d42fd2b4de0b4de12e3fb1b0418": {
          "model_module": "@jupyter-widgets/base",
          "model_name": "LayoutModel",
          "model_module_version": "1.2.0",
          "state": {
            "_model_module": "@jupyter-widgets/base",
            "_model_module_version": "1.2.0",
            "_model_name": "LayoutModel",
            "_view_count": null,
            "_view_module": "@jupyter-widgets/base",
            "_view_module_version": "1.2.0",
            "_view_name": "LayoutView",
            "align_content": null,
            "align_items": null,
            "align_self": null,
            "border": null,
            "bottom": null,
            "display": null,
            "flex": null,
            "flex_flow": null,
            "grid_area": null,
            "grid_auto_columns": null,
            "grid_auto_flow": null,
            "grid_auto_rows": null,
            "grid_column": null,
            "grid_gap": null,
            "grid_row": null,
            "grid_template_areas": null,
            "grid_template_columns": null,
            "grid_template_rows": null,
            "height": null,
            "justify_content": null,
            "justify_items": null,
            "left": null,
            "margin": null,
            "max_height": null,
            "max_width": null,
            "min_height": null,
            "min_width": null,
            "object_fit": null,
            "object_position": null,
            "order": null,
            "overflow": null,
            "overflow_x": null,
            "overflow_y": null,
            "padding": null,
            "right": null,
            "top": null,
            "visibility": null,
            "width": null
          }
        },
        "c766f1b4ef1f4528bbd363f5103039ad": {
          "model_module": "@jupyter-widgets/controls",
          "model_name": "DescriptionStyleModel",
          "model_module_version": "1.5.0",
          "state": {
            "_model_module": "@jupyter-widgets/controls",
            "_model_module_version": "1.5.0",
            "_model_name": "DescriptionStyleModel",
            "_view_count": null,
            "_view_module": "@jupyter-widgets/base",
            "_view_module_version": "1.2.0",
            "_view_name": "StyleView",
            "description_width": ""
          }
        },
        "0a38fbf07a214d6e9586263bc173fa84": {
          "model_module": "@jupyter-widgets/controls",
          "model_name": "HBoxModel",
          "model_module_version": "1.5.0",
          "state": {
            "_dom_classes": [],
            "_model_module": "@jupyter-widgets/controls",
            "_model_module_version": "1.5.0",
            "_model_name": "HBoxModel",
            "_view_count": null,
            "_view_module": "@jupyter-widgets/controls",
            "_view_module_version": "1.5.0",
            "_view_name": "HBoxView",
            "box_style": "",
            "children": [
              "IPY_MODEL_59035d3a13094d56aa068da5483e3f15",
              "IPY_MODEL_f31fd2aea1c948b1bd8863656b3b9a81",
              "IPY_MODEL_4bceb98948f14cb9902776d5905b3a18"
            ],
            "layout": "IPY_MODEL_370bff45f5eb4c8ab33271bf26ad4e27"
          }
        },
        "59035d3a13094d56aa068da5483e3f15": {
          "model_module": "@jupyter-widgets/controls",
          "model_name": "HTMLModel",
          "model_module_version": "1.5.0",
          "state": {
            "_dom_classes": [],
            "_model_module": "@jupyter-widgets/controls",
            "_model_module_version": "1.5.0",
            "_model_name": "HTMLModel",
            "_view_count": null,
            "_view_module": "@jupyter-widgets/controls",
            "_view_module_version": "1.5.0",
            "_view_name": "HTMLView",
            "description": "",
            "description_tooltip": null,
            "layout": "IPY_MODEL_54f7801040944b898bbd804b9de9b0ae",
            "placeholder": "​",
            "style": "IPY_MODEL_48d3d6935448483783311afb91714236",
            "value": "Downloading: 100%"
          }
        },
        "f31fd2aea1c948b1bd8863656b3b9a81": {
          "model_module": "@jupyter-widgets/controls",
          "model_name": "FloatProgressModel",
          "model_module_version": "1.5.0",
          "state": {
            "_dom_classes": [],
            "_model_module": "@jupyter-widgets/controls",
            "_model_module_version": "1.5.0",
            "_model_name": "FloatProgressModel",
            "_view_count": null,
            "_view_module": "@jupyter-widgets/controls",
            "_view_module_version": "1.5.0",
            "_view_name": "ProgressView",
            "bar_style": "success",
            "description": "",
            "description_tooltip": null,
            "layout": "IPY_MODEL_c929f938231742baa0cd05bb2c6ac826",
            "max": 28,
            "min": 0,
            "orientation": "horizontal",
            "style": "IPY_MODEL_39a0892745cc4efab68d5f3bd8234a30",
            "value": 28
          }
        },
        "4bceb98948f14cb9902776d5905b3a18": {
          "model_module": "@jupyter-widgets/controls",
          "model_name": "HTMLModel",
          "model_module_version": "1.5.0",
          "state": {
            "_dom_classes": [],
            "_model_module": "@jupyter-widgets/controls",
            "_model_module_version": "1.5.0",
            "_model_name": "HTMLModel",
            "_view_count": null,
            "_view_module": "@jupyter-widgets/controls",
            "_view_module_version": "1.5.0",
            "_view_name": "HTMLView",
            "description": "",
            "description_tooltip": null,
            "layout": "IPY_MODEL_b6a8000f68914e739e706a4454fbea14",
            "placeholder": "​",
            "style": "IPY_MODEL_0fa83c84fa5043b78fc082aa0f428f11",
            "value": " 28.0/28.0 [00:00&lt;00:00, 321B/s]"
          }
        },
        "370bff45f5eb4c8ab33271bf26ad4e27": {
          "model_module": "@jupyter-widgets/base",
          "model_name": "LayoutModel",
          "model_module_version": "1.2.0",
          "state": {
            "_model_module": "@jupyter-widgets/base",
            "_model_module_version": "1.2.0",
            "_model_name": "LayoutModel",
            "_view_count": null,
            "_view_module": "@jupyter-widgets/base",
            "_view_module_version": "1.2.0",
            "_view_name": "LayoutView",
            "align_content": null,
            "align_items": null,
            "align_self": null,
            "border": null,
            "bottom": null,
            "display": null,
            "flex": null,
            "flex_flow": null,
            "grid_area": null,
            "grid_auto_columns": null,
            "grid_auto_flow": null,
            "grid_auto_rows": null,
            "grid_column": null,
            "grid_gap": null,
            "grid_row": null,
            "grid_template_areas": null,
            "grid_template_columns": null,
            "grid_template_rows": null,
            "height": null,
            "justify_content": null,
            "justify_items": null,
            "left": null,
            "margin": null,
            "max_height": null,
            "max_width": null,
            "min_height": null,
            "min_width": null,
            "object_fit": null,
            "object_position": null,
            "order": null,
            "overflow": null,
            "overflow_x": null,
            "overflow_y": null,
            "padding": null,
            "right": null,
            "top": null,
            "visibility": null,
            "width": null
          }
        },
        "54f7801040944b898bbd804b9de9b0ae": {
          "model_module": "@jupyter-widgets/base",
          "model_name": "LayoutModel",
          "model_module_version": "1.2.0",
          "state": {
            "_model_module": "@jupyter-widgets/base",
            "_model_module_version": "1.2.0",
            "_model_name": "LayoutModel",
            "_view_count": null,
            "_view_module": "@jupyter-widgets/base",
            "_view_module_version": "1.2.0",
            "_view_name": "LayoutView",
            "align_content": null,
            "align_items": null,
            "align_self": null,
            "border": null,
            "bottom": null,
            "display": null,
            "flex": null,
            "flex_flow": null,
            "grid_area": null,
            "grid_auto_columns": null,
            "grid_auto_flow": null,
            "grid_auto_rows": null,
            "grid_column": null,
            "grid_gap": null,
            "grid_row": null,
            "grid_template_areas": null,
            "grid_template_columns": null,
            "grid_template_rows": null,
            "height": null,
            "justify_content": null,
            "justify_items": null,
            "left": null,
            "margin": null,
            "max_height": null,
            "max_width": null,
            "min_height": null,
            "min_width": null,
            "object_fit": null,
            "object_position": null,
            "order": null,
            "overflow": null,
            "overflow_x": null,
            "overflow_y": null,
            "padding": null,
            "right": null,
            "top": null,
            "visibility": null,
            "width": null
          }
        },
        "48d3d6935448483783311afb91714236": {
          "model_module": "@jupyter-widgets/controls",
          "model_name": "DescriptionStyleModel",
          "model_module_version": "1.5.0",
          "state": {
            "_model_module": "@jupyter-widgets/controls",
            "_model_module_version": "1.5.0",
            "_model_name": "DescriptionStyleModel",
            "_view_count": null,
            "_view_module": "@jupyter-widgets/base",
            "_view_module_version": "1.2.0",
            "_view_name": "StyleView",
            "description_width": ""
          }
        },
        "c929f938231742baa0cd05bb2c6ac826": {
          "model_module": "@jupyter-widgets/base",
          "model_name": "LayoutModel",
          "model_module_version": "1.2.0",
          "state": {
            "_model_module": "@jupyter-widgets/base",
            "_model_module_version": "1.2.0",
            "_model_name": "LayoutModel",
            "_view_count": null,
            "_view_module": "@jupyter-widgets/base",
            "_view_module_version": "1.2.0",
            "_view_name": "LayoutView",
            "align_content": null,
            "align_items": null,
            "align_self": null,
            "border": null,
            "bottom": null,
            "display": null,
            "flex": null,
            "flex_flow": null,
            "grid_area": null,
            "grid_auto_columns": null,
            "grid_auto_flow": null,
            "grid_auto_rows": null,
            "grid_column": null,
            "grid_gap": null,
            "grid_row": null,
            "grid_template_areas": null,
            "grid_template_columns": null,
            "grid_template_rows": null,
            "height": null,
            "justify_content": null,
            "justify_items": null,
            "left": null,
            "margin": null,
            "max_height": null,
            "max_width": null,
            "min_height": null,
            "min_width": null,
            "object_fit": null,
            "object_position": null,
            "order": null,
            "overflow": null,
            "overflow_x": null,
            "overflow_y": null,
            "padding": null,
            "right": null,
            "top": null,
            "visibility": null,
            "width": null
          }
        },
        "39a0892745cc4efab68d5f3bd8234a30": {
          "model_module": "@jupyter-widgets/controls",
          "model_name": "ProgressStyleModel",
          "model_module_version": "1.5.0",
          "state": {
            "_model_module": "@jupyter-widgets/controls",
            "_model_module_version": "1.5.0",
            "_model_name": "ProgressStyleModel",
            "_view_count": null,
            "_view_module": "@jupyter-widgets/base",
            "_view_module_version": "1.2.0",
            "_view_name": "StyleView",
            "bar_color": null,
            "description_width": ""
          }
        },
        "b6a8000f68914e739e706a4454fbea14": {
          "model_module": "@jupyter-widgets/base",
          "model_name": "LayoutModel",
          "model_module_version": "1.2.0",
          "state": {
            "_model_module": "@jupyter-widgets/base",
            "_model_module_version": "1.2.0",
            "_model_name": "LayoutModel",
            "_view_count": null,
            "_view_module": "@jupyter-widgets/base",
            "_view_module_version": "1.2.0",
            "_view_name": "LayoutView",
            "align_content": null,
            "align_items": null,
            "align_self": null,
            "border": null,
            "bottom": null,
            "display": null,
            "flex": null,
            "flex_flow": null,
            "grid_area": null,
            "grid_auto_columns": null,
            "grid_auto_flow": null,
            "grid_auto_rows": null,
            "grid_column": null,
            "grid_gap": null,
            "grid_row": null,
            "grid_template_areas": null,
            "grid_template_columns": null,
            "grid_template_rows": null,
            "height": null,
            "justify_content": null,
            "justify_items": null,
            "left": null,
            "margin": null,
            "max_height": null,
            "max_width": null,
            "min_height": null,
            "min_width": null,
            "object_fit": null,
            "object_position": null,
            "order": null,
            "overflow": null,
            "overflow_x": null,
            "overflow_y": null,
            "padding": null,
            "right": null,
            "top": null,
            "visibility": null,
            "width": null
          }
        },
        "0fa83c84fa5043b78fc082aa0f428f11": {
          "model_module": "@jupyter-widgets/controls",
          "model_name": "DescriptionStyleModel",
          "model_module_version": "1.5.0",
          "state": {
            "_model_module": "@jupyter-widgets/controls",
            "_model_module_version": "1.5.0",
            "_model_name": "DescriptionStyleModel",
            "_view_count": null,
            "_view_module": "@jupyter-widgets/base",
            "_view_module_version": "1.2.0",
            "_view_name": "StyleView",
            "description_width": ""
          }
        },
        "9bbd09f23b9c4fcdae504220a37057bf": {
          "model_module": "@jupyter-widgets/controls",
          "model_name": "HBoxModel",
          "model_module_version": "1.5.0",
          "state": {
            "_dom_classes": [],
            "_model_module": "@jupyter-widgets/controls",
            "_model_module_version": "1.5.0",
            "_model_name": "HBoxModel",
            "_view_count": null,
            "_view_module": "@jupyter-widgets/controls",
            "_view_module_version": "1.5.0",
            "_view_name": "HBoxView",
            "box_style": "",
            "children": [
              "IPY_MODEL_867331f078634f96a41b427417c76fb0",
              "IPY_MODEL_2fcc671704574390ba44f09b3cb91439",
              "IPY_MODEL_2a5db7fc7c1347fa9ac4deec19cbb8e8"
            ],
            "layout": "IPY_MODEL_21c192cebb0f47b6803e417ac8e8f52a"
          }
        },
        "867331f078634f96a41b427417c76fb0": {
          "model_module": "@jupyter-widgets/controls",
          "model_name": "HTMLModel",
          "model_module_version": "1.5.0",
          "state": {
            "_dom_classes": [],
            "_model_module": "@jupyter-widgets/controls",
            "_model_module_version": "1.5.0",
            "_model_name": "HTMLModel",
            "_view_count": null,
            "_view_module": "@jupyter-widgets/controls",
            "_view_module_version": "1.5.0",
            "_view_name": "HTMLView",
            "description": "",
            "description_tooltip": null,
            "layout": "IPY_MODEL_a7782188aa274bd298d927ba64688fe9",
            "placeholder": "​",
            "style": "IPY_MODEL_4119f356af264ac09361710cf92f9b9c",
            "value": "Downloading: 100%"
          }
        },
        "2fcc671704574390ba44f09b3cb91439": {
          "model_module": "@jupyter-widgets/controls",
          "model_name": "FloatProgressModel",
          "model_module_version": "1.5.0",
          "state": {
            "_dom_classes": [],
            "_model_module": "@jupyter-widgets/controls",
            "_model_module_version": "1.5.0",
            "_model_name": "FloatProgressModel",
            "_view_count": null,
            "_view_module": "@jupyter-widgets/controls",
            "_view_module_version": "1.5.0",
            "_view_name": "ProgressView",
            "bar_style": "success",
            "description": "",
            "description_tooltip": null,
            "layout": "IPY_MODEL_b9954a25a75f4ddcbd07a17d011d3bff",
            "max": 570,
            "min": 0,
            "orientation": "horizontal",
            "style": "IPY_MODEL_92d19efbbf424f0ea3c330a279d4daeb",
            "value": 570
          }
        },
        "2a5db7fc7c1347fa9ac4deec19cbb8e8": {
          "model_module": "@jupyter-widgets/controls",
          "model_name": "HTMLModel",
          "model_module_version": "1.5.0",
          "state": {
            "_dom_classes": [],
            "_model_module": "@jupyter-widgets/controls",
            "_model_module_version": "1.5.0",
            "_model_name": "HTMLModel",
            "_view_count": null,
            "_view_module": "@jupyter-widgets/controls",
            "_view_module_version": "1.5.0",
            "_view_name": "HTMLView",
            "description": "",
            "description_tooltip": null,
            "layout": "IPY_MODEL_6059397cf1374b3dae7ac04da793f740",
            "placeholder": "​",
            "style": "IPY_MODEL_c2ae57170a8f41ca91f57a83ce8c264a",
            "value": " 570/570 [00:00&lt;00:00, 4.37kB/s]"
          }
        },
        "21c192cebb0f47b6803e417ac8e8f52a": {
          "model_module": "@jupyter-widgets/base",
          "model_name": "LayoutModel",
          "model_module_version": "1.2.0",
          "state": {
            "_model_module": "@jupyter-widgets/base",
            "_model_module_version": "1.2.0",
            "_model_name": "LayoutModel",
            "_view_count": null,
            "_view_module": "@jupyter-widgets/base",
            "_view_module_version": "1.2.0",
            "_view_name": "LayoutView",
            "align_content": null,
            "align_items": null,
            "align_self": null,
            "border": null,
            "bottom": null,
            "display": null,
            "flex": null,
            "flex_flow": null,
            "grid_area": null,
            "grid_auto_columns": null,
            "grid_auto_flow": null,
            "grid_auto_rows": null,
            "grid_column": null,
            "grid_gap": null,
            "grid_row": null,
            "grid_template_areas": null,
            "grid_template_columns": null,
            "grid_template_rows": null,
            "height": null,
            "justify_content": null,
            "justify_items": null,
            "left": null,
            "margin": null,
            "max_height": null,
            "max_width": null,
            "min_height": null,
            "min_width": null,
            "object_fit": null,
            "object_position": null,
            "order": null,
            "overflow": null,
            "overflow_x": null,
            "overflow_y": null,
            "padding": null,
            "right": null,
            "top": null,
            "visibility": null,
            "width": null
          }
        },
        "a7782188aa274bd298d927ba64688fe9": {
          "model_module": "@jupyter-widgets/base",
          "model_name": "LayoutModel",
          "model_module_version": "1.2.0",
          "state": {
            "_model_module": "@jupyter-widgets/base",
            "_model_module_version": "1.2.0",
            "_model_name": "LayoutModel",
            "_view_count": null,
            "_view_module": "@jupyter-widgets/base",
            "_view_module_version": "1.2.0",
            "_view_name": "LayoutView",
            "align_content": null,
            "align_items": null,
            "align_self": null,
            "border": null,
            "bottom": null,
            "display": null,
            "flex": null,
            "flex_flow": null,
            "grid_area": null,
            "grid_auto_columns": null,
            "grid_auto_flow": null,
            "grid_auto_rows": null,
            "grid_column": null,
            "grid_gap": null,
            "grid_row": null,
            "grid_template_areas": null,
            "grid_template_columns": null,
            "grid_template_rows": null,
            "height": null,
            "justify_content": null,
            "justify_items": null,
            "left": null,
            "margin": null,
            "max_height": null,
            "max_width": null,
            "min_height": null,
            "min_width": null,
            "object_fit": null,
            "object_position": null,
            "order": null,
            "overflow": null,
            "overflow_x": null,
            "overflow_y": null,
            "padding": null,
            "right": null,
            "top": null,
            "visibility": null,
            "width": null
          }
        },
        "4119f356af264ac09361710cf92f9b9c": {
          "model_module": "@jupyter-widgets/controls",
          "model_name": "DescriptionStyleModel",
          "model_module_version": "1.5.0",
          "state": {
            "_model_module": "@jupyter-widgets/controls",
            "_model_module_version": "1.5.0",
            "_model_name": "DescriptionStyleModel",
            "_view_count": null,
            "_view_module": "@jupyter-widgets/base",
            "_view_module_version": "1.2.0",
            "_view_name": "StyleView",
            "description_width": ""
          }
        },
        "b9954a25a75f4ddcbd07a17d011d3bff": {
          "model_module": "@jupyter-widgets/base",
          "model_name": "LayoutModel",
          "model_module_version": "1.2.0",
          "state": {
            "_model_module": "@jupyter-widgets/base",
            "_model_module_version": "1.2.0",
            "_model_name": "LayoutModel",
            "_view_count": null,
            "_view_module": "@jupyter-widgets/base",
            "_view_module_version": "1.2.0",
            "_view_name": "LayoutView",
            "align_content": null,
            "align_items": null,
            "align_self": null,
            "border": null,
            "bottom": null,
            "display": null,
            "flex": null,
            "flex_flow": null,
            "grid_area": null,
            "grid_auto_columns": null,
            "grid_auto_flow": null,
            "grid_auto_rows": null,
            "grid_column": null,
            "grid_gap": null,
            "grid_row": null,
            "grid_template_areas": null,
            "grid_template_columns": null,
            "grid_template_rows": null,
            "height": null,
            "justify_content": null,
            "justify_items": null,
            "left": null,
            "margin": null,
            "max_height": null,
            "max_width": null,
            "min_height": null,
            "min_width": null,
            "object_fit": null,
            "object_position": null,
            "order": null,
            "overflow": null,
            "overflow_x": null,
            "overflow_y": null,
            "padding": null,
            "right": null,
            "top": null,
            "visibility": null,
            "width": null
          }
        },
        "92d19efbbf424f0ea3c330a279d4daeb": {
          "model_module": "@jupyter-widgets/controls",
          "model_name": "ProgressStyleModel",
          "model_module_version": "1.5.0",
          "state": {
            "_model_module": "@jupyter-widgets/controls",
            "_model_module_version": "1.5.0",
            "_model_name": "ProgressStyleModel",
            "_view_count": null,
            "_view_module": "@jupyter-widgets/base",
            "_view_module_version": "1.2.0",
            "_view_name": "StyleView",
            "bar_color": null,
            "description_width": ""
          }
        },
        "6059397cf1374b3dae7ac04da793f740": {
          "model_module": "@jupyter-widgets/base",
          "model_name": "LayoutModel",
          "model_module_version": "1.2.0",
          "state": {
            "_model_module": "@jupyter-widgets/base",
            "_model_module_version": "1.2.0",
            "_model_name": "LayoutModel",
            "_view_count": null,
            "_view_module": "@jupyter-widgets/base",
            "_view_module_version": "1.2.0",
            "_view_name": "LayoutView",
            "align_content": null,
            "align_items": null,
            "align_self": null,
            "border": null,
            "bottom": null,
            "display": null,
            "flex": null,
            "flex_flow": null,
            "grid_area": null,
            "grid_auto_columns": null,
            "grid_auto_flow": null,
            "grid_auto_rows": null,
            "grid_column": null,
            "grid_gap": null,
            "grid_row": null,
            "grid_template_areas": null,
            "grid_template_columns": null,
            "grid_template_rows": null,
            "height": null,
            "justify_content": null,
            "justify_items": null,
            "left": null,
            "margin": null,
            "max_height": null,
            "max_width": null,
            "min_height": null,
            "min_width": null,
            "object_fit": null,
            "object_position": null,
            "order": null,
            "overflow": null,
            "overflow_x": null,
            "overflow_y": null,
            "padding": null,
            "right": null,
            "top": null,
            "visibility": null,
            "width": null
          }
        },
        "c2ae57170a8f41ca91f57a83ce8c264a": {
          "model_module": "@jupyter-widgets/controls",
          "model_name": "DescriptionStyleModel",
          "model_module_version": "1.5.0",
          "state": {
            "_model_module": "@jupyter-widgets/controls",
            "_model_module_version": "1.5.0",
            "_model_name": "DescriptionStyleModel",
            "_view_count": null,
            "_view_module": "@jupyter-widgets/base",
            "_view_module_version": "1.2.0",
            "_view_name": "StyleView",
            "description_width": ""
          }
        },
        "2a39130079ef4bdf99d9b3b0f312a09b": {
          "model_module": "@jupyter-widgets/controls",
          "model_name": "HBoxModel",
          "model_module_version": "1.5.0",
          "state": {
            "_dom_classes": [],
            "_model_module": "@jupyter-widgets/controls",
            "_model_module_version": "1.5.0",
            "_model_name": "HBoxModel",
            "_view_count": null,
            "_view_module": "@jupyter-widgets/controls",
            "_view_module_version": "1.5.0",
            "_view_name": "HBoxView",
            "box_style": "",
            "children": [
              "IPY_MODEL_016a282e8af943c58b6481663909dcaf",
              "IPY_MODEL_10eb853978d445879b41519dd5642661",
              "IPY_MODEL_8dd2c1b50e9d482790c56d30f69721fe"
            ],
            "layout": "IPY_MODEL_b84dde4e4685476b9e8503ce95f4094c"
          }
        },
        "016a282e8af943c58b6481663909dcaf": {
          "model_module": "@jupyter-widgets/controls",
          "model_name": "HTMLModel",
          "model_module_version": "1.5.0",
          "state": {
            "_dom_classes": [],
            "_model_module": "@jupyter-widgets/controls",
            "_model_module_version": "1.5.0",
            "_model_name": "HTMLModel",
            "_view_count": null,
            "_view_module": "@jupyter-widgets/controls",
            "_view_module_version": "1.5.0",
            "_view_name": "HTMLView",
            "description": "",
            "description_tooltip": null,
            "layout": "IPY_MODEL_87ccab2e6db545b1b1a4d3aa760f8d19",
            "placeholder": "​",
            "style": "IPY_MODEL_7a6b8d0a034941ee925d9cf0bba79971",
            "value": "Downloading: 100%"
          }
        },
        "10eb853978d445879b41519dd5642661": {
          "model_module": "@jupyter-widgets/controls",
          "model_name": "FloatProgressModel",
          "model_module_version": "1.5.0",
          "state": {
            "_dom_classes": [],
            "_model_module": "@jupyter-widgets/controls",
            "_model_module_version": "1.5.0",
            "_model_name": "FloatProgressModel",
            "_view_count": null,
            "_view_module": "@jupyter-widgets/controls",
            "_view_module_version": "1.5.0",
            "_view_name": "ProgressView",
            "bar_style": "success",
            "description": "",
            "description_tooltip": null,
            "layout": "IPY_MODEL_87d741d979c1462ab168b373fa3fe473",
            "max": 440473133,
            "min": 0,
            "orientation": "horizontal",
            "style": "IPY_MODEL_332c38e6f937470db051c61d673f0c81",
            "value": 440473133
          }
        },
        "8dd2c1b50e9d482790c56d30f69721fe": {
          "model_module": "@jupyter-widgets/controls",
          "model_name": "HTMLModel",
          "model_module_version": "1.5.0",
          "state": {
            "_dom_classes": [],
            "_model_module": "@jupyter-widgets/controls",
            "_model_module_version": "1.5.0",
            "_model_name": "HTMLModel",
            "_view_count": null,
            "_view_module": "@jupyter-widgets/controls",
            "_view_module_version": "1.5.0",
            "_view_name": "HTMLView",
            "description": "",
            "description_tooltip": null,
            "layout": "IPY_MODEL_59208dc1c6414fbc958d783c39ce0e1d",
            "placeholder": "​",
            "style": "IPY_MODEL_c4ff4ccc8c184a969530dee098096f76",
            "value": " 440M/440M [00:07&lt;00:00, 59.8MB/s]"
          }
        },
        "b84dde4e4685476b9e8503ce95f4094c": {
          "model_module": "@jupyter-widgets/base",
          "model_name": "LayoutModel",
          "model_module_version": "1.2.0",
          "state": {
            "_model_module": "@jupyter-widgets/base",
            "_model_module_version": "1.2.0",
            "_model_name": "LayoutModel",
            "_view_count": null,
            "_view_module": "@jupyter-widgets/base",
            "_view_module_version": "1.2.0",
            "_view_name": "LayoutView",
            "align_content": null,
            "align_items": null,
            "align_self": null,
            "border": null,
            "bottom": null,
            "display": null,
            "flex": null,
            "flex_flow": null,
            "grid_area": null,
            "grid_auto_columns": null,
            "grid_auto_flow": null,
            "grid_auto_rows": null,
            "grid_column": null,
            "grid_gap": null,
            "grid_row": null,
            "grid_template_areas": null,
            "grid_template_columns": null,
            "grid_template_rows": null,
            "height": null,
            "justify_content": null,
            "justify_items": null,
            "left": null,
            "margin": null,
            "max_height": null,
            "max_width": null,
            "min_height": null,
            "min_width": null,
            "object_fit": null,
            "object_position": null,
            "order": null,
            "overflow": null,
            "overflow_x": null,
            "overflow_y": null,
            "padding": null,
            "right": null,
            "top": null,
            "visibility": null,
            "width": null
          }
        },
        "87ccab2e6db545b1b1a4d3aa760f8d19": {
          "model_module": "@jupyter-widgets/base",
          "model_name": "LayoutModel",
          "model_module_version": "1.2.0",
          "state": {
            "_model_module": "@jupyter-widgets/base",
            "_model_module_version": "1.2.0",
            "_model_name": "LayoutModel",
            "_view_count": null,
            "_view_module": "@jupyter-widgets/base",
            "_view_module_version": "1.2.0",
            "_view_name": "LayoutView",
            "align_content": null,
            "align_items": null,
            "align_self": null,
            "border": null,
            "bottom": null,
            "display": null,
            "flex": null,
            "flex_flow": null,
            "grid_area": null,
            "grid_auto_columns": null,
            "grid_auto_flow": null,
            "grid_auto_rows": null,
            "grid_column": null,
            "grid_gap": null,
            "grid_row": null,
            "grid_template_areas": null,
            "grid_template_columns": null,
            "grid_template_rows": null,
            "height": null,
            "justify_content": null,
            "justify_items": null,
            "left": null,
            "margin": null,
            "max_height": null,
            "max_width": null,
            "min_height": null,
            "min_width": null,
            "object_fit": null,
            "object_position": null,
            "order": null,
            "overflow": null,
            "overflow_x": null,
            "overflow_y": null,
            "padding": null,
            "right": null,
            "top": null,
            "visibility": null,
            "width": null
          }
        },
        "7a6b8d0a034941ee925d9cf0bba79971": {
          "model_module": "@jupyter-widgets/controls",
          "model_name": "DescriptionStyleModel",
          "model_module_version": "1.5.0",
          "state": {
            "_model_module": "@jupyter-widgets/controls",
            "_model_module_version": "1.5.0",
            "_model_name": "DescriptionStyleModel",
            "_view_count": null,
            "_view_module": "@jupyter-widgets/base",
            "_view_module_version": "1.2.0",
            "_view_name": "StyleView",
            "description_width": ""
          }
        },
        "87d741d979c1462ab168b373fa3fe473": {
          "model_module": "@jupyter-widgets/base",
          "model_name": "LayoutModel",
          "model_module_version": "1.2.0",
          "state": {
            "_model_module": "@jupyter-widgets/base",
            "_model_module_version": "1.2.0",
            "_model_name": "LayoutModel",
            "_view_count": null,
            "_view_module": "@jupyter-widgets/base",
            "_view_module_version": "1.2.0",
            "_view_name": "LayoutView",
            "align_content": null,
            "align_items": null,
            "align_self": null,
            "border": null,
            "bottom": null,
            "display": null,
            "flex": null,
            "flex_flow": null,
            "grid_area": null,
            "grid_auto_columns": null,
            "grid_auto_flow": null,
            "grid_auto_rows": null,
            "grid_column": null,
            "grid_gap": null,
            "grid_row": null,
            "grid_template_areas": null,
            "grid_template_columns": null,
            "grid_template_rows": null,
            "height": null,
            "justify_content": null,
            "justify_items": null,
            "left": null,
            "margin": null,
            "max_height": null,
            "max_width": null,
            "min_height": null,
            "min_width": null,
            "object_fit": null,
            "object_position": null,
            "order": null,
            "overflow": null,
            "overflow_x": null,
            "overflow_y": null,
            "padding": null,
            "right": null,
            "top": null,
            "visibility": null,
            "width": null
          }
        },
        "332c38e6f937470db051c61d673f0c81": {
          "model_module": "@jupyter-widgets/controls",
          "model_name": "ProgressStyleModel",
          "model_module_version": "1.5.0",
          "state": {
            "_model_module": "@jupyter-widgets/controls",
            "_model_module_version": "1.5.0",
            "_model_name": "ProgressStyleModel",
            "_view_count": null,
            "_view_module": "@jupyter-widgets/base",
            "_view_module_version": "1.2.0",
            "_view_name": "StyleView",
            "bar_color": null,
            "description_width": ""
          }
        },
        "59208dc1c6414fbc958d783c39ce0e1d": {
          "model_module": "@jupyter-widgets/base",
          "model_name": "LayoutModel",
          "model_module_version": "1.2.0",
          "state": {
            "_model_module": "@jupyter-widgets/base",
            "_model_module_version": "1.2.0",
            "_model_name": "LayoutModel",
            "_view_count": null,
            "_view_module": "@jupyter-widgets/base",
            "_view_module_version": "1.2.0",
            "_view_name": "LayoutView",
            "align_content": null,
            "align_items": null,
            "align_self": null,
            "border": null,
            "bottom": null,
            "display": null,
            "flex": null,
            "flex_flow": null,
            "grid_area": null,
            "grid_auto_columns": null,
            "grid_auto_flow": null,
            "grid_auto_rows": null,
            "grid_column": null,
            "grid_gap": null,
            "grid_row": null,
            "grid_template_areas": null,
            "grid_template_columns": null,
            "grid_template_rows": null,
            "height": null,
            "justify_content": null,
            "justify_items": null,
            "left": null,
            "margin": null,
            "max_height": null,
            "max_width": null,
            "min_height": null,
            "min_width": null,
            "object_fit": null,
            "object_position": null,
            "order": null,
            "overflow": null,
            "overflow_x": null,
            "overflow_y": null,
            "padding": null,
            "right": null,
            "top": null,
            "visibility": null,
            "width": null
          }
        },
        "c4ff4ccc8c184a969530dee098096f76": {
          "model_module": "@jupyter-widgets/controls",
          "model_name": "DescriptionStyleModel",
          "model_module_version": "1.5.0",
          "state": {
            "_model_module": "@jupyter-widgets/controls",
            "_model_module_version": "1.5.0",
            "_model_name": "DescriptionStyleModel",
            "_view_count": null,
            "_view_module": "@jupyter-widgets/base",
            "_view_module_version": "1.2.0",
            "_view_name": "StyleView",
            "description_width": ""
          }
        }
      }
    }
  },
  "cells": [
    {
      "cell_type": "code",
      "execution_count": 1,
      "metadata": {
        "id": "mqVCcKlAs_ED",
        "colab": {
          "base_uri": "https://localhost:8080/"
        },
        "outputId": "a08e4a33-be2d-4548-f1f6-aead9527a01c"
      },
      "outputs": [
        {
          "output_type": "stream",
          "name": "stderr",
          "text": [
            "[nltk_data] Downloading collection 'all'\n",
            "[nltk_data]    | \n",
            "[nltk_data]    | Downloading package abc to /root/nltk_data...\n",
            "[nltk_data]    |   Unzipping corpora/abc.zip.\n",
            "[nltk_data]    | Downloading package alpino to /root/nltk_data...\n",
            "[nltk_data]    |   Unzipping corpora/alpino.zip.\n",
            "[nltk_data]    | Downloading package averaged_perceptron_tagger to\n",
            "[nltk_data]    |     /root/nltk_data...\n",
            "[nltk_data]    |   Unzipping taggers/averaged_perceptron_tagger.zip.\n",
            "[nltk_data]    | Downloading package averaged_perceptron_tagger_ru to\n",
            "[nltk_data]    |     /root/nltk_data...\n",
            "[nltk_data]    |   Unzipping\n",
            "[nltk_data]    |       taggers/averaged_perceptron_tagger_ru.zip.\n",
            "[nltk_data]    | Downloading package basque_grammars to\n",
            "[nltk_data]    |     /root/nltk_data...\n",
            "[nltk_data]    |   Unzipping grammars/basque_grammars.zip.\n",
            "[nltk_data]    | Downloading package biocreative_ppi to\n",
            "[nltk_data]    |     /root/nltk_data...\n",
            "[nltk_data]    |   Unzipping corpora/biocreative_ppi.zip.\n",
            "[nltk_data]    | Downloading package bllip_wsj_no_aux to\n",
            "[nltk_data]    |     /root/nltk_data...\n",
            "[nltk_data]    |   Unzipping models/bllip_wsj_no_aux.zip.\n",
            "[nltk_data]    | Downloading package book_grammars to\n",
            "[nltk_data]    |     /root/nltk_data...\n",
            "[nltk_data]    |   Unzipping grammars/book_grammars.zip.\n",
            "[nltk_data]    | Downloading package brown to /root/nltk_data...\n",
            "[nltk_data]    |   Unzipping corpora/brown.zip.\n",
            "[nltk_data]    | Downloading package brown_tei to /root/nltk_data...\n",
            "[nltk_data]    |   Unzipping corpora/brown_tei.zip.\n",
            "[nltk_data]    | Downloading package cess_cat to /root/nltk_data...\n",
            "[nltk_data]    |   Unzipping corpora/cess_cat.zip.\n",
            "[nltk_data]    | Downloading package cess_esp to /root/nltk_data...\n",
            "[nltk_data]    |   Unzipping corpora/cess_esp.zip.\n",
            "[nltk_data]    | Downloading package chat80 to /root/nltk_data...\n",
            "[nltk_data]    |   Unzipping corpora/chat80.zip.\n",
            "[nltk_data]    | Downloading package city_database to\n",
            "[nltk_data]    |     /root/nltk_data...\n",
            "[nltk_data]    |   Unzipping corpora/city_database.zip.\n",
            "[nltk_data]    | Downloading package cmudict to /root/nltk_data...\n",
            "[nltk_data]    |   Unzipping corpora/cmudict.zip.\n",
            "[nltk_data]    | Downloading package comparative_sentences to\n",
            "[nltk_data]    |     /root/nltk_data...\n",
            "[nltk_data]    |   Unzipping corpora/comparative_sentences.zip.\n",
            "[nltk_data]    | Downloading package comtrans to /root/nltk_data...\n",
            "[nltk_data]    | Downloading package conll2000 to /root/nltk_data...\n",
            "[nltk_data]    |   Unzipping corpora/conll2000.zip.\n",
            "[nltk_data]    | Downloading package conll2002 to /root/nltk_data...\n",
            "[nltk_data]    |   Unzipping corpora/conll2002.zip.\n",
            "[nltk_data]    | Downloading package conll2007 to /root/nltk_data...\n",
            "[nltk_data]    | Downloading package crubadan to /root/nltk_data...\n",
            "[nltk_data]    |   Unzipping corpora/crubadan.zip.\n",
            "[nltk_data]    | Downloading package dependency_treebank to\n",
            "[nltk_data]    |     /root/nltk_data...\n",
            "[nltk_data]    |   Unzipping corpora/dependency_treebank.zip.\n",
            "[nltk_data]    | Downloading package dolch to /root/nltk_data...\n",
            "[nltk_data]    |   Unzipping corpora/dolch.zip.\n",
            "[nltk_data]    | Downloading package europarl_raw to\n",
            "[nltk_data]    |     /root/nltk_data...\n",
            "[nltk_data]    |   Unzipping corpora/europarl_raw.zip.\n",
            "[nltk_data]    | Downloading package extended_omw to\n",
            "[nltk_data]    |     /root/nltk_data...\n",
            "[nltk_data]    | Downloading package floresta to /root/nltk_data...\n",
            "[nltk_data]    |   Unzipping corpora/floresta.zip.\n",
            "[nltk_data]    | Downloading package framenet_v15 to\n",
            "[nltk_data]    |     /root/nltk_data...\n",
            "[nltk_data]    |   Unzipping corpora/framenet_v15.zip.\n",
            "[nltk_data]    | Downloading package framenet_v17 to\n",
            "[nltk_data]    |     /root/nltk_data...\n",
            "[nltk_data]    |   Unzipping corpora/framenet_v17.zip.\n",
            "[nltk_data]    | Downloading package gazetteers to /root/nltk_data...\n",
            "[nltk_data]    |   Unzipping corpora/gazetteers.zip.\n",
            "[nltk_data]    | Downloading package genesis to /root/nltk_data...\n",
            "[nltk_data]    |   Unzipping corpora/genesis.zip.\n",
            "[nltk_data]    | Downloading package gutenberg to /root/nltk_data...\n",
            "[nltk_data]    |   Unzipping corpora/gutenberg.zip.\n",
            "[nltk_data]    | Downloading package ieer to /root/nltk_data...\n",
            "[nltk_data]    |   Unzipping corpora/ieer.zip.\n",
            "[nltk_data]    | Downloading package inaugural to /root/nltk_data...\n",
            "[nltk_data]    |   Unzipping corpora/inaugural.zip.\n",
            "[nltk_data]    | Downloading package indian to /root/nltk_data...\n",
            "[nltk_data]    |   Unzipping corpora/indian.zip.\n",
            "[nltk_data]    | Downloading package jeita to /root/nltk_data...\n",
            "[nltk_data]    | Downloading package kimmo to /root/nltk_data...\n",
            "[nltk_data]    |   Unzipping corpora/kimmo.zip.\n",
            "[nltk_data]    | Downloading package knbc to /root/nltk_data...\n",
            "[nltk_data]    | Downloading package large_grammars to\n",
            "[nltk_data]    |     /root/nltk_data...\n",
            "[nltk_data]    |   Unzipping grammars/large_grammars.zip.\n",
            "[nltk_data]    | Downloading package lin_thesaurus to\n",
            "[nltk_data]    |     /root/nltk_data...\n",
            "[nltk_data]    |   Unzipping corpora/lin_thesaurus.zip.\n",
            "[nltk_data]    | Downloading package mac_morpho to /root/nltk_data...\n",
            "[nltk_data]    |   Unzipping corpora/mac_morpho.zip.\n",
            "[nltk_data]    | Downloading package machado to /root/nltk_data...\n",
            "[nltk_data]    | Downloading package masc_tagged to /root/nltk_data...\n",
            "[nltk_data]    | Downloading package maxent_ne_chunker to\n",
            "[nltk_data]    |     /root/nltk_data...\n",
            "[nltk_data]    |   Unzipping chunkers/maxent_ne_chunker.zip.\n",
            "[nltk_data]    | Downloading package maxent_treebank_pos_tagger to\n",
            "[nltk_data]    |     /root/nltk_data...\n",
            "[nltk_data]    |   Unzipping taggers/maxent_treebank_pos_tagger.zip.\n",
            "[nltk_data]    | Downloading package moses_sample to\n",
            "[nltk_data]    |     /root/nltk_data...\n",
            "[nltk_data]    |   Unzipping models/moses_sample.zip.\n",
            "[nltk_data]    | Downloading package movie_reviews to\n",
            "[nltk_data]    |     /root/nltk_data...\n",
            "[nltk_data]    |   Unzipping corpora/movie_reviews.zip.\n",
            "[nltk_data]    | Downloading package mte_teip5 to /root/nltk_data...\n",
            "[nltk_data]    |   Unzipping corpora/mte_teip5.zip.\n",
            "[nltk_data]    | Downloading package mwa_ppdb to /root/nltk_data...\n",
            "[nltk_data]    |   Unzipping misc/mwa_ppdb.zip.\n",
            "[nltk_data]    | Downloading package names to /root/nltk_data...\n",
            "[nltk_data]    |   Unzipping corpora/names.zip.\n",
            "[nltk_data]    | Downloading package nombank.1.0 to /root/nltk_data...\n",
            "[nltk_data]    | Downloading package nonbreaking_prefixes to\n",
            "[nltk_data]    |     /root/nltk_data...\n",
            "[nltk_data]    |   Unzipping corpora/nonbreaking_prefixes.zip.\n",
            "[nltk_data]    | Downloading package nps_chat to /root/nltk_data...\n",
            "[nltk_data]    |   Unzipping corpora/nps_chat.zip.\n",
            "[nltk_data]    | Downloading package omw to /root/nltk_data...\n",
            "[nltk_data]    | Downloading package omw-1.4 to /root/nltk_data...\n",
            "[nltk_data]    | Downloading package opinion_lexicon to\n",
            "[nltk_data]    |     /root/nltk_data...\n",
            "[nltk_data]    |   Unzipping corpora/opinion_lexicon.zip.\n",
            "[nltk_data]    | Downloading package panlex_swadesh to\n",
            "[nltk_data]    |     /root/nltk_data...\n",
            "[nltk_data]    | Downloading package paradigms to /root/nltk_data...\n",
            "[nltk_data]    |   Unzipping corpora/paradigms.zip.\n",
            "[nltk_data]    | Downloading package pe08 to /root/nltk_data...\n",
            "[nltk_data]    |   Unzipping corpora/pe08.zip.\n",
            "[nltk_data]    | Downloading package perluniprops to\n",
            "[nltk_data]    |     /root/nltk_data...\n",
            "[nltk_data]    |   Unzipping misc/perluniprops.zip.\n",
            "[nltk_data]    | Downloading package pil to /root/nltk_data...\n",
            "[nltk_data]    |   Unzipping corpora/pil.zip.\n",
            "[nltk_data]    | Downloading package pl196x to /root/nltk_data...\n",
            "[nltk_data]    |   Unzipping corpora/pl196x.zip.\n",
            "[nltk_data]    | Downloading package porter_test to /root/nltk_data...\n",
            "[nltk_data]    |   Unzipping stemmers/porter_test.zip.\n",
            "[nltk_data]    | Downloading package ppattach to /root/nltk_data...\n",
            "[nltk_data]    |   Unzipping corpora/ppattach.zip.\n",
            "[nltk_data]    | Downloading package problem_reports to\n",
            "[nltk_data]    |     /root/nltk_data...\n",
            "[nltk_data]    |   Unzipping corpora/problem_reports.zip.\n",
            "[nltk_data]    | Downloading package product_reviews_1 to\n",
            "[nltk_data]    |     /root/nltk_data...\n",
            "[nltk_data]    |   Unzipping corpora/product_reviews_1.zip.\n",
            "[nltk_data]    | Downloading package product_reviews_2 to\n",
            "[nltk_data]    |     /root/nltk_data...\n",
            "[nltk_data]    |   Unzipping corpora/product_reviews_2.zip.\n",
            "[nltk_data]    | Downloading package propbank to /root/nltk_data...\n",
            "[nltk_data]    | Downloading package pros_cons to /root/nltk_data...\n",
            "[nltk_data]    |   Unzipping corpora/pros_cons.zip.\n",
            "[nltk_data]    | Downloading package ptb to /root/nltk_data...\n",
            "[nltk_data]    |   Unzipping corpora/ptb.zip.\n",
            "[nltk_data]    | Downloading package punkt to /root/nltk_data...\n",
            "[nltk_data]    |   Unzipping tokenizers/punkt.zip.\n",
            "[nltk_data]    | Downloading package qc to /root/nltk_data...\n",
            "[nltk_data]    |   Unzipping corpora/qc.zip.\n",
            "[nltk_data]    | Downloading package reuters to /root/nltk_data...\n",
            "[nltk_data]    | Downloading package rslp to /root/nltk_data...\n",
            "[nltk_data]    |   Unzipping stemmers/rslp.zip.\n",
            "[nltk_data]    | Downloading package rte to /root/nltk_data...\n",
            "[nltk_data]    |   Unzipping corpora/rte.zip.\n",
            "[nltk_data]    | Downloading package sample_grammars to\n",
            "[nltk_data]    |     /root/nltk_data...\n",
            "[nltk_data]    |   Unzipping grammars/sample_grammars.zip.\n",
            "[nltk_data]    | Downloading package semcor to /root/nltk_data...\n",
            "[nltk_data]    | Downloading package senseval to /root/nltk_data...\n",
            "[nltk_data]    |   Unzipping corpora/senseval.zip.\n",
            "[nltk_data]    | Downloading package sentence_polarity to\n",
            "[nltk_data]    |     /root/nltk_data...\n",
            "[nltk_data]    |   Unzipping corpora/sentence_polarity.zip.\n",
            "[nltk_data]    | Downloading package sentiwordnet to\n",
            "[nltk_data]    |     /root/nltk_data...\n",
            "[nltk_data]    |   Unzipping corpora/sentiwordnet.zip.\n",
            "[nltk_data]    | Downloading package shakespeare to /root/nltk_data...\n",
            "[nltk_data]    |   Unzipping corpora/shakespeare.zip.\n",
            "[nltk_data]    | Downloading package sinica_treebank to\n",
            "[nltk_data]    |     /root/nltk_data...\n",
            "[nltk_data]    |   Unzipping corpora/sinica_treebank.zip.\n",
            "[nltk_data]    | Downloading package smultron to /root/nltk_data...\n",
            "[nltk_data]    |   Unzipping corpora/smultron.zip.\n",
            "[nltk_data]    | Downloading package snowball_data to\n",
            "[nltk_data]    |     /root/nltk_data...\n",
            "[nltk_data]    | Downloading package spanish_grammars to\n",
            "[nltk_data]    |     /root/nltk_data...\n",
            "[nltk_data]    |   Unzipping grammars/spanish_grammars.zip.\n",
            "[nltk_data]    | Downloading package state_union to /root/nltk_data...\n",
            "[nltk_data]    |   Unzipping corpora/state_union.zip.\n",
            "[nltk_data]    | Downloading package stopwords to /root/nltk_data...\n",
            "[nltk_data]    |   Unzipping corpora/stopwords.zip.\n",
            "[nltk_data]    | Downloading package subjectivity to\n",
            "[nltk_data]    |     /root/nltk_data...\n",
            "[nltk_data]    |   Unzipping corpora/subjectivity.zip.\n",
            "[nltk_data]    | Downloading package swadesh to /root/nltk_data...\n",
            "[nltk_data]    |   Unzipping corpora/swadesh.zip.\n",
            "[nltk_data]    | Downloading package switchboard to /root/nltk_data...\n",
            "[nltk_data]    |   Unzipping corpora/switchboard.zip.\n",
            "[nltk_data]    | Downloading package tagsets to /root/nltk_data...\n",
            "[nltk_data]    |   Unzipping help/tagsets.zip.\n",
            "[nltk_data]    | Downloading package timit to /root/nltk_data...\n",
            "[nltk_data]    |   Unzipping corpora/timit.zip.\n",
            "[nltk_data]    | Downloading package toolbox to /root/nltk_data...\n",
            "[nltk_data]    |   Unzipping corpora/toolbox.zip.\n",
            "[nltk_data]    | Downloading package treebank to /root/nltk_data...\n",
            "[nltk_data]    |   Unzipping corpora/treebank.zip.\n",
            "[nltk_data]    | Downloading package twitter_samples to\n",
            "[nltk_data]    |     /root/nltk_data...\n",
            "[nltk_data]    |   Unzipping corpora/twitter_samples.zip.\n",
            "[nltk_data]    | Downloading package udhr to /root/nltk_data...\n",
            "[nltk_data]    |   Unzipping corpora/udhr.zip.\n",
            "[nltk_data]    | Downloading package udhr2 to /root/nltk_data...\n",
            "[nltk_data]    |   Unzipping corpora/udhr2.zip.\n",
            "[nltk_data]    | Downloading package unicode_samples to\n",
            "[nltk_data]    |     /root/nltk_data...\n",
            "[nltk_data]    |   Unzipping corpora/unicode_samples.zip.\n",
            "[nltk_data]    | Downloading package universal_tagset to\n",
            "[nltk_data]    |     /root/nltk_data...\n",
            "[nltk_data]    |   Unzipping taggers/universal_tagset.zip.\n",
            "[nltk_data]    | Downloading package universal_treebanks_v20 to\n",
            "[nltk_data]    |     /root/nltk_data...\n",
            "[nltk_data]    | Downloading package vader_lexicon to\n",
            "[nltk_data]    |     /root/nltk_data...\n",
            "[nltk_data]    | Downloading package verbnet to /root/nltk_data...\n",
            "[nltk_data]    |   Unzipping corpora/verbnet.zip.\n",
            "[nltk_data]    | Downloading package verbnet3 to /root/nltk_data...\n",
            "[nltk_data]    |   Unzipping corpora/verbnet3.zip.\n",
            "[nltk_data]    | Downloading package webtext to /root/nltk_data...\n",
            "[nltk_data]    |   Unzipping corpora/webtext.zip.\n",
            "[nltk_data]    | Downloading package wmt15_eval to /root/nltk_data...\n",
            "[nltk_data]    |   Unzipping models/wmt15_eval.zip.\n",
            "[nltk_data]    | Downloading package word2vec_sample to\n",
            "[nltk_data]    |     /root/nltk_data...\n",
            "[nltk_data]    |   Unzipping models/word2vec_sample.zip.\n",
            "[nltk_data]    | Downloading package wordnet to /root/nltk_data...\n",
            "[nltk_data]    | Downloading package wordnet2021 to /root/nltk_data...\n",
            "[nltk_data]    | Downloading package wordnet31 to /root/nltk_data...\n",
            "[nltk_data]    | Downloading package wordnet_ic to /root/nltk_data...\n",
            "[nltk_data]    |   Unzipping corpora/wordnet_ic.zip.\n",
            "[nltk_data]    | Downloading package words to /root/nltk_data...\n",
            "[nltk_data]    |   Unzipping corpora/words.zip.\n",
            "[nltk_data]    | Downloading package ycoe to /root/nltk_data...\n",
            "[nltk_data]    |   Unzipping corpora/ycoe.zip.\n",
            "[nltk_data]    | \n",
            "[nltk_data]  Done downloading collection all\n"
          ]
        }
      ],
      "source": [
        "#importing the libraries for matrix and dataframe handling, plotting, etc \n",
        "import os\n",
        "import numpy as np\n",
        "import pandas as pd\n",
        "import seaborn as sns\n",
        "import matplotlib.pyplot as plt\n",
        "%matplotlib inline\n",
        "\n",
        "#miscellaneous libraries used\n",
        "import re\n",
        "import itertools\n",
        "from collections import Counter\n",
        "from sys import maxsize\n",
        "import math\n",
        "import warnings\n",
        "warnings.filterwarnings(\"ignore\")\n",
        "\n",
        "#importing the NLP and Data Visualisation related libraries\n",
        "import string\n",
        "from string import ascii_letters, punctuation, digits\n",
        "import nltk\n",
        "nltk.download('all')\n",
        "from nltk.corpus import stopwords\n",
        "from nltk.stem import WordNetLemmatizer\n",
        "from nltk.stem.porter import PorterStemmer\n",
        "from nltk.tokenize import word_tokenize\n",
        "from wordcloud import WordCloud, STOPWORDS\n",
        "from textblob import TextBlob\n",
        "from sklearn.feature_extraction.text import CountVectorizer, TfidfVectorizer"
      ]
    },
    {
      "cell_type": "markdown",
      "source": [
        "# Loading Dataset From Kaggle "
      ],
      "metadata": {
        "id": "sIxFpgK2tTGT"
      }
    },
    {
      "cell_type": "code",
      "source": [
        "!pip uninstall -y kaggle\n",
        "!pip install --upgrade pip\n",
        "!pip install kaggle==1.5.6"
      ],
      "metadata": {
        "id": "GU96Jo71tSiJ",
        "colab": {
          "base_uri": "https://localhost:8080/"
        },
        "outputId": "56d34c7c-a60c-4538-93a1-052144f8fb02"
      },
      "execution_count": 2,
      "outputs": [
        {
          "output_type": "stream",
          "name": "stdout",
          "text": [
            "Found existing installation: kaggle 1.5.12\n",
            "Uninstalling kaggle-1.5.12:\n",
            "  Successfully uninstalled kaggle-1.5.12\n",
            "Looking in indexes: https://pypi.org/simple, https://us-python.pkg.dev/colab-wheels/public/simple/\n",
            "Requirement already satisfied: pip in /usr/local/lib/python3.7/dist-packages (21.1.3)\n",
            "Collecting pip\n",
            "  Downloading pip-22.2.2-py3-none-any.whl (2.0 MB)\n",
            "\u001b[K     |████████████████████████████████| 2.0 MB 28.6 MB/s \n",
            "\u001b[?25hInstalling collected packages: pip\n",
            "  Attempting uninstall: pip\n",
            "    Found existing installation: pip 21.1.3\n",
            "    Uninstalling pip-21.1.3:\n",
            "      Successfully uninstalled pip-21.1.3\n",
            "Successfully installed pip-22.2.2\n",
            "Looking in indexes: https://pypi.org/simple, https://us-python.pkg.dev/colab-wheels/public/simple/\n",
            "Collecting kaggle==1.5.6\n",
            "  Downloading kaggle-1.5.6.tar.gz (58 kB)\n",
            "\u001b[2K     \u001b[90m━━━━━━━━━━━━━━━━━━━━━━━━━━━━━━━━━━━━━━━━\u001b[0m \u001b[32m58.2/58.2 kB\u001b[0m \u001b[31m7.5 MB/s\u001b[0m eta \u001b[36m0:00:00\u001b[0m\n",
            "\u001b[?25h  Preparing metadata (setup.py) ... \u001b[?25l\u001b[?25hdone\n",
            "Requirement already satisfied: urllib3<1.25,>=1.21.1 in /usr/local/lib/python3.7/dist-packages (from kaggle==1.5.6) (1.24.3)\n",
            "Requirement already satisfied: six>=1.10 in /usr/local/lib/python3.7/dist-packages (from kaggle==1.5.6) (1.15.0)\n",
            "Requirement already satisfied: certifi in /usr/local/lib/python3.7/dist-packages (from kaggle==1.5.6) (2022.6.15)\n",
            "Requirement already satisfied: python-dateutil in /usr/local/lib/python3.7/dist-packages (from kaggle==1.5.6) (2.8.2)\n",
            "Requirement already satisfied: requests in /usr/local/lib/python3.7/dist-packages (from kaggle==1.5.6) (2.23.0)\n",
            "Requirement already satisfied: tqdm in /usr/local/lib/python3.7/dist-packages (from kaggle==1.5.6) (4.64.1)\n",
            "Requirement already satisfied: python-slugify in /usr/local/lib/python3.7/dist-packages (from kaggle==1.5.6) (6.1.2)\n",
            "Requirement already satisfied: text-unidecode>=1.3 in /usr/local/lib/python3.7/dist-packages (from python-slugify->kaggle==1.5.6) (1.3)\n",
            "Requirement already satisfied: idna<3,>=2.5 in /usr/local/lib/python3.7/dist-packages (from requests->kaggle==1.5.6) (2.10)\n",
            "Requirement already satisfied: chardet<4,>=3.0.2 in /usr/local/lib/python3.7/dist-packages (from requests->kaggle==1.5.6) (3.0.4)\n",
            "Building wheels for collected packages: kaggle\n",
            "  Building wheel for kaggle (setup.py) ... \u001b[?25l\u001b[?25hdone\n",
            "  Created wheel for kaggle: filename=kaggle-1.5.6-py3-none-any.whl size=72858 sha256=08fc904b9b993b19eefaf5067ea989179158653cd5c0bdfab69a3b6bdad22a45\n",
            "  Stored in directory: /root/.cache/pip/wheels/aa/e7/e7/eb3c3d514c33294d77ddd5a856bdd58dc9c1fabbed59a02a2b\n",
            "Successfully built kaggle\n",
            "Installing collected packages: kaggle\n",
            "Successfully installed kaggle-1.5.6\n",
            "\u001b[33mWARNING: Running pip as the 'root' user can result in broken permissions and conflicting behaviour with the system package manager. It is recommended to use a virtual environment instead: https://pip.pypa.io/warnings/venv\u001b[0m\u001b[33m\n",
            "\u001b[0m"
          ]
        }
      ]
    },
    {
      "cell_type": "code",
      "source": [
        "os.environ['KAGGLE_USERNAME'] = \"KAGGLE_USERNAME\" # username from the json file\n",
        "os.environ['KAGGLE_KEY'] = \"KAGGLE_KEY\" # Provide your key from the json file\n",
        "!kaggle datasets download -d saurabhshahane/ecommerce-text-classification"
      ],
      "metadata": {
        "id": "Fo_HfdB0tb58",
        "colab": {
          "base_uri": "https://localhost:8080/"
        },
        "outputId": "26d4746b-a005-45dd-d11f-45dbdf760a9a"
      },
      "execution_count": 3,
      "outputs": [
        {
          "output_type": "stream",
          "name": "stdout",
          "text": [
            "Downloading ecommerce-text-classification.zip to /content\n",
            " 64% 5.00M/7.86M [00:00<00:00, 14.1MB/s]\n",
            "100% 7.86M/7.86M [00:00<00:00, 21.7MB/s]\n"
          ]
        }
      ]
    },
    {
      "cell_type": "code",
      "source": [
        "from zipfile import ZipFile\n",
        "\n",
        "file_name = \"/content/ecommerce-text-classification.zip\"\n",
        "\n",
        "with ZipFile(file_name, 'r') as zip:\n",
        "  zip.extractall()\n",
        "  print('done')"
      ],
      "metadata": {
        "id": "A0AoLceTtf35",
        "colab": {
          "base_uri": "https://localhost:8080/"
        },
        "outputId": "736413d3-34fc-4d9d-e4d6-deec7b697d52"
      },
      "execution_count": 4,
      "outputs": [
        {
          "output_type": "stream",
          "name": "stdout",
          "text": [
            "done\n"
          ]
        }
      ]
    },
    {
      "cell_type": "code",
      "source": [
        "dataset = pd.read_csv('ecommerceDataset.csv', header = None)\n",
        "dataset.columns = ['labels', 'text']\n",
        "dataset.head(15)"
      ],
      "metadata": {
        "id": "25DRIhOztgVN",
        "colab": {
          "base_uri": "https://localhost:8080/",
          "height": 520
        },
        "outputId": "3b4df69b-d5ac-4cb7-ad46-ee917b406809"
      },
      "execution_count": 5,
      "outputs": [
        {
          "output_type": "execute_result",
          "data": {
            "text/plain": [
              "       labels                                               text\n",
              "0   Household  Paper Plane Design Framed Wall Hanging Motivat...\n",
              "1   Household  SAF 'Floral' Framed Painting (Wood, 30 inch x ...\n",
              "2   Household  SAF 'UV Textured Modern Art Print Framed' Pain...\n",
              "3   Household  SAF Flower Print Framed Painting (Synthetic, 1...\n",
              "4   Household  Incredible Gifts India Wooden Happy Birthday U...\n",
              "5   Household  Pitaara Box Romantic Venice Canvas Painting 6m...\n",
              "6   Household  Paper Plane Design Starry Night Vangoh Wall Ar...\n",
              "7   Household  Pitaara Box Romantic Venice Canvas Painting 6m...\n",
              "8   Household  SAF 'Ganesh Modern Art Print' Painting (Synthe...\n",
              "9   Household  Paintings Villa UV Textured Modern Art Print F...\n",
              "10  Household  Painting Mantra Art Street - Jardin Bird Frame...\n",
              "11  Household  Paper Plane Design Starry Night Vangoh Wall Ar...\n",
              "12  Household  Pitaara Box Romantic Venice Canvas Painting 6m...\n",
              "13  Household  Painting Mantra 'Vintage Car' Art Printing Set...\n",
              "14  Household  Indianara Motivational Square Synthetic Wood A..."
            ],
            "text/html": [
              "\n",
              "  <div id=\"df-5183dfbd-13e3-48c8-89cb-462703236e99\">\n",
              "    <div class=\"colab-df-container\">\n",
              "      <div>\n",
              "<style scoped>\n",
              "    .dataframe tbody tr th:only-of-type {\n",
              "        vertical-align: middle;\n",
              "    }\n",
              "\n",
              "    .dataframe tbody tr th {\n",
              "        vertical-align: top;\n",
              "    }\n",
              "\n",
              "    .dataframe thead th {\n",
              "        text-align: right;\n",
              "    }\n",
              "</style>\n",
              "<table border=\"1\" class=\"dataframe\">\n",
              "  <thead>\n",
              "    <tr style=\"text-align: right;\">\n",
              "      <th></th>\n",
              "      <th>labels</th>\n",
              "      <th>text</th>\n",
              "    </tr>\n",
              "  </thead>\n",
              "  <tbody>\n",
              "    <tr>\n",
              "      <th>0</th>\n",
              "      <td>Household</td>\n",
              "      <td>Paper Plane Design Framed Wall Hanging Motivat...</td>\n",
              "    </tr>\n",
              "    <tr>\n",
              "      <th>1</th>\n",
              "      <td>Household</td>\n",
              "      <td>SAF 'Floral' Framed Painting (Wood, 30 inch x ...</td>\n",
              "    </tr>\n",
              "    <tr>\n",
              "      <th>2</th>\n",
              "      <td>Household</td>\n",
              "      <td>SAF 'UV Textured Modern Art Print Framed' Pain...</td>\n",
              "    </tr>\n",
              "    <tr>\n",
              "      <th>3</th>\n",
              "      <td>Household</td>\n",
              "      <td>SAF Flower Print Framed Painting (Synthetic, 1...</td>\n",
              "    </tr>\n",
              "    <tr>\n",
              "      <th>4</th>\n",
              "      <td>Household</td>\n",
              "      <td>Incredible Gifts India Wooden Happy Birthday U...</td>\n",
              "    </tr>\n",
              "    <tr>\n",
              "      <th>5</th>\n",
              "      <td>Household</td>\n",
              "      <td>Pitaara Box Romantic Venice Canvas Painting 6m...</td>\n",
              "    </tr>\n",
              "    <tr>\n",
              "      <th>6</th>\n",
              "      <td>Household</td>\n",
              "      <td>Paper Plane Design Starry Night Vangoh Wall Ar...</td>\n",
              "    </tr>\n",
              "    <tr>\n",
              "      <th>7</th>\n",
              "      <td>Household</td>\n",
              "      <td>Pitaara Box Romantic Venice Canvas Painting 6m...</td>\n",
              "    </tr>\n",
              "    <tr>\n",
              "      <th>8</th>\n",
              "      <td>Household</td>\n",
              "      <td>SAF 'Ganesh Modern Art Print' Painting (Synthe...</td>\n",
              "    </tr>\n",
              "    <tr>\n",
              "      <th>9</th>\n",
              "      <td>Household</td>\n",
              "      <td>Paintings Villa UV Textured Modern Art Print F...</td>\n",
              "    </tr>\n",
              "    <tr>\n",
              "      <th>10</th>\n",
              "      <td>Household</td>\n",
              "      <td>Painting Mantra Art Street - Jardin Bird Frame...</td>\n",
              "    </tr>\n",
              "    <tr>\n",
              "      <th>11</th>\n",
              "      <td>Household</td>\n",
              "      <td>Paper Plane Design Starry Night Vangoh Wall Ar...</td>\n",
              "    </tr>\n",
              "    <tr>\n",
              "      <th>12</th>\n",
              "      <td>Household</td>\n",
              "      <td>Pitaara Box Romantic Venice Canvas Painting 6m...</td>\n",
              "    </tr>\n",
              "    <tr>\n",
              "      <th>13</th>\n",
              "      <td>Household</td>\n",
              "      <td>Painting Mantra 'Vintage Car' Art Printing Set...</td>\n",
              "    </tr>\n",
              "    <tr>\n",
              "      <th>14</th>\n",
              "      <td>Household</td>\n",
              "      <td>Indianara Motivational Square Synthetic Wood A...</td>\n",
              "    </tr>\n",
              "  </tbody>\n",
              "</table>\n",
              "</div>\n",
              "      <button class=\"colab-df-convert\" onclick=\"convertToInteractive('df-5183dfbd-13e3-48c8-89cb-462703236e99')\"\n",
              "              title=\"Convert this dataframe to an interactive table.\"\n",
              "              style=\"display:none;\">\n",
              "        \n",
              "  <svg xmlns=\"http://www.w3.org/2000/svg\" height=\"24px\"viewBox=\"0 0 24 24\"\n",
              "       width=\"24px\">\n",
              "    <path d=\"M0 0h24v24H0V0z\" fill=\"none\"/>\n",
              "    <path d=\"M18.56 5.44l.94 2.06.94-2.06 2.06-.94-2.06-.94-.94-2.06-.94 2.06-2.06.94zm-11 1L8.5 8.5l.94-2.06 2.06-.94-2.06-.94L8.5 2.5l-.94 2.06-2.06.94zm10 10l.94 2.06.94-2.06 2.06-.94-2.06-.94-.94-2.06-.94 2.06-2.06.94z\"/><path d=\"M17.41 7.96l-1.37-1.37c-.4-.4-.92-.59-1.43-.59-.52 0-1.04.2-1.43.59L10.3 9.45l-7.72 7.72c-.78.78-.78 2.05 0 2.83L4 21.41c.39.39.9.59 1.41.59.51 0 1.02-.2 1.41-.59l7.78-7.78 2.81-2.81c.8-.78.8-2.07 0-2.86zM5.41 20L4 18.59l7.72-7.72 1.47 1.35L5.41 20z\"/>\n",
              "  </svg>\n",
              "      </button>\n",
              "      \n",
              "  <style>\n",
              "    .colab-df-container {\n",
              "      display:flex;\n",
              "      flex-wrap:wrap;\n",
              "      gap: 12px;\n",
              "    }\n",
              "\n",
              "    .colab-df-convert {\n",
              "      background-color: #E8F0FE;\n",
              "      border: none;\n",
              "      border-radius: 50%;\n",
              "      cursor: pointer;\n",
              "      display: none;\n",
              "      fill: #1967D2;\n",
              "      height: 32px;\n",
              "      padding: 0 0 0 0;\n",
              "      width: 32px;\n",
              "    }\n",
              "\n",
              "    .colab-df-convert:hover {\n",
              "      background-color: #E2EBFA;\n",
              "      box-shadow: 0px 1px 2px rgba(60, 64, 67, 0.3), 0px 1px 3px 1px rgba(60, 64, 67, 0.15);\n",
              "      fill: #174EA6;\n",
              "    }\n",
              "\n",
              "    [theme=dark] .colab-df-convert {\n",
              "      background-color: #3B4455;\n",
              "      fill: #D2E3FC;\n",
              "    }\n",
              "\n",
              "    [theme=dark] .colab-df-convert:hover {\n",
              "      background-color: #434B5C;\n",
              "      box-shadow: 0px 1px 3px 1px rgba(0, 0, 0, 0.15);\n",
              "      filter: drop-shadow(0px 1px 2px rgba(0, 0, 0, 0.3));\n",
              "      fill: #FFFFFF;\n",
              "    }\n",
              "  </style>\n",
              "\n",
              "      <script>\n",
              "        const buttonEl =\n",
              "          document.querySelector('#df-5183dfbd-13e3-48c8-89cb-462703236e99 button.colab-df-convert');\n",
              "        buttonEl.style.display =\n",
              "          google.colab.kernel.accessAllowed ? 'block' : 'none';\n",
              "\n",
              "        async function convertToInteractive(key) {\n",
              "          const element = document.querySelector('#df-5183dfbd-13e3-48c8-89cb-462703236e99');\n",
              "          const dataTable =\n",
              "            await google.colab.kernel.invokeFunction('convertToInteractive',\n",
              "                                                     [key], {});\n",
              "          if (!dataTable) return;\n",
              "\n",
              "          const docLinkHtml = 'Like what you see? Visit the ' +\n",
              "            '<a target=\"_blank\" href=https://colab.research.google.com/notebooks/data_table.ipynb>data table notebook</a>'\n",
              "            + ' to learn more about interactive tables.';\n",
              "          element.innerHTML = '';\n",
              "          dataTable['output_type'] = 'display_data';\n",
              "          await google.colab.output.renderOutput(dataTable, element);\n",
              "          const docLink = document.createElement('div');\n",
              "          docLink.innerHTML = docLinkHtml;\n",
              "          element.appendChild(docLink);\n",
              "        }\n",
              "      </script>\n",
              "    </div>\n",
              "  </div>\n",
              "  "
            ]
          },
          "metadata": {},
          "execution_count": 5
        }
      ]
    },
    {
      "cell_type": "code",
      "source": [
        "dataset.shape"
      ],
      "metadata": {
        "id": "08c7RtyNtrB5",
        "colab": {
          "base_uri": "https://localhost:8080/"
        },
        "outputId": "2b34747c-552b-4ad8-91b5-329f5837e691"
      },
      "execution_count": 6,
      "outputs": [
        {
          "output_type": "execute_result",
          "data": {
            "text/plain": [
              "(50425, 2)"
            ]
          },
          "metadata": {},
          "execution_count": 6
        }
      ]
    },
    {
      "cell_type": "code",
      "source": [
        "dataset.info()"
      ],
      "metadata": {
        "id": "rLMyy7PjtsCu",
        "colab": {
          "base_uri": "https://localhost:8080/"
        },
        "outputId": "4595528a-788c-43cc-99c0-711efba48b85"
      },
      "execution_count": 7,
      "outputs": [
        {
          "output_type": "stream",
          "name": "stdout",
          "text": [
            "<class 'pandas.core.frame.DataFrame'>\n",
            "RangeIndex: 50425 entries, 0 to 50424\n",
            "Data columns (total 2 columns):\n",
            " #   Column  Non-Null Count  Dtype \n",
            "---  ------  --------------  ----- \n",
            " 0   labels  50425 non-null  object\n",
            " 1   text    50424 non-null  object\n",
            "dtypes: object(2)\n",
            "memory usage: 788.0+ KB\n"
          ]
        }
      ]
    },
    {
      "cell_type": "markdown",
      "source": [
        "droping NAN values"
      ],
      "metadata": {
        "id": "nvKV4fMEtzdD"
      }
    },
    {
      "cell_type": "code",
      "source": [
        "print(dataset.isna().sum())\n",
        "dataset = dataset.dropna()"
      ],
      "metadata": {
        "id": "3V0JtvSet1s0",
        "colab": {
          "base_uri": "https://localhost:8080/"
        },
        "outputId": "51a2d77c-9553-4ede-e5a5-39428e189434"
      },
      "execution_count": 8,
      "outputs": [
        {
          "output_type": "stream",
          "name": "stdout",
          "text": [
            "labels    0\n",
            "text      1\n",
            "dtype: int64\n"
          ]
        }
      ]
    },
    {
      "cell_type": "markdown",
      "source": [
        "Only 'text' column has important information which will be used for classification"
      ],
      "metadata": {
        "id": "zrWeSNLYuK5q"
      }
    },
    {
      "cell_type": "code",
      "source": [
        "#dropping the datapoints with duplicate descriptions\n",
        "dataset = dataset.drop_duplicates(\"text\",keep='first', inplace=False, ignore_index=True)\n",
        "dataset = dataset.reset_index(drop=True)\n",
        "dataset"
      ],
      "metadata": {
        "id": "me20k59CuHxu",
        "colab": {
          "base_uri": "https://localhost:8080/",
          "height": 424
        },
        "outputId": "0c33639a-2e8b-487e-9a43-07791c44a62c"
      },
      "execution_count": 9,
      "outputs": [
        {
          "output_type": "execute_result",
          "data": {
            "text/plain": [
              "            labels                                               text\n",
              "0        Household  Paper Plane Design Framed Wall Hanging Motivat...\n",
              "1        Household  SAF 'Floral' Framed Painting (Wood, 30 inch x ...\n",
              "2        Household  SAF 'UV Textured Modern Art Print Framed' Pain...\n",
              "3        Household  SAF Flower Print Framed Painting (Synthetic, 1...\n",
              "4        Household  Incredible Gifts India Wooden Happy Birthday U...\n",
              "...            ...                                                ...\n",
              "27797  Electronics  Micromax Bharat 5 Plus Zero impact on visual d...\n",
              "27798  Electronics  Microsoft Lumia 550 8GB 4G Black Microsoft lum...\n",
              "27799  Electronics  Microsoft Lumia 535 (Black, 8GB) Colour:Black ...\n",
              "27800  Electronics  Karbonn Titanium Wind W4 (White) Karbonn Titan...\n",
              "27801  Electronics  Nokia Lumia 530 (Dual SIM, Grey) Colour:Grey  ...\n",
              "\n",
              "[27802 rows x 2 columns]"
            ],
            "text/html": [
              "\n",
              "  <div id=\"df-50e7fb9b-0ff8-4a45-9945-4e3a7b5a1ec1\">\n",
              "    <div class=\"colab-df-container\">\n",
              "      <div>\n",
              "<style scoped>\n",
              "    .dataframe tbody tr th:only-of-type {\n",
              "        vertical-align: middle;\n",
              "    }\n",
              "\n",
              "    .dataframe tbody tr th {\n",
              "        vertical-align: top;\n",
              "    }\n",
              "\n",
              "    .dataframe thead th {\n",
              "        text-align: right;\n",
              "    }\n",
              "</style>\n",
              "<table border=\"1\" class=\"dataframe\">\n",
              "  <thead>\n",
              "    <tr style=\"text-align: right;\">\n",
              "      <th></th>\n",
              "      <th>labels</th>\n",
              "      <th>text</th>\n",
              "    </tr>\n",
              "  </thead>\n",
              "  <tbody>\n",
              "    <tr>\n",
              "      <th>0</th>\n",
              "      <td>Household</td>\n",
              "      <td>Paper Plane Design Framed Wall Hanging Motivat...</td>\n",
              "    </tr>\n",
              "    <tr>\n",
              "      <th>1</th>\n",
              "      <td>Household</td>\n",
              "      <td>SAF 'Floral' Framed Painting (Wood, 30 inch x ...</td>\n",
              "    </tr>\n",
              "    <tr>\n",
              "      <th>2</th>\n",
              "      <td>Household</td>\n",
              "      <td>SAF 'UV Textured Modern Art Print Framed' Pain...</td>\n",
              "    </tr>\n",
              "    <tr>\n",
              "      <th>3</th>\n",
              "      <td>Household</td>\n",
              "      <td>SAF Flower Print Framed Painting (Synthetic, 1...</td>\n",
              "    </tr>\n",
              "    <tr>\n",
              "      <th>4</th>\n",
              "      <td>Household</td>\n",
              "      <td>Incredible Gifts India Wooden Happy Birthday U...</td>\n",
              "    </tr>\n",
              "    <tr>\n",
              "      <th>...</th>\n",
              "      <td>...</td>\n",
              "      <td>...</td>\n",
              "    </tr>\n",
              "    <tr>\n",
              "      <th>27797</th>\n",
              "      <td>Electronics</td>\n",
              "      <td>Micromax Bharat 5 Plus Zero impact on visual d...</td>\n",
              "    </tr>\n",
              "    <tr>\n",
              "      <th>27798</th>\n",
              "      <td>Electronics</td>\n",
              "      <td>Microsoft Lumia 550 8GB 4G Black Microsoft lum...</td>\n",
              "    </tr>\n",
              "    <tr>\n",
              "      <th>27799</th>\n",
              "      <td>Electronics</td>\n",
              "      <td>Microsoft Lumia 535 (Black, 8GB) Colour:Black ...</td>\n",
              "    </tr>\n",
              "    <tr>\n",
              "      <th>27800</th>\n",
              "      <td>Electronics</td>\n",
              "      <td>Karbonn Titanium Wind W4 (White) Karbonn Titan...</td>\n",
              "    </tr>\n",
              "    <tr>\n",
              "      <th>27801</th>\n",
              "      <td>Electronics</td>\n",
              "      <td>Nokia Lumia 530 (Dual SIM, Grey) Colour:Grey  ...</td>\n",
              "    </tr>\n",
              "  </tbody>\n",
              "</table>\n",
              "<p>27802 rows × 2 columns</p>\n",
              "</div>\n",
              "      <button class=\"colab-df-convert\" onclick=\"convertToInteractive('df-50e7fb9b-0ff8-4a45-9945-4e3a7b5a1ec1')\"\n",
              "              title=\"Convert this dataframe to an interactive table.\"\n",
              "              style=\"display:none;\">\n",
              "        \n",
              "  <svg xmlns=\"http://www.w3.org/2000/svg\" height=\"24px\"viewBox=\"0 0 24 24\"\n",
              "       width=\"24px\">\n",
              "    <path d=\"M0 0h24v24H0V0z\" fill=\"none\"/>\n",
              "    <path d=\"M18.56 5.44l.94 2.06.94-2.06 2.06-.94-2.06-.94-.94-2.06-.94 2.06-2.06.94zm-11 1L8.5 8.5l.94-2.06 2.06-.94-2.06-.94L8.5 2.5l-.94 2.06-2.06.94zm10 10l.94 2.06.94-2.06 2.06-.94-2.06-.94-.94-2.06-.94 2.06-2.06.94z\"/><path d=\"M17.41 7.96l-1.37-1.37c-.4-.4-.92-.59-1.43-.59-.52 0-1.04.2-1.43.59L10.3 9.45l-7.72 7.72c-.78.78-.78 2.05 0 2.83L4 21.41c.39.39.9.59 1.41.59.51 0 1.02-.2 1.41-.59l7.78-7.78 2.81-2.81c.8-.78.8-2.07 0-2.86zM5.41 20L4 18.59l7.72-7.72 1.47 1.35L5.41 20z\"/>\n",
              "  </svg>\n",
              "      </button>\n",
              "      \n",
              "  <style>\n",
              "    .colab-df-container {\n",
              "      display:flex;\n",
              "      flex-wrap:wrap;\n",
              "      gap: 12px;\n",
              "    }\n",
              "\n",
              "    .colab-df-convert {\n",
              "      background-color: #E8F0FE;\n",
              "      border: none;\n",
              "      border-radius: 50%;\n",
              "      cursor: pointer;\n",
              "      display: none;\n",
              "      fill: #1967D2;\n",
              "      height: 32px;\n",
              "      padding: 0 0 0 0;\n",
              "      width: 32px;\n",
              "    }\n",
              "\n",
              "    .colab-df-convert:hover {\n",
              "      background-color: #E2EBFA;\n",
              "      box-shadow: 0px 1px 2px rgba(60, 64, 67, 0.3), 0px 1px 3px 1px rgba(60, 64, 67, 0.15);\n",
              "      fill: #174EA6;\n",
              "    }\n",
              "\n",
              "    [theme=dark] .colab-df-convert {\n",
              "      background-color: #3B4455;\n",
              "      fill: #D2E3FC;\n",
              "    }\n",
              "\n",
              "    [theme=dark] .colab-df-convert:hover {\n",
              "      background-color: #434B5C;\n",
              "      box-shadow: 0px 1px 3px 1px rgba(0, 0, 0, 0.15);\n",
              "      filter: drop-shadow(0px 1px 2px rgba(0, 0, 0, 0.3));\n",
              "      fill: #FFFFFF;\n",
              "    }\n",
              "  </style>\n",
              "\n",
              "      <script>\n",
              "        const buttonEl =\n",
              "          document.querySelector('#df-50e7fb9b-0ff8-4a45-9945-4e3a7b5a1ec1 button.colab-df-convert');\n",
              "        buttonEl.style.display =\n",
              "          google.colab.kernel.accessAllowed ? 'block' : 'none';\n",
              "\n",
              "        async function convertToInteractive(key) {\n",
              "          const element = document.querySelector('#df-50e7fb9b-0ff8-4a45-9945-4e3a7b5a1ec1');\n",
              "          const dataTable =\n",
              "            await google.colab.kernel.invokeFunction('convertToInteractive',\n",
              "                                                     [key], {});\n",
              "          if (!dataTable) return;\n",
              "\n",
              "          const docLinkHtml = 'Like what you see? Visit the ' +\n",
              "            '<a target=\"_blank\" href=https://colab.research.google.com/notebooks/data_table.ipynb>data table notebook</a>'\n",
              "            + ' to learn more about interactive tables.';\n",
              "          element.innerHTML = '';\n",
              "          dataTable['output_type'] = 'display_data';\n",
              "          await google.colab.output.renderOutput(dataTable, element);\n",
              "          const docLink = document.createElement('div');\n",
              "          docLink.innerHTML = docLinkHtml;\n",
              "          element.appendChild(docLink);\n",
              "        }\n",
              "      </script>\n",
              "    </div>\n",
              "  </div>\n",
              "  "
            ]
          },
          "metadata": {},
          "execution_count": 9
        }
      ]
    },
    {
      "cell_type": "markdown",
      "source": [
        "# Visualizing dataset"
      ],
      "metadata": {
        "id": "c2MmbWK5tG6Z"
      }
    },
    {
      "cell_type": "markdown",
      "source": [
        "# Line Graph of Category vs No. Data Points"
      ],
      "metadata": {
        "id": "JZuekuP7xQFJ"
      }
    },
    {
      "cell_type": "code",
      "source": [
        "#Creating a temporary Dataframe \n",
        "temp_df = dataset.copy(deep=True)\n",
        "\n",
        "#creating a list of all the unique category names\n",
        "category_df = list(dict.fromkeys(list(temp_df.loc[:, 'labels'].values)))\n",
        "\n",
        "category_keys = [] #corresponds to the unique category names\n",
        "category_freq = [] #corresponds to the count of the product for a category\n",
        "\n",
        "for category in category_df:\n",
        "  #getting the count for that category\n",
        "  count = np.sum(temp_df.loc[:, 'labels'].values == category)\n",
        "  if count>=10:\n",
        "    category_keys.append(category)\n",
        "    category_freq.append(count)"
      ],
      "metadata": {
        "id": "N47rVsugtMVX"
      },
      "execution_count": 10,
      "outputs": []
    },
    {
      "cell_type": "code",
      "source": [
        "max_count = max(category_freq)\n",
        "idx = category_freq.index(max_count)\n",
        "print(\"The category having maximum data points is {} with {} data points\".format(category_keys[idx],max_count))"
      ],
      "metadata": {
        "id": "dTWFxPPlOYtH",
        "colab": {
          "base_uri": "https://localhost:8080/"
        },
        "outputId": "cdb0179f-a33c-4feb-979e-0caebf770012"
      },
      "execution_count": 12,
      "outputs": [
        {
          "output_type": "stream",
          "name": "stdout",
          "text": [
            "The category having maximum data points is Household with 10564 data points\n"
          ]
        }
      ]
    },
    {
      "cell_type": "code",
      "source": [
        "plt.figure(figsize=(40,8))\n",
        "plt.title(\"Category vs Frequency of Points\", fontsize=32)\n",
        "plt.ylabel(\"Number of Points of that category\", fontsize=20)\n",
        "plt.xlabel(\"Name of the category\", fontsize=20)\n",
        "plt.xticks(fontsize=14,rotation=90)\n",
        "plt.yticks(fontsize=24)\n",
        "sns.lineplot(x=category_keys, y=category_freq)\n",
        "plt.show()"
      ],
      "metadata": {
        "id": "1X80E4fIOY47",
        "colab": {
          "base_uri": "https://localhost:8080/",
          "height": 321
        },
        "outputId": "bca51d14-fba5-4f20-aa76-0a45237a0f19"
      },
      "execution_count": 13,
      "outputs": [
        {
          "output_type": "display_data",
          "data": {
            "text/plain": [
              "<Figure size 2880x576 with 1 Axes>"
            ],
            "image/png": "[encoded data removed]"
          },
          "metadata": {
            "needs_background": "light"
          }
        }
      ]
    },
    {
      "cell_type": "markdown",
      "source": [
        "# Bar graph of most common words in the text description"
      ],
      "metadata": {
        "id": "sHjOvAShOirx"
      }
    },
    {
      "cell_type": "code",
      "source": [
        "def most_frequent_words(description):\n",
        "\n",
        "  for i in range(len(description)):\n",
        "    description[i] = description[i].lower().split()\n",
        "\n",
        "  all_words = list(itertools.chain(*description))\n",
        "  word_counts = Counter(all_words)\n",
        "\n",
        "  #creating a pandas dataframe of the 40 most common words in the dataset\n",
        "  clean_description = pd.DataFrame(word_counts.most_common(40),\n",
        "                                    columns=['words', 'count'])\n",
        "\n",
        "  return clean_description\n",
        "\n",
        "description = dataset[\"text\"].tolist()\n",
        "most_common_description = most_frequent_words(description)\n",
        "\n",
        "fig, ax = plt.subplots(figsize=(10, 10))\n",
        "# plotting the bargraph in decreasing sorted order\n",
        "most_common_description.sort_values(by='count').plot.barh(x='words',\n",
        "                                                          y='count',\n",
        "                                                          ax=ax,\n",
        "                                                          color=\"purple\")\n",
        "\n",
        "ax.set_title(\"Common Words Found in Product Description (including all words)\")\n",
        "plt.show()"
      ],
      "metadata": {
        "id": "a9NKg8_zOhUR",
        "colab": {
          "base_uri": "https://localhost:8080/",
          "height": 607
        },
        "outputId": "7868cbda-1912-4eab-b113-9a574e530548"
      },
      "execution_count": 14,
      "outputs": [
        {
          "output_type": "display_data",
          "data": {
            "text/plain": [
              "<Figure size 720x720 with 1 Axes>"
            ],
            "image/png": "[encoded data removed]"
          },
          "metadata": {
            "needs_background": "light"
          }
        }
      ]
    },
    {
      "cell_type": "markdown",
      "source": [
        "# Sentiment Analysis"
      ],
      "metadata": {
        "id": "J33mNXEK0fza"
      }
    },
    {
      "cell_type": "code",
      "source": [
        "dataset['desc_pol']=dataset['text'].apply(lambda x : TextBlob(x).sentiment.polarity)\n",
        "\n",
        "plt.figure(figsize=(32,6))\n",
        "plt.title(\"Sentiment Analysis of Ecommerce Description\", fontsize=20)\n",
        "plt.xlabel(\"Polarity\", fontsize=16)\n",
        "plt.ylabel(\"Ecommerce Description\", fontsize=16)\n",
        "plt.xticks(fontsize=14,rotation=90)\n",
        "plt.yticks(fontsize=14)\n",
        "sns.boxplot(x=\"labels\", y='desc_pol', data=dataset)"
      ],
      "metadata": {
        "id": "rDduDnYfxk42",
        "colab": {
          "base_uri": "https://localhost:8080/",
          "height": 347
        },
        "outputId": "156e3bd9-788f-4048-c6bc-f2f17ef0a7b2"
      },
      "execution_count": 15,
      "outputs": [
        {
          "output_type": "execute_result",
          "data": {
            "text/plain": [
              "<matplotlib.axes._subplots.AxesSubplot at 0x7f1e92a51cd0>"
            ]
          },
          "metadata": {},
          "execution_count": 15
        },
        {
          "output_type": "display_data",
          "data": {
            "text/plain": [
              "<Figure size 2304x432 with 1 Axes>"
            ],
            "image/png": "[encoded data removed]"
          },
          "metadata": {
            "needs_background": "light"
          }
        }
      ]
    },
    {
      "cell_type": "markdown",
      "source": [
        "# Text Length Analysis"
      ],
      "metadata": {
        "id": "sNfKYWjp0res"
      }
    },
    {
      "cell_type": "code",
      "source": [
        "#finding the length of the description\n",
        "max_desc_len = -1\n",
        "desc_len_sum = 0\n",
        "min_desc_len = maxsize\n",
        "\n",
        "category_description = dataset[\"text\"].tolist()\n",
        "\n",
        "for i in range(len(category_description)):\n",
        "  try:\n",
        "    max_desc_len = max(max_desc_len,len(category_description[i]))\n",
        "    min_desc_len = min(min_desc_len,len(category_description[i]))\n",
        "    desc_len_sum+=len(category_description[i])\n",
        "  except:\n",
        "    pass\n",
        "\n",
        "print(\"Max description length is {}.\".format(max_desc_len))\n",
        "print(\"Min description length is {}.\".format(min_desc_len))\n",
        "print(\"Average description length is {}.\".format(desc_len_sum/len(category_description)))"
      ],
      "metadata": {
        "id": "c-5Ywy-70ySd",
        "colab": {
          "base_uri": "https://localhost:8080/"
        },
        "outputId": "fb60936e-7bb6-42a8-fa32-9a47ed734cb7"
      },
      "execution_count": 16,
      "outputs": [
        {
          "output_type": "stream",
          "name": "stdout",
          "text": [
            "Max description length is 50403.\n",
            "Min description length is 4.\n",
            "Average description length is 699.9949284224157.\n"
          ]
        }
      ]
    },
    {
      "cell_type": "code",
      "source": [
        "min_len = []\n",
        "x = []\n",
        "temp_categories = [\"Household\", \"Books\", \"Electronics\", \"Clothing & Accessories\"]\n",
        "\n",
        "for category in temp_categories:\n",
        "  temp_df = dataset[dataset[\"labels\"]==category]\n",
        "  try:\n",
        "    temp_min_len = min(temp_df[\"text\"].str.len())\n",
        "    x.append(category)\n",
        "    min_len.append(temp_min_len)\n",
        "  except:\n",
        "    pass\n",
        "  \n",
        "\n",
        "plt.figure(figsize=(16,4))\n",
        "plt.title(\"Minimum Description Length according to categories\", fontsize=20)\n",
        "plt.ylabel(\"Minimum length of description\", fontsize=20)\n",
        "plt.xlabel(\"Categories\", fontsize=20)\n",
        "plt.xticks(fontsize=15,rotation=90)\n",
        "plt.yticks(fontsize=15)\n",
        "plt.plot(x,min_len, color = \"magenta\")"
      ],
      "metadata": {
        "id": "toX1AuQ707Zo",
        "colab": {
          "base_uri": "https://localhost:8080/",
          "height": 513
        },
        "outputId": "c2fafd4e-19d6-4528-a64d-b94cf7e3fa8e"
      },
      "execution_count": 17,
      "outputs": [
        {
          "output_type": "execute_result",
          "data": {
            "text/plain": [
              "[<matplotlib.lines.Line2D at 0x7f1e6d1bf210>]"
            ]
          },
          "metadata": {},
          "execution_count": 17
        },
        {
          "output_type": "display_data",
          "data": {
            "text/plain": [
              "<Figure size 1152x288 with 1 Axes>"
            ],
            "image/png": "[encoded data removed]"
          },
          "metadata": {
            "needs_background": "light"
          }
        }
      ]
    },
    {
      "cell_type": "code",
      "source": [
        "max_len = []\n",
        "x = []\n",
        "\n",
        "for category in temp_categories:\n",
        "  temp_df = dataset[dataset[\"labels\"]==category]\n",
        "  try:\n",
        "    temp_max_len = max(temp_df[\"text\"].str.len())\n",
        "    x.append(category)\n",
        "    max_len.append(temp_max_len)\n",
        "  except:\n",
        "    pass\n",
        "  \n",
        "\n",
        "plt.figure(figsize=(16,4))\n",
        "plt.title(\"Maximim Description Length according to categories\", fontsize=20)\n",
        "plt.ylabel(\"Maximum length of description\", fontsize=20)\n",
        "plt.xlabel(\"Categories\", fontsize=20)\n",
        "plt.xticks(fontsize=15,rotation=90)\n",
        "plt.yticks(fontsize=15)\n",
        "plt.plot(x,max_len, color = \"magenta\")"
      ],
      "metadata": {
        "id": "ay-hsc251a66",
        "colab": {
          "base_uri": "https://localhost:8080/",
          "height": 516
        },
        "outputId": "06f7a925-8359-4648-dbc4-064d220653a9"
      },
      "execution_count": 18,
      "outputs": [
        {
          "output_type": "execute_result",
          "data": {
            "text/plain": [
              "[<matplotlib.lines.Line2D at 0x7f1e6d10d3d0>]"
            ]
          },
          "metadata": {},
          "execution_count": 18
        },
        {
          "output_type": "display_data",
          "data": {
            "text/plain": [
              "<Figure size 1152x288 with 1 Axes>"
            ],
            "image/png": "[encoded data removed]"
          },
          "metadata": {
            "needs_background": "light"
          }
        }
      ]
    },
    {
      "cell_type": "markdown",
      "source": [
        "Visualizing boxplot for description lengths of different categories to get idea about the average length and the outliers"
      ],
      "metadata": {
        "id": "N1ibttEe1noO"
      }
    },
    {
      "cell_type": "code",
      "source": [
        "dataset[\"desc_len\"] = dataset[\"text\"].str.len()\n",
        "\n",
        "plt.figure(figsize=(20,6))\n",
        "plt.title(\"Description Length according to categories\", fontsize=20)\n",
        "plt.ylabel(\"Average of length of description\", fontsize=20)\n",
        "plt.xlabel(\"Number of Categories\", fontsize=20)\n",
        "plt.xticks(fontsize=15,rotation=90)\n",
        "plt.yticks(fontsize=15)\n",
        "sns.boxplot(x=\"labels\", y='desc_len', data=dataset)"
      ],
      "metadata": {
        "id": "xVvOZmEX1mok",
        "colab": {
          "base_uri": "https://localhost:8080/",
          "height": 533
        },
        "outputId": "4ade147f-b45f-427e-b261-8ec26204e984"
      },
      "execution_count": 19,
      "outputs": [
        {
          "output_type": "execute_result",
          "data": {
            "text/plain": [
              "<matplotlib.axes._subplots.AxesSubplot at 0x7f1e6d1a6e10>"
            ]
          },
          "metadata": {},
          "execution_count": 19
        },
        {
          "output_type": "display_data",
          "data": {
            "text/plain": [
              "<Figure size 1440x432 with 1 Axes>"
            ],
            "image/png": "[encoded data removed]"
          },
          "metadata": {
            "needs_background": "light"
          }
        }
      ]
    },
    {
      "cell_type": "markdown",
      "source": [
        "# Data Cleaning anf Pre-Processing\n",
        "\n",
        "remvoing hyperlinks, numbers and punctuations and lowercasing"
      ],
      "metadata": {
        "id": "20w6dYg818XP"
      }
    },
    {
      "cell_type": "code",
      "source": [
        "corpus = ' '.join(dataset['text']).lower()\n",
        "\n",
        "# getting all the words ending an apostrophe and single letter\n",
        "contractions = Counter(re.findall(\"[a-z]+'[a-z]+\", corpus))\n",
        "apostrophe_end = sorted(contractions.items(), key=lambda i: i[1], reverse=True)\n",
        "print(\"\\n\")\n",
        "print(apostrophe_end)\n",
        "\n",
        "# getting all the words starting with a single letter and an apostrophe\n",
        "contractions=Counter(re.findall(\"[a-z]'[a-z]+\", corpus))\n",
        "apostrophe_start = sorted(contractions.items(), key=lambda i: i[1], reverse=True)\n",
        "print(\"\\n\")\n",
        "print(apostrophe_start)\n",
        "\n",
        "#getting all the URLS\n",
        "urls = re.findall('\\(*http[s]?://(?:[a-zA-Z]|[0-9]|[$-_@.&+#]|[!*\\(\\),]|(?:%[0-9a-fA-F][0-9a-fA-F]))*', corpus)\n",
        "print(\"\\n\")\n",
        "print(urls)"
      ],
      "metadata": {
        "id": "4j8IiLF02mK1",
        "colab": {
          "base_uri": "https://localhost:8080/"
        },
        "outputId": "05fe57ce-6d81-43fe-d2bd-61d61ca281bc"
      },
      "execution_count": 20,
      "outputs": [
        {
          "output_type": "stream",
          "name": "stdout",
          "text": [
            "\n",
            "\n",
            "[(\"women's\", 1837), (\"men's\", 1470), (\"it's\", 1331), (\"don't\", 610), (\"you're\", 358), (\"you'll\", 314), (\"world's\", 277), (\"won't\", 256), (\"girl's\", 249), (\"that's\", 233), (\"boy's\", 204), (\"doesn't\", 178), (\"india's\", 161), (\"children's\", 142), (\"what's\", 141), (\"can't\", 136), (\"there's\", 134), (\"he's\", 101), (\"i've\", 98), (\"they're\", 95), (\"you've\", 94), (\"today's\", 91), (\"one's\", 86), (\"i'm\", 85), (\"kid's\", 82), (\"we've\", 80), (\"isn't\", 69), (\"baby's\", 66), (\"child's\", 61), (\"woman's\", 49), (\"valentine's\", 48), (\"author's\", 45), (\"mamma's\", 44), (\"we're\", 42), (\"master's\", 42), (\"people's\", 40), (\"gay's\", 40), (\"camera's\", 39), (\"monitor's\", 38), (\"father's\", 36), (\"man's\", 36), (\"she's\", 34), (\"didn't\", 33), (\"item's\", 33), (\"manufacturer's\", 33), (\"america's\", 33), (\"aren't\", 32), (\"mother's\", 32), (\"here's\", 32), (\"china's\", 32), (\"let's\", 31), (\"life's\", 31), (\"chef's\", 30), (\"book's\", 29), (\"night's\", 28), (\"you'd\", 27), (\"phone's\", 26), (\"user's\", 25), (\"i'd\", 25), (\"kahneman's\", 25), (\"everyone's\", 24), (\"haven't\", 24), (\"pc's\", 24), (\"king's\", 24), (\"room's\", 23), (\"family's\", 23), (\"device's\", 23), (\"couldn't\", 23), (\"body's\", 21), (\"lee's\", 21), (\"levi's\", 20), (\"year's\", 19), (\"reader's\", 19), (\"i'll\", 19), (\"runner's\", 19), (\"miller's\", 19), (\"wasn't\", 18), (\"asia's\", 18), (\"triathlete's\", 18), (\"student's\", 17), (\"magazine's\", 17), (\"god's\", 17), (\"company's\", 16), (\"country's\", 16), (\"lazenby's\", 16), (\"sun's\", 15), (\"beginner's\", 15), (\"barron's\", 15), (\"nature's\", 14), (\"it'll\", 14), (\"nation's\", 14), (\"deaton's\", 14), (\"moda's\", 14), (\"day's\", 13), (\"shouldn't\", 13), (\"tv's\", 13), (\"university's\", 13), (\"who's\", 12), (\"lock's\", 12), (\"equipment's\", 12), (\"britain's\", 12), (\"writer's\", 12), (\"peregrine's\", 12), (\"harper's\", 12), (\"alzheimer's\", 12), (\"doody's\", 12), (\"do's\", 11), (\"customer's\", 11), (\"they'll\", 11), (\"car's\", 11), (\"friend's\", 11), (\"holme's\", 11), (\"bachelor's\", 11), (\"artist's\", 11), (\"alexander's\", 11), (\"we'll\", 10), (\"led's\", 10), (\"system's\", 10), (\"editor's\", 10), (\"uk's\", 10), (\"planet's\", 10), (\"rajan's\", 10), (\"hasn't\", 10), (\"gatewood's\", 10), (\"shackleton's\", 10), (\"l'engle\", 10), (\"topol's\", 10), (\"netter's\", 10), (\"computer's\", 10), (\"speaker's\", 10), (\"person's\", 9), (\"imprint's\", 9), (\"sadhguru's\", 9), (\"japan's\", 9), (\"they've\", 9), (\"amish's\", 9), (\"npr's\", 9), (\"frankl's\", 9), (\"sorella'z\", 9), (\"website's\", 8), (\"don'ts\", 8), (\"bbq's\", 8), (\"home's\", 8), (\"we'd\", 8), (\"noah's\", 8), (\"son's\", 8), (\"israel's\", 8), (\"trueman's\", 8), (\"jordan's\", 8), (\"tegmark's\", 8), (\"einstein's\", 8), (\"kendra's\", 8), (\"smith's\", 8), (\"austen's\", 8), (\"wiley's\", 8), (\"lifetime's\", 8), (\"baha'i\", 8), (\"nbc's\", 8), (\"cyclist's\", 8), (\"hemingway's\", 8), (\"he'd\", 8), (\"k's\", 8), (\"transcend's\", 8), (\"angel's\", 7), (\"anyone's\", 7), (\"goyal's\", 7), (\"glive's\", 7), (\"laptop's\", 7), (\"pan's\", 7), (\"roop's\", 7), (\"vacuum's\", 7), (\"brown's\", 7), (\"owner's\", 7), (\"story's\", 7), (\"murakami's\", 7), (\"learner's\", 7), (\"singh's\", 7), (\"feynman's\", 7), (\"dad's\", 7), (\"euclid's\", 7), (\"hawking's\", 7), (\"bond's\", 7), (\"apple's\", 7), (\"asher's\", 7), (\"penick's\", 7), (\"queen's\", 7), (\"gray's\", 7), (\"darwin's\", 7), (\"patient's\", 7), (\"teacher's\", 7), (\"dk's\", 7), (\"brain's\", 7), (\"parent's\", 7), (\"wright's\", 7), (\"samsung's\", 7), (\"ray's\", 6), (\"product's\", 6), (\"traveler's\", 6), (\"mum's\", 6), (\"smartphone's\", 6), (\"d'mak\", 6), (\"brand's\", 6), (\"industry's\", 6), (\"knife's\", 6), (\"wouldn't\", 6), (\"he'll\", 6), (\"keyboard's\", 6), (\"homer's\", 6), (\"coelho's\", 6), (\"newport's\", 6), (\"president's\", 6), (\"mosby's\", 6), (\"professional's\", 6), (\"amazon's\", 6), (\"lama's\", 6), (\"freud's\", 6), (\"europe's\", 6), (\"andrew's\", 6), (\"davis's\", 6), (\"association's\", 6), (\"krakauer's\", 6), (\"century's\", 6), (\"basketball's\", 6), (\"humanity's\", 6), (\"gordon's\", 6), (\"field's\", 6), (\"swimmer's\", 6), (\"buffett's\", 6), (\"glaser's\", 6), (\"astronaut's\", 6), (\"martin's\", 6), (\"lewin's\", 6), (\"lin's\", 6), (\"munroe's\", 6), (\"office's\", 6), (\"boston's\", 6), (\"kandel's\", 6), (\"patrick's\", 6), (\"cafe's\", 6), (\"qraftinkwomen's\", 6), (\"larwa's\", 6), (\"eve's\", 6), (\"mamma'smaternity\", 6), (\"bracket's\", 6), (\"nikon's\", 6), (\"senator's\", 6), (\"hadn't\", 5), (\"everybody's\", 5), (\"that'll\", 5), (\"collector's\", 5), (\"heart's\", 5), (\"seller's\", 5), (\"driver's\", 5), (\"region's\", 5), (\"gladwell's\", 5), (\"rodent's\", 5), (\"island's\", 5), (\"library's\", 5), (\"gulliver's\", 5), (\"brian's\", 5), (\"earth's\", 5), (\"hp's\", 5), (\"policy's\", 5), (\"sharma's\", 5), (\"group's\", 5), (\"canada's\", 5), (\"george's\", 5), (\"bbc's\", 5), (\"midnight's\", 5), (\"cat's\", 5), (\"stephen's\", 5), (\"kahenman's\", 5), (\"buddha's\", 5), (\"piketty's\", 5), (\"baha'u\", 5), (\"u'llc\", 5), (\"montefiore's\", 5), (\"hurwitz's\", 5), (\"player's\", 5), (\"rubinstein's\", 5), (\"garner's\", 5), (\"publisher's\", 5), (\"sheldon's\", 5), (\"forsyth's\", 5), (\"manne's\", 5), (\"mit's\", 5), (\"warraich's\", 5), (\"lawford's\", 5), (\"kurta's\", 5), (\"bra's\", 5), (\"dott's\", 5), (\"restaurant's\", 5), (\"hotel's\", 5), (\"school's\", 5), (\"clinic's\", 5), (\"hospital's\", 5), (\"dslr's\", 5), (\"polk's\", 5), (\"season's\", 4), (\"murphy's\", 4), (\"basket's\", 4), (\"tailor's\", 4), (\"hudson's\", 4), (\"infant's\", 4), (\"store's\", 4), (\"individual's\", 4), (\"mom's\", 4), (\"ratna's\", 4), (\"insider's\", 4), (\"diya's\", 4), (\"mayatra's\", 4), (\"indian's\", 4), (\"fox's\", 4), (\"vehicle's\", 4), (\"thickness's\", 4), (\"rupa's\", 4), (\"other's\", 4), (\"fryer's\", 4), (\"needn't\", 4), (\"furniture's\", 4), (\"photographer's\", 4), (\"anybody's\", 4), (\"chicago's\", 4), (\"singer's\", 4), (\"sagan's\", 4), (\"traveller's\", 4), (\"bull's\", 4), (\"foundation's\", 4), (\"engels's\", 4), (\"marx's\", 4), (\"center's\", 4), (\"covey's\", 4), (\"saturn's\", 4), (\"week's\", 4), (\"party's\", 4), (\"o'reilly\", 4), (\"practitioner's\", 4), (\"africa's\", 4), (\"holloway's\", 4), (\"burke's\", 4), (\"organization's\", 4), (\"york's\", 4), (\"london's\", 4), (\"d'honneur\", 4), (\"hannah's\", 4), (\"morgenstern's\", 4), (\"sport's\", 4), (\"pilot's\", 4), (\"murray's\", 4), (\"review's\", 4), (\"h's\", 4), (\"maccormick's\", 4), (\"mary's\", 4), (\"devil's\", 4), (\"literature's\", 4), (\"parry's\", 4), (\"gierach's\", 4), (\"loncraine's\", 4), (\"champion's\", 4), (\"gable's\", 4), (\"brother's\", 4), (\"friel's\", 4), (\"felix's\", 4), (\"patterson's\", 4), (\"roll's\", 4), (\"physician's\", 4), (\"game's\", 4), (\"backman's\", 4), (\"black's\", 4), (\"johnson's\", 4), (\"mandino's\", 4), (\"ai's\", 4), (\"max's\", 4), (\"jackson's\", 4), (\"she'll\", 4), (\"cameron's\", 4), (\"busch's\", 4), (\"hon'ble\", 4), (\"layman's\", 4), (\"medicine's\", 4), (\"niman's\", 4), (\"norman's\", 4), (\"sarno's\", 4), (\"panda's\", 4), (\"mlodinow's\", 4), (\"draanen's\", 4), (\"jessica's\", 4), (\"barnett's\", 4), (\"lani's\", 4), (\"xkcd's\", 4), (\"mcsweeney's\", 4), (\"yousafzai's\", 4), (\"malala's\", 4), (\"thatcher's\", 4), (\"fbi's\", 4), (\"combo's\", 4), (\"redesign's\", 4), (\"lingerie's\", 4), (\"drive's\", 4), (\"sony's\", 4), (\"pioneer's\", 4), (\"josh's\", 4), (\"flyer's\", 4), (\"huawei's\", 4), (\"no's\", 3), (\"hardware's\", 3), (\"mee's\", 3), (\"organizer's\", 3), (\"chrome's\", 3), (\"minimalist's\", 3), (\"mccoy's\", 3), (\"heater's\", 3), (\"green's\", 3), (\"usha's\", 3), (\"maggie's\", 3), (\"cookware's\", 3), (\"klaxon's\", 3), (\"rack's\", 3), (\"pigeon's\", 3), (\"mezon's\", 3), (\"csi's\", 3), (\"signoraware's\", 3), (\"oil's\", 3), (\"chef'n\", 3), (\"your's\", 3), (\"de'longhi\", 3), (\"lover's\", 3), (\"panasonic's\", 3), (\"iron's\", 3), (\"cvt's\", 3), (\"ac's\", 3), (\"europa's\", 3), (\"stand's\", 3), (\"ross's\", 3), (\"where's\", 3), (\"yogi's\", 3), (\"byrne's\", 3), (\"o'connor\", 3), (\"duhigg's\", 3), (\"kaur's\", 3), (\"rupi's\", 3), (\"radio's\", 3), (\"teen's\", 3), (\"history's\", 3), (\"schultz's\", 3), (\"geographic's\", 3), (\"hill's\", 3), (\"obama's\", 3), (\"d'ancona\", 3), (\"scientist's\", 3), (\"star's\", 3), (\"circe's\", 3), (\"oprah's\", 3), (\"playerunknown's\", 3), (\"grandma's\", 3), (\"tharoor's\", 3), (\"hitler's\", 3), (\"hardy's\", 3), (\"pinker's\", 3), (\"time's\", 3), (\"institute's\", 3), (\"moor's\", 3), (\"germany's\", 3), (\"marvel's\", 3), (\"city's\", 3), (\"prakashan's\", 3), (\"truffaut's\", 3), (\"kwan's\", 3), (\"kaplan's\", 3), (\"powerscore's\", 3), (\"unisex's\", 3), (\"cisco's\", 3), (\"microsoft's\", 3), (\"rick's\", 3), (\"france's\", 3), (\"tversky's\", 3), (\"neelakantan's\", 3), (\"hogan's\", 3), (\"eric's\", 3), (\"shunya's\", 3), (\"judt's\", 3), (\"washington's\", 3), (\"trump's\", 3), (\"lewis's\", 3), (\"ali's\", 3), (\"n's\", 3), (\"expert's\", 3), (\"chand's\", 3), (\"science's\", 3), (\"hancock's\", 3), (\"heaven's\", 3), (\"neurosurgeon's\", 3), (\"tim's\", 3), (\"society's\", 3), (\"mccandless's\", 3), (\"mexico's\", 3), (\"mcdougall's\", 3), (\"nobody's\", 3), (\"pakistan's\", 3), (\"verma's\", 3), (\"yosemite's\", 3), (\"wooden's\", 3), (\"d'angelo\", 3), (\"arnold's\", 3), (\"wwe's\", 3), (\"hold'em\", 3), (\"clare's\", 3), (\"buyer's\", 3), (\"idiot's\", 3), (\"val's\", 3), (\"caesarea's\", 3), (\"fitzgerald's\", 3), (\"harwood's\", 3), (\"college's\", 3), (\"fry's\", 3), (\"worth's\", 3), (\"roth's\", 3), (\"lamott's\", 3), (\"saddam's\", 3), (\"aristotle's\", 3), (\"cnbc's\", 3), (\"spackman's\", 3), (\"crafts's\", 3), (\"herriot's\", 3), (\"chaurasia's\", 3), (\"nasa's\", 3), (\"aciman's\", 3), (\"nietzsche's\", 3), (\"reporter's\", 3), (\"botton's\", 3), (\"youngster's\", 3), (\"female's\", 3), (\"rjc's\", 3), (\"top's\", 3), (\"audio's\", 3), (\"tablet's\", 3), (\"mouse's\", 3), (\"ipad's\", 3), (\"basher's\", 3), (\"card's\", 3), (\"fujifilm's\", 3), (\"equipment'swith\", 3), (\"traina's\", 3), (\"sexton's\", 3), (\"rachel's\", 3), (\"bucilla's\", 2), (\"kitchen's\", 2), (\"italica's\", 2), (\"lord's\", 2), (\"park's\", 2), (\"lounger's\", 2), (\"tank's\", 2), (\"fourwall's\", 2), (\"craftsman's\", 2), (\"spa's\", 2), (\"villa's\", 2), (\"sphere's\", 2), (\"cone's\", 2), (\"webhushi's\", 2), (\"winter's\", 2), (\"skin's\", 2), (\"town's\", 2), (\"stitchnest's\", 2), (\"rau's\", 2), (\"krishna's\", 2), (\"windermere's\", 2), (\"moon's\", 2), (\"haribo's\", 2), (\"dont's\", 2), (\"witch's\", 2), (\"prepara's\", 2), (\"roti's\", 2), (\"lid's\", 2), (\"compartment's\", 2), (\"grinder's\", 2), (\"turner's\", 2), (\"homebuddy's\", 2), (\"pot's\", 2), (\"e's\", 2), (\"look's\", 2), (\"d'arques\", 2), (\"bean's\", 2), (\"barista's\", 2), (\"container's\", 2), (\"redfam's\", 2), (\"potato's\", 2), (\"kerala's\", 2), (\"pro's\", 2), (\"cleaner's\", 2), (\"dashboard's\", 2), (\"drum's\", 2), (\"forte's\", 2), (\"ansio's\", 2), (\"veera's\", 2), (\"shopo's\", 2), (\"street's\", 2), (\"lamba's\", 2), (\"style's\", 2), (\"pet's\", 2), (\"food's\", 2), (\"comic's\", 2), (\"newspaper's\", 2), (\"measure's\", 2), (\"veda's\", 2), (\"filmmaker's\", 2), (\"historian's\", 2), (\"club's\", 2), (\"bhavna's\", 2), (\"charlie's\", 2), (\"gombrich's\", 2), (\"mouli's\", 2), (\"kiyosaki's\", 2), (\"harrari's\", 2), (\"mayor's\", 2), (\"times's\", 2), (\"government's\", 2), (\"goddess's\", 2), (\"bruno's\", 2), (\"fukuoka's\", 2), (\"showtime's\", 2), (\"o'dea\", 2), (\"winfrey's\", 2), (\"parsi's\", 2), (\"nooyi's\", 2), (\"saraswati's\", 2), (\"genius's\", 2), (\"ferguson's\", 2), (\"everyman's\", 2), (\"sarah's\", 2), (\"cecil's\", 2), (\"how's\", 2), (\"editors's\", 2), (\"culture's\", 2), (\"army's\", 2), (\"racing's\", 2), (\"dun's\", 2), (\"d'horizon\", 2), (\"ackerman's\", 2), (\"redbook's\", 2), (\"anne's\", 2), (\"diary's\", 2), (\"disha's\", 2), (\"cal's\", 2), (\"somebody's\", 2), (\"sybex's\", 2), (\"fairy's\", 2), (\"cici's\", 2), (\"spires's\", 2), (\"jamieson's\", 2), (\"cori's\", 2), (\"marketer's\", 2), (\"brookline's\", 2), (\"asylum's\", 2), (\"jobs's\", 2), (\"dion's\", 2), (\"rod's\", 2), (\"unesco's\", 2), (\"diwekar's\", 2), (\"rujuta's\", 2), (\"prisoner's\", 2), (\"gurcharan's\", 2), (\"archie's\", 2), (\"dover's\", 2), (\"paul's\", 2), (\"art's\", 2), (\"hero's\", 2), (\"prizant's\", 2), (\"raconteur's\", 2), (\"moehringer's\", 2), (\"macmillan's\", 2), (\"mcq's\", 2), (\"bhandari's\", 2), (\"padhuka's\", 2), (\"something's\", 2), (\"block's\", 2), (\"gmac's\", 2), (\"bishop's\", 2), (\"hat's\", 2), (\"developer's\", 2), (\"moment's\", 2), (\"grimm's\", 2), (\"leader's\", 2), (\"hesse's\", 2), (\"disney's\", 2), (\"wrestler's\", 2), (\"golfer's\", 2), (\"david's\", 2), (\"golf's\", 2), (\"bowdon's\", 2), (\"they'd\", 2), (\"jonasson's\", 2), (\"said's\", 2), (\"sen's\", 2), (\"john's\", 2), (\"peter's\", 2), (\"varoufakis's\", 2), (\"alexievich's\", 2), (\"marks's\", 2), (\"mcgregor's\", 2), (\"ch'an\", 2), (\"yogananda's\", 2), (\"shearer's\", 2), (\"patanjali's\", 2), (\"tolle's\", 2), (\"antony's\", 2), (\"qur'an\", 2), (\"harvard's\", 2), (\"sokol's\", 2), (\"rembrandt's\", 2), (\"armstrong's\", 2), (\"dennett's\", 2), (\"atheist's\", 2), (\"plato's\", 2), (\"marcus's\", 2), (\"youthspring's\", 2), (\"psychic's\", 2), (\"soul's\", 2), (\"tiny's\", 2), (\"rice's\", 2), (\"weyn's\", 2), (\"capote's\", 2), (\"mountain's\", 2), (\"shockey's\", 2), (\"storr's\", 2), (\"o'connell\", 2), (\"quarterly's\", 2), (\"internet's\", 2), (\"survivor's\", 2), (\"sheersit's\", 2), (\"mind's\", 2), (\"pete's\", 2), (\"kwagu'l\", 2), (\"x's\", 2), (\"league's\", 2), (\"iowa's\", 2), (\"brock's\", 2), (\"bruce's\", 2), (\"phil's\", 2), (\"maffetone's\", 2), (\"bravo's\", 2), (\"hillenbrand's\", 2), (\"smoak's\", 2), (\"evan's\", 2), (\"shannon's\", 2), (\"clark's\", 2), (\"karnaze's\", 2), (\"dean's\", 2), (\"profession's\", 2), (\"sutherland's\", 2), (\"operation's\", 2), (\"carlin's\", 2), (\"gallwey's\", 2), (\"wife's\", 2), (\"vaidyanathan's\", 2), (\"congo's\", 2), (\"lansing's\", 2), (\"sandberg's\", 2), (\"firm's\", 2), (\"weekly's\", 2), (\"beartown's\", 2), (\"ambrus's\", 2), (\"hockey's\", 2), (\"tulsian's\", 2), (\"commercial's\", 2), (\"hbr's\", 2), (\"chanakya's\", 2), (\"hagstrom's\", 2), (\"maker's\", 2), (\"property's\", 2), (\"board's\", 2), (\"crain's\", 2), (\"excellence's\", 2), (\"ncert's\", 2), (\"port's\", 2), (\"alex's\", 2), (\"l'universite\", 2), (\"oxford's\", 2), (\"abc's\", 2), (\"bowie's\", 2), (\"dryden's\", 2), (\"khanna's\", 2), (\"cricket's\", 2), (\"eccolo's\", 2), (\"economist's\", 2), (\"chouinard's\", 2), (\"laden's\", 2), (\"polo's\", 2), (\"paper's\", 2), (\"levison's\", 2), (\"generation's\", 2), (\"danahar's\", 2), (\"taleb's\", 2), (\"madrigal's\", 2), (\"tayari's\", 2), (\"jones's\", 2), (\"kipling's\", 2), (\"white's\", 2), (\"agnihotri's\", 2), (\"gaite's\", 2), (\"petrarch's\", 2), (\"calvino's\", 2), (\"dostoevsky's\", 2), (\"music's\", 2), (\"daughter's\", 2), (\"rowling's\", 2), (\"shakespeare's\", 2), (\"doyle's\", 2), (\"hitchhiker's\", 2), (\"hiker's\", 2), (\"wells's\", 2), (\"russell's\", 2), (\"gandhi's\", 2), (\"watson's\", 2), (\"wear's\", 2), (\"surgeon's\", 2), (\"pmi's\", 2), (\"acupressure's\", 2), (\"england's\", 2), (\"fung's\", 2), (\"cayce's\", 2), (\"language's\", 2), (\"tom's\", 2), (\"bach's\", 2), (\"mollison's\", 2), (\"periodontology's\", 2), (\"carranza's\", 2), (\"bennett's\", 2), (\"toronto's\", 2), (\"kant's\", 2), (\"davidson's\", 2), (\"engelhardt's\", 2), (\"biskind's\", 2), (\"webster's\", 2), (\"mahajan's\", 2), (\"tyson's\", 2), (\"laymenmunroe's\", 2), (\"scientists'munroe\", 2), (\"web's\", 2), (\"foucault's\", 2), (\"killer's\", 2), (\"mariel's\", 2), (\"major's\", 2), (\"kaufmann's\", 2), (\"d'erasmo\", 2), (\"gender's\", 2), (\"partner's\", 2), (\"freedman's\", 2), (\"taliban's\", 2), (\"coates's\", 2), (\"akehurst's\", 2), (\"fu's\", 2), (\"plasticity's\", 2), (\"fish's\", 2), (\"ginott's\", 2), (\"siegel's\", 2), (\"ajay's\", 2), (\"drummond's\", 2), (\"eagleman's\", 2), (\"grandin's\", 2), (\"skinner's\", 2), (\"peck's\", 2), (\"burns's\", 2), (\"jung's\", 2), (\"kathlyn's\", 2), (\"gent's\", 2), (\"mothercare's\", 2), (\"capri's\", 2), (\"jack's\", 2), (\"girls's\", 2), (\"fashionista's\", 2), (\"fashion's\", 2), (\"cupid's\", 2), (\"offer's\", 2), (\"waltz's\", 2), (\"lotto's\", 2), (\"lense's\", 2), (\"saree's\", 2), (\"manmandir's\", 2), (\"yours's\", 2), (\"formal's\", 2), (\"bilochi's\", 2), (\"whitewhale's\", 2), (\"moriarty's\", 2), (\"a'shop\", 2), (\"listing's\", 2), (\"supply's\", 2), (\"warmer's\", 2), (\"re's\", 2), (\"verbatim's\", 2), (\"quantum's\", 2), (\"notebook's\", 2), (\"printer's\", 2), (\"peanut's\", 2), (\"motherboard's\", 2), (\"purayati's\", 2), (\"kingston's\", 2), (\"strontium's\", 2), (\"wd's\", 2), (\"link's\", 2), (\"aztech's\", 2), (\"router's\", 2), (\"network's\", 2), (\"heal's\", 2), (\"band's\", 2), (\"color's\", 2), (\"tenba's\", 2), (\"blade's\", 2), (\"tool's\", 2), (\"meter's\", 2), (\"vinyl's\", 2), (\"iphone's\", 2), (\"plug'n\", 2), (\"tamron's\", 2), (\"sirui's\", 2), (\"saramago's\", 2), (\"width's\", 2), (\"head's\", 2), (\"atv's\", 2), (\"dvd's\", 2), (\"watch's\", 2), (\"nokia's\", 2), (\"stecker's\", 1), (\"overlocker's\", 1), (\"bhagwan's\", 1), (\"potter's\", 1), (\"sleeper's\", 1), (\"carafe's\", 1), (\"bowl's\", 1), (\"jo's\", 1), (\"packaging's\", 1), (\"bedroom's\", 1), (\"maura's\", 1), (\"guardiancampbell's\", 1), (\"winds's\", 1), (\"shroff's\", 1), (\"mbtc's\", 1), (\"end's\", 1), (\"junior's\", 1), (\"chair's\", 1), (\"stool's\", 1), (\"neighbour's\", 1), (\"neighbor's\", 1), (\"kg's\", 1), (\"strongwhat's\", 1), (\"rian's\", 1), (\"decoart's\", 1), (\"table's\", 1), (\"aristo's\", 1), (\"lakdi's\", 1), (\"imagine's\", 1), (\"imaginedesign's\", 1), (\"cd's\", 1), (\"who'll\", 1), (\"fan's\", 1), (\"midea's\", 1), (\"bajaj's\", 1), (\"delaware's\", 1), (\"monday's\", 1), (\"mummy's\", 1), (\"griiham's\", 1), (\"nison's\", 1), (\"clock's\", 1), (\"timepiece's\", 1), (\"shiva's\", 1), (\"kolorobia's\", 1), (\"babur's\", 1), (\"humayun's\", 1), (\"sadhubela's\", 1), (\"yuzu's\", 1), (\"cardamom's\", 1), (\"neroli's\", 1), (\"amber's\", 1), (\"mirror's\", 1), (\"skirt's\", 1), (\"workout's\", 1), (\"viewer's\", 1), (\"finlay's\", 1), (\"o'learythis\", 1), (\"which's\", 1), (\"staff's\", 1), (\"annie's\", 1), (\"housewife's\", 1), (\"valuewe've\", 1), (\"interdesign's\", 1), (\"box's\", 1), (\"silver's\", 1), (\"hanger's\", 1), (\"gun's\", 1), (\"moneythey'll\", 1), (\"madhuli's\", 1), (\"area's\", 1), (\"d'maktm\", 1), (\"its'edges\", 1), (\"modular's\", 1), (\"light's\", 1), (\"cow's\", 1), (\"swad's\", 1), (\"candy's\", 1), (\"harry's\", 1), (\"dursley's\", 1), (\"maria's\", 1), (\"piece's\", 1), (\"natureloc's\", 1), (\"stovetop's\", 1), (\"omelet's\", 1), (\"tens's\", 1), (\"moneta's\", 1), (\"nirlep's\", 1), (\"nayasa's\", 1), (\"bakery's\", 1), (\"what'is\", 1), (\"three's\", 1), (\"finishing's\", 1), (\"handle's\", 1), (\"dishcloth's\", 1), (\"platter's\", 1), (\"ocean's\", 1), (\"grind's\", 1), (\"powder's\", 1), (\"dispenser's\", 1), (\"milton's\", 1), (\"liner's\", 1), (\"egypt's\", 1), (\"cnb's\", 1), (\"thermometer's\", 1), (\"hatimi's\", 1), (\"norpro's\", 1), (\"host's\", 1), (\"s'mores\", 1), (\"m's\", 1), (\"cook's\", 1), (\"refrigerator's\", 1), (\"cuter's\", 1), (\"wada's\", 1), (\"amefa's\", 1), (\"homemaker's\", 1), (\"boch's\", 1), (\"cup's\", 1), (\"femora's\", 1), (\"benedict's\", 1), (\"corelle's\", 1), (\"lad's\", 1), (\"flute's\", 1), (\"drinker's\", 1), (\"nani's\", 1), (\"decanter's\", 1), (\"couple's\", 1), (\"le'xpress\", 1), (\"member's\", 1), (\"liquor's\", 1), (\"organism's\", 1), (\"kent's\", 1), (\"purolite's\", 1), (\"filter's\", 1), (\"machine's\", 1), (\"scale's\", 1), (\"opener's\", 1), (\"gourmia's\", 1), (\"processor's\", 1), (\"blender's\", 1), (\"cello's\", 1), (\"tikka's\", 1), (\"fortune's\", 1), (\"calico's\", 1), (\"exporter's\", 1), (\"co's\", 1), (\"cooker's\", 1), (\"tech's\", 1), (\"dish's\", 1), (\"dough's\", 1), (\"wonderchef's\", 1), (\"coloring's\", 1), (\"lint's\", 1), (\"fishman's\", 1), (\"animal's\", 1), (\"beauty's\", 1), (\"moremanufacturer's\", 1), (\"shark's\", 1), (\"membrane's\", 1), (\"wx's\", 1), (\"vx's\", 1), (\"cfl's\", 1), (\"diagnosislg's\", 1), (\"frigidaire's\", 1), (\"trader's\", 1), (\"component's\", 1), (\"gadget's\", 1), (\"noise's\", 1), (\"haier's\", 1), (\"wifi's\", 1), (\"filo's\", 1), (\"whirlpool's\", 1), (\"stitcher'breathe\", 1), (\"conditioner's\", 1), (\"adult's\", 1), (\"malhotra's\", 1), (\"hassle's\", 1), (\"duster's\", 1), (\"mop's\", 1), (\"electrotech's\", 1), (\"jaipur's\", 1), (\"signia's\", 1), (\"shop's\", 1), (\"decor's\", 1), (\"keepwell's\", 1), (\"embros's\", 1), (\"american's\", 1), (\"glide's\", 1), (\"composer's\", 1), (\"hindware's\", 1), (\"l'oreal\", 1), (\"bonsai's\", 1), (\"khurana's\", 1), (\"safety's\", 1), (\"agrico's\", 1), (\"jeweler's\", 1), (\"heinz's\", 1), (\"remnick's\", 1), (\"electric's\", 1), (\"tap's\", 1), (\"brandindia's\", 1), (\"depthometer's\", 1), (\"swanson's\", 1), (\"startek's\", 1), (\"liveditor's\", 1), (\"ziglar's\", 1), (\"who'd\", 1), (\"venkataraman's\", 1), (\"andreae's\", 1), (\"peterson's\", 1), (\"attorney's\", 1), (\"clinician's\", 1), (\"bartholomew's\", 1), (\"spiegl's\", 1), (\"ravinder's\", 1), (\"chukti's\", 1), (\"sudeep's\", 1), (\"doerr's\", 1), (\"human's\", 1), (\"ididn't\", 1), (\"it'snot\", 1), (\"station's\", 1), (\"itv's\", 1), (\"yesterday's\", 1), (\"rooibos's\", 1), (\"bicycle's\", 1), (\"while's\", 1), (\"compiler's\", 1), (\"worker's\", 1), (\"news'what\", 1), (\"che's\", 1), (\"times'political\", 1), (\"frommer's\", 1), (\"travel's\", 1), (\"switzerland's\", 1), (\"robert's\", 1), (\"patchett's\", 1), (\"gehrig's\", 1), (\"rosling's\", 1), (\"euromoney's\", 1), (\"banker's\", 1), (\"news's\", 1), (\"sorkin's\", 1), (\"conservative's\", 1), (\"devdutt's\", 1), (\"turkey's\", 1), (\"sharath's\", 1), (\"archer's\", 1), (\"weaver's\", 1), (\"odysseus's\", 1), (\"protagonist's\", 1), (\"heroine's\", 1), (\"o'donoghue\", 1), (\"classicist's\", 1), (\"lapham's\", 1), (\"innocent's\", 1), (\"frank's\", 1), (\"lobel's\", 1), (\"pandora's\", 1), (\"vancleave's\", 1), (\"carolina's\", 1), (\"akademi's\", 1), (\"bryson's\", 1), (\"machiavelli's\", 1), (\"testament's\", 1), (\"church's\", 1), (\"towerdoesn't\", 1), (\"spinner's\", 1), (\"rutuja's\", 1), (\"blumenthal'the\", 1), (\"ramsay'the\", 1), (\"kalam's\", 1), (\"agency's\", 1), (\"washington'the\", 1), (\"york'thrilling\", 1), (\"lapierre's\", 1), (\"casey've\", 1), (\"yoga's\", 1), (\"sparrow's\", 1), (\"granny's\", 1), (\"durrell's\", 1), (\"krishnamurti's\", 1), (\"parliament's\", 1), (\"london'this\", 1), (\"review'eloquent\", 1), (\"engel's\", 1), (\"right's\", 1), (\"hart's\", 1), (\"bertie's\", 1), (\"jin's\", 1), (\"needle's\", 1), (\"sebi's\", 1), (\"ford's\", 1), (\"motoroyale's\", 1), (\"fulsom's\", 1), (\"congress's\", 1), (\"allen's\", 1), (\"kushner's\", 1), (\"also'for\", 1), (\"priddy's\", 1), (\"publishing's\", 1), (\"stein's\", 1), (\"winner's\", 1), (\"ebert's\", 1), (\"medium's\", 1), (\"his'provocative\", 1), (\"hopkinson's\", 1), (\"species's\", 1), (\"humankind's\", 1), (\"relihan's\", 1), (\"o'donnell\", 1), (\"owl's\", 1), (\"gardener's\", 1), (\"anthony's\", 1), (\"tanenbaum's\", 1), (\"kishor's\", 1), (\"schildt's\", 1), (\"wickham's\", 1), (\"rstudio's\", 1), (\"eone's\", 1), (\"warden's\", 1), (\"hurley's\", 1), (\"hanny's\", 1), (\"loney's\", 1), (\"lisey's\", 1), (\"hacker's\", 1), (\"peppa's\", 1), (\"emma's\", 1), (\"sister's\", 1), (\"valmiki's\", 1), (\"habib's\", 1), (\"wiersbe's\", 1), (\"kapoor's\", 1), (\"fife's\", 1), (\"hood's\", 1), (\"batman's\", 1), (\"moore's\", 1), (\"tibet's\", 1), (\"nephew's\", 1), (\"pamuk's\", 1), (\"emily's\", 1), (\"d'if\", 1), (\"shigemoto's\", 1), (\"demon's\", 1), (\"christ's\", 1), (\"fanatic's\", 1), (\"sportsman's\", 1), (\"dipa's\", 1), (\"ignotofsky's\", 1), (\"buff's\", 1), (\"o'briens\", 1), (\"asperger's\", 1), (\"liar's\", 1), (\"dickens's\", 1), (\"bk's\", 1), (\"kluwer's\", 1), (\"investor's\", 1), (\"management's\", 1), (\"cuckoo's\", 1), (\"summer's\", 1), (\"nicholas's\", 1), (\"nick's\", 1), (\"psu's\", 1), (\"council's\", 1), (\"universal's\", 1), (\"snyder's\", 1), (\"to's\", 1), (\"pilgrim's\", 1), (\"magician's\", 1), (\"intel's\", 1), (\"project's\", 1), (\"java's\", 1), (\"drew's\", 1), (\"media's\", 1), (\"philosopher's\", 1), (\"stine's\", 1), (\"harker's\", 1), (\"lady's\", 1), (\"peasant's\", 1), (\"burger's\", 1), (\"herr's\", 1), (\"shadowhunter's\", 1), (\"titan's\", 1), (\"tiger's\", 1), (\"circus's\", 1), (\"clarke's\", 1), (\"chakraborty's\", 1), (\"athena's\", 1), (\"aries's\", 1), (\"zeus's\", 1), (\"michael's\", 1), (\"reall's\", 1), (\"prevent's\", 1), (\"stilton's\", 1), (\"tehelka'a\", 1), (\"today'indian\", 1), (\"telegraph'wickedly\", 1), (\"literature'one\", 1), (\"evening's\", 1), (\"reshma's\", 1), (\"netflix's\", 1), (\"eggers's\", 1), (\"carreyrou's\", 1), (\"manu's\", 1), (\"ravana's\", 1), (\"camus's\", 1), (\"trial's\", 1), (\"rinpoche's\", 1), (\"daishonin's\", 1), (\"cutler's\", 1), (\"siddhartha's\", 1), (\"ambedkar's\", 1), (\"christian's\", 1), (\"fix's\", 1), (\"ain't\", 1), (\"surf's\", 1), (\"reviewer's\", 1), (\"leadbetter's\", 1), (\"haney's\", 1), (\"georgia's\", 1), (\"house's\", 1), (\"hay's\", 1), (\"kamath's\", 1), (\"bandyopadhyay's\", 1), (\"business's\", 1), (\"crime's\", 1), (\"mao's\", 1), (\"joyce's\", 1), (\"flynn'twisted\", 1), (\"footwear's\", 1), (\"rushdie's\", 1), (\"husain's\", 1), (\"chander's\", 1), (\"pollock'a\", 1), (\"witzel'an\", 1), (\"debroy'intellectual\", 1), (\"ramakrishnan'at\", 1), (\"korisettar'masterful\", 1), (\"majumder'if\", 1), (\"baba's\", 1), (\"o'brian\", 1), (\"nyu's\", 1), (\"sweden's\", 1), (\"xavier's\", 1), (\"department's\", 1), (\"howard's\", 1), (\"varun's\", 1), (\"minister's\", 1), (\"mueller's\", 1), (\"truth's\", 1), (\"woodward's\", 1), (\"law's\", 1), (\"ab's\", 1), (\"team's\", 1), (\"keynes's\", 1), (\"laxmikanth's\", 1), (\"t'si\", 1), (\"rome'handsomely\", 1), (\"bulletin'her\", 1), (\"tower's\", 1), (\"llah's\", 1), (\"esslemont's\", 1), (\"ferraby's\", 1), (\"huddleston's\", 1), (\"hatcher's\", 1), (\"bowers's\", 1), (\"bahaullah's\", 1), (\"baha'is\", 1), (\"christianity's\", 1), (\"macculloch's\", 1), (\"maccomick's\", 1), (\"insha'allah\", 1), (\"d'etudes\", 1), (\"seeker's\", 1), (\"daniel's\", 1), (\"jerusalem's\", 1), (\"novelist's\", 1), (\"journalist's\", 1), (\"hitchens's\", 1), (\"ancestor's\", 1), (\"woolfolk's\", 1), (\"guru's\", 1), (\"rishi's\", 1), (\"astrologer's\", 1), (\"armin's\", 1), (\"aurelius's\", 1), (\"hays's\", 1), (\"om's\", 1), (\"osho's\", 1), (\"arundhathi's\", 1), (\"upkar's\", 1), (\"hanuman's\", 1), (\"castaneda's\", 1), (\"contie's\", 1), (\"d'astrolabe\", 1), (\"lavey's\", 1), (\"eben's\", 1), (\"weiss's\", 1), (\"me'eter\", 1), (\"prison's\", 1), (\"bainton's\", 1), (\"aquinas's\", 1), (\"mayfield's\", 1), (\"webber's\", 1), (\"tesla's\", 1), (\"frankenstein's\", 1), (\"okawa's\", 1), (\"nanak's\", 1), (\"tabor's\", 1), (\"prichard's\", 1), (\"conway's\", 1), (\"montgomery's\", 1), (\"storyteller's\", 1), (\"pickett's\", 1), (\"america'smost\", 1), (\"cabela's\", 1), (\"chaucer's\", 1), (\"viesturs's\", 1), (\"patriciakalember's\", 1), (\"bear's\", 1), (\"florida's\", 1), (\"kumar's\", 1), (\"subject's\", 1), (\"walker's\", 1), (\"duckworth's\", 1), (\"wisconsin's\", 1), (\"empire's\", 1), (\"rajamouli's\", 1), (\"ravan's\", 1), (\"anita's\", 1), (\"englishman's\", 1), (\"gulzar's\", 1), (\"sahab's\", 1), (\"sa'ab\", 1), (\"lovelace's\", 1), (\"python's\", 1), (\"spectrum's\", 1), (\"jill's\", 1), (\"oklahoma's\", 1), (\"nora's\", 1), (\"davidowitz's\", 1), (\"espn's\", 1), (\"o's\", 1), (\"ncaa's\", 1), (\"weider's\", 1), (\"bodybuilding's\", 1), (\"stoppani's\", 1), (\"trainer's\", 1), (\"kavanagh's\", 1), (\"oyamas's\", 1), (\"ufc's\", 1), (\"pont's\", 1), (\"birder's\", 1), (\"fodor's\", 1), (\"againhere's\", 1), (\"poker's\", 1), (\"fotheringham's\", 1), (\"cycling's\", 1), (\"eisner's\", 1), (\"d'italia\", 1), (\"d'huez\", 1), (\"bible's\", 1), (\"ireland's\", 1), (\"hayward's\", 1), (\"commission's\", 1), (\"francis's\", 1), (\"dick's\", 1), (\"shoemaker's\", 1), (\"mwa's\", 1), (\"zi's\", 1), (\"graynor's\", 1), (\"glock's\", 1), (\"shooter's\", 1), (\"ucla's\", 1), (\"higdon's\", 1), (\"karnazes's\", 1), (\"koehler's\", 1), (\"shreve's\", 1), (\"altman's\", 1), (\"redford's\", 1), (\"pakula's\", 1), (\"fellini's\", 1), (\"chief's\", 1), (\"jane's\", 1), (\"marshal's\", 1), (\"subramaniam's\", 1), (\"football's\", 1), (\"montague's\", 1), (\"service's\", 1), (\"columbia's\", 1), (\"l'heure\", 1), (\"mossad's\", 1), (\"bseiso's\", 1), (\"noakes's\", 1), (\"joe's\", 1), (\"marcora's\", 1), (\"faq's\", 1), (\"compton's\", 1), (\"expedition's\", 1), (\"shackelton's\", 1), (\"rquez's\", 1), (\"marquez's\", 1), (\"lloyd's\", 1), (\"slocum's\", 1), (\"surfer's\", 1), (\"quester's\", 1), (\"finnegan's\", 1), (\"windsurfing's\", 1), (\"load's\", 1), (\"tucker's\", 1), (\"tale's\", 1), (\"hungary's\", 1), (\"liverpool's\", 1), (\"souey's\", 1), (\"bucharest's\", 1), (\"diego's\", 1), (\"innovator's\", 1), (\"jiambalvo's\", 1), (\"pabrai's\", 1), (\"lynch's\", 1), (\"elaine's\", 1), (\"ewing's\", 1), (\"money's\", 1), (\"snail's\", 1), (\"else's\", 1), (\"mumbai's\", 1), (\"varian's\", 1), (\"freund's\", 1), (\"dogra's\", 1), (\"joseph's\", 1), (\"princeton's\", 1), (\"buffet's\", 1), (\"lu's\", 1), (\"godin's\", 1), (\"prospect's\", 1), (\"bookseller's\", 1), (\"aadmi's\", 1), (\"nir's\", 1), (\"missouri's\", 1), (\"stone's\", 1), (\"hubspot's\", 1), (\"hafid's\", 1), (\"adversary's\", 1), (\"abraham's\", 1), (\"journalism's\", 1), (\"harcup's\", 1), (\"poet's\", 1), (\"moran's\", 1), (\"talmy's\", 1), (\"administration's\", 1), (\"o'neil\", 1), (\"finn's\", 1), (\"chancellor's\", 1), (\"accenture's\", 1), (\"champaign's\", 1), (\"engineering'scientific\", 1), (\"proofing's\", 1), (\"nakielny's\", 1), (\"nigeria's\", 1), (\"siddhan't\", 1), (\"childhood's\", 1), (\"greenspan's\", 1), (\"wooldridge's\", 1), (\"bush's\", 1), (\"morrie's\", 1), (\"yellowstone's\", 1), (\"nato's\", 1), (\"coll's\", 1), (\"galeano's\", 1), (\"chavez's\", 1), (\"reed's\", 1), (\"tagore's\", 1), (\"anderson's\", 1), (\"love's\", 1), (\"gardner's\", 1), (\"chowdhury's\", 1), (\"tung's\", 1), (\"griffith's\", 1), (\"restoration's\", 1), (\"conrad's\", 1), (\"o'sullivan\", 1), (\"hawai'i\", 1), (\"sotheby's\", 1), (\"satya's\", 1), (\"l'eschole\", 1), (\"l'usage\", 1), (\"de'papiri\", 1), (\"d'essi\", 1), (\"leopardi's\", 1), (\"selleramazon's\", 1), (\"kondo's\", 1), (\"cleary's\", 1), (\"musashi's\", 1), (\"murasaki's\", 1), (\"clarion's\", 1), (\"milne's\", 1), (\"blue's\", 1), (\"newark's\", 1), (\"swede's\", 1), (\"dawn's\", 1), (\"spiller's\", 1), (\"pook's\", 1), (\"water's\", 1), (\"way's\", 1), (\"mahomet's\", 1), (\"rao's\", 1), (\"lucent's\", 1), (\"catherine's\", 1), (\"general's\", 1), (\"professor's\", 1), (\"d'oro\", 1), (\"l'italia\", 1), (\"verga's\", 1), (\"d'autore\", 1), (\"all'epica\", 1), (\"piglet's\", 1), (\"desai's\", 1), (\"pirandello's\", 1), (\"dante's\", 1), (\"chamberlain's\", 1), (\"stanislavski's\", 1), (\"hussein's\", 1), (\"wraith's\", 1), (\"review'well\", 1), (\"information'the\", 1), (\"purist's\", 1), (\"buzzfeed's\", 1), (\"elle's\", 1), (\"bookriot's\", 1), (\"nylon's\", 1), (\"bookbub's\", 1), (\"kiehl's\", 1), (\"nero's\", 1), (\"beeton's\", 1), (\"holmes's\", 1), (\"weir's\", 1), (\"gently's\", 1), (\"brick's\", 1), (\"vandermeer's\", 1), (\"meg's\", 1), (\"belnap's\", 1), (\"hacking's\", 1), (\"supplement'this\", 1), (\"thagard's\", 1), (\"artists's\", 1), (\"press's\", 1), (\"youth's\", 1), (\"halsbury's\", 1), (\"khan's\", 1), (\"strathclyde's\", 1), (\"businessweek's\", 1), (\"spear's\", 1), (\"mankind's\", 1), (\"com's\", 1), (\"sage's\", 1), (\"bloomberg's\", 1), (\"beef's\", 1), (\"husband's\", 1), (\"hawken's\", 1), (\"virginia's\", 1), (\"schwartz's\", 1), (\"gawande's\", 1), (\"target's\", 1), (\"wearwhat's\", 1), (\"usher's\", 1), (\"blake's\", 1), (\"bredesen's\", 1), (\"california's\", 1), (\"o'toole\", 1), (\"optometrist's\", 1), (\"eso's\", 1), (\"mcminn's\", 1), (\"egan's\", 1), (\"davies's\", 1), (\"scheffer'sencyclopedia\", 1), (\"ottawa's\", 1), (\"report's\", 1), (\"gabriel's\", 1), (\"cousens's\", 1), (\"bandler's\", 1), (\"mckenna's\", 1), (\"job's\", 1), (\"emperor's\", 1), (\"l's\", 1), (\"goodall's\", 1), (\"artemis's\", 1), (\"shafer's\", 1), (\"fischer's\", 1), (\"graber's\", 1), (\"lippincott's\", 1), (\"paniker's\", 1), (\"jaffe's\", 1), (\"registrar's\", 1), (\"hazzard's\", 1), (\"of'modern\", 1), (\"braddom's\", 1), (\"glenn's\", 1), (\"math's\", 1), (\"harrison's\", 1), (\"hutchison's\", 1), (\"sacks's\", 1), (\"francisco's\", 1), (\"wittgenstein's\", 1), (\"mercola's\", 1), (\"cbs's\", 1), (\"thieme's\", 1), (\"grandfather's\", 1), (\"spouse's\", 1), (\"hadfield's\", 1), (\"brocklehurst's\", 1), (\"parkinson's\", 1), (\"initiative's\", 1), (\"monk's\", 1), (\"joel's\", 1), (\"curran's\", 1), (\"junqueira's\", 1), (\"might've\", 1), (\"chris's\", 1), (\"msnbc's\", 1), (\"o'brien\", 1), (\"psychiatry'an\", 1), (\"psychopharmacology'i\", 1), (\"shaman's\", 1), (\"dorland's\", 1), (\"jaypee's\", 1), (\"karnofsky's\", 1), (\"bansal's\", 1), (\"jekel's\", 1), (\"testslet's\", 1), (\"robinson's\", 1), (\"dog's\", 1), (\"yeates's\", 1), (\"flo's\", 1), (\"piermattei's\", 1), (\"kirk's\", 1), (\"uttam's\", 1), (\"norton's\", 1), (\"astronomer's\", 1), (\"laboratory's\", 1), (\"visitor's\", 1), (\"apron's\", 1), (\"emu's\", 1), (\"schaum's\", 1), (\"merkel's\", 1), (\"curve's\", 1), (\"harrington's\", 1), (\"herrnstein's\", 1), (\"newton's\", 1), (\"irodov's\", 1), (\"physicist's\", 1), (\"fx's\", 1), (\"who're\", 1), (\"gopalkrishna's\", 1), (\"sartre's\", 1), (\"bihar's\", 1), (\"amit's\", 1), (\"bombay's\", 1), (\"journal's\", 1), (\"baldwin's\", 1), (\"giovanni's\", 1), (\"weiner's\", 1), (\"isherwood's\", 1), (\"hammer's\", 1), (\"facebook's\", 1), (\"sheryl's\", 1), (\"gill's\", 1), (\"nikita's\", 1), (\"ashk's\", 1), (\"sahni's\", 1), (\"mastur's\", 1), (\"greene's\", 1), (\"wollstonecraft's\", 1), (\"mlk's\", 1), (\"benegal's\", 1), (\"sarabhai's\", 1), (\"apa's\", 1), (\"governments's\", 1), (\"qutb's\", 1), (\"o'neill\", 1), (\"bergen's\", 1), (\"china'a\", 1), (\"technologist's\", 1), (\"guru'praise\", 1), (\"darnton's\", 1), (\"woodard's\", 1), (\"russert's\", 1), (\"quinn's\", 1), (\"bernstein's\", 1), (\"soros's\", 1), (\"sadock's\", 1), (\"berne's\", 1), (\"psyd's\", 1), (\"blakemore's\", 1), (\"marie's\", 1), (\"behavior's\", 1), (\"seattle's\", 1), (\"victim's\", 1), (\"hayes's\", 1), (\"wachtel's\", 1), (\"o'donohoe\", 1), (\"consumer's\", 1), (\"work's\", 1), (\"textit's\", 1), (\"moment'wit\", 1), (\"wodehouse's\", 1), (\"gentleman's\", 1), (\"sap's\", 1), (\"therapy's\", 1), (\"child'sthe\", 1), (\"tyler's\", 1), (\"kiplin's\", 1), (\"kleon's\", 1), (\"architecture's\", 1), (\"neufert's\", 1), (\"taschen's\", 1), (\"ramanta's\", 1), (\"batch's\", 1), (\"sylan's\", 1), (\"cap's\", 1), (\"face's\", 1), (\"boys's\", 1), (\"baniyan's\", 1), (\"claesen's\", 1), (\"champ's\", 1), (\"creatio's\", 1), (\"magerment's\", 1), (\"srw's\", 1), (\"cozami's\", 1), (\"aditii's\", 1), (\"mayra's\", 1), (\"jogger's\", 1), (\"you'llever\", 1), (\"plazzo's\", 1), (\"laavian's\", 1), (\"creation's\", 1), (\"knotyy's\", 1), (\"shirt's\", 1), (\"b'day\", 1), (\"kesari's\", 1), (\"pant's\", 1), (\"bottom's\", 1), (\"artisan's\", 1), (\"come's\", 1), (\"mojari's\", 1), (\"fesa's\", 1), (\"finger's\", 1), (\"technology's\", 1), (\"men'sstyle\", 1), (\"pajama's\", 1), (\"jersey's\", 1), (\"len's\", 1), (\"scatchite's\", 1), (\"crew's\", 1), (\"model's\", 1), (\"label's\", 1), (\"womne's\", 1), (\"fabwomen'sembroidered\", 1), (\"kashmir's\", 1), (\"doll's\", 1), (\"medela's\", 1), (\"addy's\", 1), (\"cora's\", 1), (\"delilah's\", 1), (\"pompadour's\", 1), (\"d'claire\", 1), (\"cincher's\", 1), (\"pistaa's\", 1), (\"girtl's\", 1), (\"pj's\", 1), (\"kayimi's\", 1), (\"be's\", 1), (\"palmer's\", 1), (\"collection's\", 1), (\"whenit's\", 1), (\"trail'moriarty\", 1), (\"independent'the\", 1), (\"tatler'honest\", 1), (\"magazine'lots\", 1), (\"times'very\", 1), (\"guide'funny\", 1), (\"womenit's\", 1), (\"o'womaniyah\", 1), (\"f's\", 1), (\"wallet's\", 1), (\"boot's\", 1), (\"who've\", 1), (\"headset's\", 1), (\"logitech's\", 1), (\"maximum's\", 1), (\"webcam's\", 1), (\"behringer's\", 1), (\"ultrabook's\", 1), (\"hdtv's\", 1), (\"kitty's\", 1), (\"u's\", 1), (\"dell's\", 1), (\"manufacture's\", 1), (\"screensurance's\", 1), (\"me's\", 1), (\"cartridge's\", 1), (\"mobonic's\", 1), (\"supplement's\", 1), (\"battery's\", 1), (\"wall's\", 1), (\"case's\", 1), (\"gamer's\", 1), (\"wire's\", 1), (\"avermedia's\", 1), (\"g's\", 1), (\"vanderbilt's\", 1), (\"benq's\", 1), (\"zoook's\", 1), (\"eu's\", 1), (\"bay's\", 1), (\"rahman'kill\", 1), (\"kit's\", 1), (\"purchaseindia's\", 1), (\"key's\", 1), (\"barrel's\", 1), (\"skullcandy's\", 1), (\"tommy's\", 1), (\"ringke's\", 1), (\"shred's\", 1), (\"shredder's\", 1), (\"stripper's\", 1), (\"d'addario\", 1), (\"secro's\", 1), (\"market's\", 1), (\"on's\", 1), (\"hyperloop's\", 1), (\"zero's\", 1), (\"controller's\", 1), (\"fiio's\", 1), (\"denon's\", 1), (\"cruiser's\", 1), (\"tokina's\", 1), (\"canon's\", 1), (\"rite's\", 1), (\"datacolor's\", 1), (\"c's\", 1), (\"ring's\", 1), (\"interior's\", 1), (\"backpack's\", 1), (\"silicon's\", 1), (\"mobile's\", 1), (\"compound's\", 1), (\"can's\", 1), (\"godox's\", 1), (\"cellphone's\", 1), (\"bryan's\", 1), (\"skylight's\", 1), (\"laureate's\", 1), (\"salazar's\", 1), (\"atoma's\", 1), (\"glieck's\", 1), (\"barabasi's\", 1), (\"strogatz's\", 1), (\"slr's\", 1), (\"kenko's\", 1), (\"youtuber's\", 1), (\"gopro's\", 1), (\"agent's\", 1), (\"eyepiece's\", 1), (\"scope's\", 1), (\"celestron's\", 1), (\"candid's\", 1), (\"foyle's\", 1), (\"campaign's\", 1), (\"chetan's\", 1), (\"talk's\", 1), (\"mnc's\", 1), (\"democracy's\", 1), (\"tomorrow's\", 1), (\"neewer's\", 1), (\"cam's\", 1), (\"sunam's\", 1), (\"int'l\", 1), (\"monopod's\", 1), (\"fm's\", 1), (\"clamp's\", 1), (\"speeaker's\", 1), (\"technuv's\", 1), (\"novel's\", 1), (\"crossover's\", 1), (\"d'fine\", 1), (\"locator's\", 1), (\"toy's\", 1), (\"infinity's\", 1), (\"focal's\", 1), (\"woofer's\", 1), (\"acoustic's\", 1), (\"mcenter's\", 1), (\"yamaha's\", 1), (\"screen's\", 1), (\"harmony's\", 1), (\"tweeter's\", 1), (\"mayberry's\", 1), (\"scandinavia's\", 1), (\"edifier's\", 1), (\"jbl's\", 1), (\"connectivity's\", 1), (\"holder's\", 1), (\"zaap's\", 1), (\"ergonomic's\", 1), (\"ambrane's\", 1), (\"arm's\", 1), (\"ipod's\", 1), (\"cyberlink's\", 1), (\"caller's\", 1), (\"gadgetsmom's\", 1), (\"rim's\", 1), (\"callisn't\", 1)]\n",
            "\n",
            "\n",
            "[(\"n's\", 4201), (\"t's\", 2109), (\"n't\", 1422), (\"e's\", 1073), (\"r's\", 925), (\"y's\", 785), (\"d's\", 641), (\"a's\", 569), (\"l's\", 448), (\"u're\", 358), (\"u'll\", 314), (\"k's\", 174), (\"m's\", 147), (\"i's\", 137), (\"o's\", 128), (\"h's\", 123), (\"s's\", 100), (\"i've\", 98), (\"y're\", 95), (\"u've\", 94), (\"i'm\", 85), (\"g's\", 84), (\"e've\", 81), (\"c's\", 81), (\"p's\", 47), (\"e're\", 42), (\"f's\", 40), (\"x's\", 32), (\"u'd\", 27), (\"w's\", 25), (\"i'd\", 25), (\"u's\", 23), (\"e'll\", 20), (\"t'll\", 19), (\"v's\", 19), (\"i'll\", 19), (\"z's\", 17), (\"e'd\", 16), (\"b's\", 13), (\"q's\", 12), (\"y'll\", 12), (\"y've\", 10), (\"l'engle\", 10), (\"a'z\", 9), (\"n'ts\", 8), (\"a'i\", 8), (\"d'mak\", 6), (\"a'smaternity\", 6), (\"a'u\", 5), (\"u'llc\", 5), (\"o'reilly\", 4), (\"d'honneur\", 4), (\"n'ble\", 4), (\"f'n\", 3), (\"e'longhi\", 3), (\"o'connor\", 3), (\"d'ancona\", 3), (\"d'angelo\", 3), (\"d'em\", 3), (\"t'swith\", 3), (\"j's\", 2), (\"d'arques\", 2), (\"o'dea\", 2), (\"n'the\", 2), (\"d'horizon\", 2), (\"a'a\", 2), (\"y'd\", 2), (\"h'an\", 2), (\"r'an\", 2), (\"o'connell\", 2), (\"u'l\", 2), (\"l'universite\", 2), (\"s'munroe\", 2), (\"d'erasmo\", 2), (\"a'shop\", 2), (\"g'n\", 2), (\"o'll\", 1), (\"o'learythis\", 1), (\"d'maktm\", 1), (\"s'edges\", 1), (\"t'is\", 1), (\"s'mores\", 1), (\"e'xpress\", 1), (\"r'breathe\", 1), (\"l'oreal\", 1), (\"o'd\", 1), (\"t'snot\", 1), (\"s'what\", 1), (\"s'political\", 1), (\"o'donoghue\", 1), (\"l'the\", 1), (\"y'the\", 1), (\"k'thrilling\", 1), (\"n'this\", 1), (\"w'eloquent\", 1), (\"o'for\", 1), (\"s'provocative\", 1), (\"o'donnell\", 1), (\"d'if\", 1), (\"o'briens\", 1), (\"y'indian\", 1), (\"h'wickedly\", 1), (\"e'one\", 1), (\"n'twisted\", 1), (\"k'a\", 1), (\"l'an\", 1), (\"y'intellectual\", 1), (\"n'at\", 1), (\"r'masterful\", 1), (\"r'if\", 1), (\"o'brian\", 1), (\"t'si\", 1), (\"e'handsomely\", 1), (\"n'her\", 1), (\"a'is\", 1), (\"a'allah\", 1), (\"d'etudes\", 1), (\"d'astrolabe\", 1), (\"e'eter\", 1), (\"a'smost\", 1), (\"a'ab\", 1), (\"d'italia\", 1), (\"d'huez\", 1), (\"l'heure\", 1), (\"o'neil\", 1), (\"g'scientific\", 1), (\"o'sullivan\", 1), (\"i'i\", 1), (\"l'eschole\", 1), (\"l'usage\", 1), (\"e'papiri\", 1), (\"d'essi\", 1), (\"d'oro\", 1), (\"l'italia\", 1), (\"d'autore\", 1), (\"l'epica\", 1), (\"w'well\", 1), (\"t'this\", 1), (\"o'toole\", 1), (\"r'sencyclopedia\", 1), (\"f'modern\", 1), (\"t've\", 1), (\"o'brien\", 1), (\"y'an\", 1), (\"y'i\", 1), (\"o're\", 1), (\"o'neill\", 1), (\"u'praise\", 1), (\"o'donohoe\", 1), (\"t'wit\", 1), (\"d'sthe\", 1), (\"u'llever\", 1), (\"b'day\", 1), (\"n'sstyle\", 1), (\"n'sembroidered\", 1), (\"d'claire\", 1), (\"l'moriarty\", 1), (\"t'the\", 1), (\"r'honest\", 1), (\"e'lots\", 1), (\"s'very\", 1), (\"e'funny\", 1), (\"o'womaniyah\", 1), (\"o've\", 1), (\"n'kill\", 1), (\"d'addario\", 1), (\"t'l\", 1), (\"d'fine\", 1)]\n",
            "\n",
            "\n",
            "['https://www.youtube.com/watch?v=oenie6icvlu', 'https://postimg.org/image/5o0qh90hx/', 'https://youtu.be/cq2c6vzyfza', 'https://www.youtube.com/watch?v=pcmyyoqzyui-our', 'https://www.instagram.com/uandi_designs/', 'https://www.youtube.com/watch?v=ix7gasqk_04&t=100s', 'https://www.youtube.com/watch?v=zvzdsmyswk0', 'https://www.youtube.com/watch?v=zvzdsmyswk0', 'https://www.youtube.com/watch?v=isaml7rzofa&t=73s', 'http://amzn.in/ebpapvb', 'https://youtu.be/mdefguis6aa', 'https://www.youtube.com/watch?v=d5zmndm-_jg', 'https://youtu.be/mdefguis6aa', 'https://youtu.be/sjgsuplkg64', 'http://www.ynharari.com/', 'http://snap.stanford.edu),', 'http://www.sandervanvugt.com', 'http://www.sandervanvugt.com', 'http://www.rhatcert.com/.', 'http://myarsu.com', 'http://www.myarsu.com/product/anthropology/', '(http://www.presentationzen.com/)', 'http://www.campusrecruitment.co.in/download.html', '(https://www.facebook.com', 'https://www.facebook.com/', '(https://github.com/bushvin).', 'http://bencane.com.', '(https://github.com/runbook/runbook),', '(http://www.mindflick.co.uk/)', '(http://www.mindflick.co.uk/)', 'http://web.mit.edu/rudi/www/', '(http://rafayhackingarticles.net).', 'http://www.glycosmedia.com/bailey-and-loves-short-practice-of-surgery-2/', 'http://umotosachiko.com.', '(http://www.kcl.ac.uk/prospectus/graduate/advanced-minimum-intervention-dentistry).', 'https://ethics-ias.blogspot.com/', 'http://powerseductionandwar.com/</p>', 'https://www.amazon.in/dp/9386882868', '(http://health.groups.yahoo.com/group/act_for_the_public/).', 'https://bigdataclassmumbai.com.', 'https://in.linkedin.com/in/prashant-solution-architect', 'https://www.amazon.in/s/ref=nb_sb_noss_2?url=search-alias%3daps&field-keywords=sojos', 'https://www.amazon.in/s/ref=nb_sb_noss_2?url=search-alias%3daps&field-keywords=sojos', 'http://www.amazon.in/s/ref=w_bl_sl_s_ap_web_1571271031?ie=utf8&node=1571271031&field-brandtextbin=laceandme', 'https://www.amazon.in/s/ref=nb_sb_noss_2?url=search-alias%3daps&field-keywords=sojos', 'https://www.amazon.in/s/ref=nb_sb_noss_2?url=search-alias%3daps&field-keywords=sojos', 'https://www.amazon.in/s/ref=nb_sb_noss_2?url=search-alias%3daps&field-keywords=sojos', 'https://www.amazon.in/s/ref=nb_sb_noss_2?url=search-alias%3daps&field-keywords=sojos', 'http://www.wacom.com/support/product-', 'https://youtu.be/ifia_-coyke', 'https://www.youtube.com/watch?v=eiokw_p6wtk', 'http://www.hp.com/go/learnaboutsupplies.', 'http://www.dlink.co.in/products/?pid=dwp-157', 'http://goo.gl/mr7pgo', 'https://www.youtube.com/watch?v=-f_lbsngzwi', 'http://vanhurkman.com/', 'https://amzn.to/2xep946', 'https://amzn.to/2s9tils', 'http://g-ec2.images-amazon.com/images/g/01/imdb/plugins/rating/js/rating.min.js', 'https://drive.google.com/open?id=1xw3tstkhdrojpyv_toyahf5oocrk5_jf', 'https://www.youtube.com/watch?v=jckogs-0pxc']\n"
          ]
        }
      ]
    },
    {
      "cell_type": "code",
      "source": [
        "custom_contracts = {\n",
        "    \"women's\" : \"women\",\n",
        "    \"men's\" : \"men\",\n",
        "    \"girl's\" : \"girl\",\n",
        "    \"boy's\" : \"boy\",\n",
        "    \"don't\" : \"do not\",\n",
        "    \"product's\" : \"product\",\n",
        "    \"it's\" : \"its\",\n",
        "    \"bra's\" : \"bras\",\n",
        "    \"won't\": \"will not\",\n",
        "    \"doesn't\" : \"does not\",\n",
        "    \"l's\" : \" \",\n",
        "    \"n's\" : \" \",\n",
        "    \"y's\" : \" \",\n",
        "    \"n't\" : \"not\",\n",
        "    \"r's\" : \"rs\",\n",
        "    \"u're\" : \"your\",\n",
        "    \"a's\" : \" \",\n",
        "    \"e's\": \" \"\n",
        "}\n",
        "\n",
        "custom_stopwords = [w for w in set(stopwords.words(\"english\"))]\n",
        "custom_stopwords += list(punctuation)\n",
        "stopwords_dataset = [\"will\",\"use\",\"made\",\"cash\", \"rs\", \"india\",\"details\", \"guarantee\",\"free\", \"genuine\"]\n",
        "custom_stopwords.extend(stopwords_dataset)\n",
        "wordnet_lemmatizer = WordNetLemmatizer()"
      ],
      "metadata": {
        "id": "c8DcW8NK21fr"
      },
      "execution_count": 21,
      "outputs": []
    },
    {
      "cell_type": "code",
      "source": [
        "def clean(text):\n",
        "\n",
        "  for i in range(len(text)):\n",
        "    text[i] = text[i].lower()\n",
        "    text[i] = text[i].replace(\"\\n\",\" \")\n",
        "    for keys,values in custom_contracts.items():\n",
        "      text[i] = text[i].replace(keys,values)\n",
        "    text[i] = re.sub(\"[a-z]'[a-z]+\", \" \", text[i])\n",
        "    #removing the extra whitespaces\n",
        "    text[i] = re.sub(' +', ' ', text[i])\n",
        "    #keeping only the ascii characters -> handles emoticons, letters from other languages, etc\n",
        "    text[i] = re.sub(r'[^\\x00-\\x7F]+',' ', text[i])\n",
        "    #removing the urls\n",
        "    text[i] = re.sub('[(]?http[s]?://(?:[a-zA-Z]|[0-9]|[$-_@.&+#]|[!*\\(\\),]|(?:%[0-9a-fA-F][0-9a-fA-F])/)*', ' ', text[i])\n",
        "    text[i] = ''.join([j for j in text[i] if not j.isdigit()])\n",
        "    text[i] = text[i].split()\n",
        "    text[i] = ' '.join([word for word in text[i] if word not in custom_stopwords])\n",
        "    #removing the punctuations\n",
        "    text[i] = re.sub(r'[^\\w\\s]', '', text[i])\n",
        "    #lemmatization\n",
        "    text[i] = [wordnet_lemmatizer.lemmatize(w) for w in word_tokenize(text[i])]\n",
        "    #removing the words which have a length less than 3\n",
        "    text[i] = [word for word in text[i] if len(word)>=3]\n",
        "  \n",
        "  return text\n",
        "\n",
        "raw_description = dataset[\"text\"].tolist()\n",
        "cleaned_description = clean(raw_description)\n",
        "print(cleaned_description[:5])"
      ],
      "metadata": {
        "id": "xj_dhLPE3SCt",
        "colab": {
          "base_uri": "https://localhost:8080/"
        },
        "outputId": "1ed18c92-0b8c-4c05-e3ad-a6bb8a2fdbb6"
      },
      "execution_count": 22,
      "outputs": [
        {
          "output_type": "stream",
          "name": "stdout",
          "text": [
            "[['paper', 'plane', 'design', 'framed', 'wall', 'hanging', 'motivational', 'office', 'decor', 'art', 'print', 'inch', 'set', 'painting', 'synthetic', 'frame', 'textured', 'print', 'give', 'multi', 'effect', 'attracts', 'towards', 'special', 'series', 'painting', 'make', 'wall', 'beautiful', 'give', 'royal', 'touch', 'painting', 'ready', 'hang', 'would', 'proud', 'posse', 'unique', 'painting', 'niche', 'apart', 'modern', 'efficient', 'printing', 'technology', 'print', 'ink', 'precision', 'epson', 'roland', 'printer', 'innovative', 'printing', 'technique', 'result', 'durable', 'spectacular', 'looking', 'print', 'highest', 'last', 'lifetime', 'print', 'solely', 'topnotch', 'ink', 'achieve', 'brilliant', 'true', 'colour', 'due', 'high', 'level', 'resistance', 'print', 'retain', 'beautiful', 'colour', 'many', 'year', 'add', 'colour', 'style', 'living', 'space', 'digitally', 'printed', 'painting', 'pleasure', 'eternal', 'blissso', 'bring', 'home', 'elegant', 'print', 'lushed', 'rich', 'color', 'make', 'nothing', 'sheer', 'elegance', 'friend', 'familyit', 'would', 'treasured', 'forever', 'whoever', 'lucky', 'recipient', 'liven', 'place', 'intriguing', 'painting', 'high', 'definition', 'graphic', 'digital', 'print', 'home', 'office', 'room'], ['saf', 'floral', 'framed', 'painting', 'wood', 'inch', 'inch', 'special', 'effect', 'print', 'textured', 'sao', 'painting', 'synthetic', 'frame', 'textured', 'print', 'give', 'multi', 'effect', 'attracts', 'towards', 'special', 'series', 'painting', 'make', 'wall', 'beautiful', 'give', 'royal', 'touch', 'perfect', 'gift', 'special', 'one'], ['saf', 'textured', 'modern', 'art', 'print', 'framed', 'painting', 'synthetic', 'set', 'colormulticolor', 'size', 'overview', 'beautiful', 'painting', 'involves', 'action', 'skill', 'using', 'paint', 'right', 'manner', 'hence', 'end', 'product', 'picture', 'speak', 'thousand', 'word', 'say', 'art', 'trend', 'quite', 'time', 'now', 'give', 'different', 'viewer', 'different', 'meaning', 'style', 'design', 'saf', 'wood', 'matte', 'abstract', 'painting', 'frame', 'quite', 'abstract', 'mysteriously', 'beautiful', 'painting', 'nice', 'frame', 'gift', 'family', 'friend', 'painting', 'various', 'form', 'certain', 'figure', 'seen', 'image', 'add', 'good', 'set', 'light', 'place', 'painting', 'decor', 'give', 'different', 'feel', 'look', 'place', 'quality', 'durability', 'painting', 'matte', 'finish', 'includes', 'good', 'quality', 'frame', 'last', 'long', 'period', 'however', 'include', 'glass', 'along', 'frame', 'specification', 'purchase', 'saf', 'wood', 'matte', 'abstract', 'painting', 'frame', 'amazonin', 'customerfriendly', 'platform', 'wide', 'range', 'product', 'choose', 'from', 'shopping', 'click', 'away'], ['saf', 'flower', 'print', 'framed', 'painting', 'synthetic', 'inch', 'inch', 'textured', 'set', 'sanfsw', 'colormulticolor', 'size', 'beautiful', 'painting', 'involves', 'action', 'skill', 'using', 'paint', 'right', 'manner', 'hence', 'end', 'product', 'picture', 'speak', 'thousand', 'word', 'say', 'art', 'trend', 'quite', 'time', 'now', 'give', 'different', 'viewer', 'different', 'meaning', 'style', 'design', 'saf', 'wood', 'matte', 'painting', 'frame', 'quite', 'abstract', 'mysteriously', 'beautiful', 'painting', 'nice', 'frame', 'gift', 'family', 'friend', 'painting', 'various', 'form', 'certain', 'figure', 'seen', 'image', 'add', 'good', 'set', 'light', 'place', 'painting', 'decor', 'give', 'different', 'feel', 'look', 'place', 'quality', 'durability', 'painting', 'matte', 'finish', 'includes', 'good', 'quality', 'frame', 'last', 'long', 'period', 'however', 'include', 'glass', 'along', 'frame'], ['incredible', 'gift', 'wooden', 'happy', 'birthday', 'unique', 'personalized', 'gift', 'inch', 'size', 'natural', 'imported', 'wood', 'quite', 'solid', 'light', 'particle', 'pattern', 'soft', 'pale', 'blond', 'colour', 'uploaded', 'photo', 'look', 'amazing', 'beautiful', 'laser', 'engraving', 'one', 'popular', 'unique', 'gift', 'store', 'offer', 'multiple', 'size', 'used', 'table', 'top', 'big', 'size', 'used', 'wall', 'hanging', 'blend', 'home', 'decaration', 'need', 'upload', 'picture', 'add', 'text', 'rest', 'you', 'email', 'preview', 'making', 'final', 'product', 'want', 'best', 'moment', 'life', 'engraved', 'wooden', 'plaque', 'last', 'longer', 'time', 'stay', 'close', 'forever', 'right', 'place', 'present', 'various', 'size', 'personalized', 'engraved', 'wooden', 'plaque', 'birch', 'wood', 'let', 'memory', 'engraved', 'wooden', 'plaque', 'stay', 'forever']]\n"
          ]
        }
      ]
    },
    {
      "cell_type": "markdown",
      "source": [
        "# Visualizing cleaned dataset"
      ],
      "metadata": {
        "id": "iyS4yo7ZBhHX"
      }
    },
    {
      "cell_type": "code",
      "source": [
        "corpus = []\n",
        "for text in cleaned_description:\n",
        "  for word in text:\n",
        "    corpus.append(word)\n",
        "\n",
        "counter = Counter(corpus)\n",
        "most=counter.most_common()\n",
        "x, y = [], []\n",
        "for word,count in most[:40]:\n",
        "  if (word not in custom_stopwords):\n",
        "    x.append(word)\n",
        "    y.append(count)\n",
        "\n",
        "plt.figure(figsize=(20,6))\n",
        "plt.title(\"40 Most Common Words relevant to Dataset\", fontsize=20)\n",
        "plt.ylabel(\"Words\", fontsize=20)\n",
        "plt.xlabel(\"Frequency\", fontsize=20)\n",
        "plt.xticks(rotation=90)            \n",
        "sns.barplot(x=x,y=y)"
      ],
      "metadata": {
        "colab": {
          "base_uri": "https://localhost:8080/",
          "height": 428
        },
        "id": "KevMWQvBBd-f",
        "outputId": "624b171b-8793-4f5d-b08c-a3c1bf76fc2c"
      },
      "execution_count": 23,
      "outputs": [
        {
          "output_type": "execute_result",
          "data": {
            "text/plain": [
              "<matplotlib.axes._subplots.AxesSubplot at 0x7f1e6d0a1d50>"
            ]
          },
          "metadata": {},
          "execution_count": 23
        },
        {
          "output_type": "display_data",
          "data": {
            "text/plain": [
              "<Figure size 1440x432 with 1 Axes>"
            ],
            "image/png": "[encoded data removed]"
          },
          "metadata": {
            "needs_background": "light"
          }
        }
      ]
    },
    {
      "cell_type": "code",
      "source": [
        "temp_cleaned_description = [\" \".join(sentence) for sentence in cleaned_description]\n",
        "dataset[\"cleaned_desc\"] = temp_cleaned_description\n",
        "dataset.head(10)"
      ],
      "metadata": {
        "colab": {
          "base_uri": "https://localhost:8080/",
          "height": 363
        },
        "id": "xVxGTSufBn4M",
        "outputId": "3ffa685c-b919-4e10-bd2a-e3ad925ce9af"
      },
      "execution_count": 24,
      "outputs": [
        {
          "output_type": "execute_result",
          "data": {
            "text/plain": [
              "      labels                                               text  desc_pol  \\\n",
              "0  Household  Paper Plane Design Framed Wall Hanging Motivat...  0.351267   \n",
              "1  Household  SAF 'Floral' Framed Painting (Wood, 30 inch x ...  0.614286   \n",
              "2  Household  SAF 'UV Textured Modern Art Print Framed' Pain...  0.283824   \n",
              "3  Household  SAF Flower Print Framed Painting (Synthetic, 1...  0.303571   \n",
              "4  Household  Incredible Gifts India Wooden Happy Birthday U...  0.299066   \n",
              "5  Household  Pitaara Box Romantic Venice Canvas Painting 6m...  0.245221   \n",
              "6  Household  Paper Plane Design Starry Night Vangoh Wall Ar...  0.343841   \n",
              "7  Household  SAF 'Ganesh Modern Art Print' Painting (Synthe...  0.283824   \n",
              "8  Household  Paintings Villa UV Textured Modern Art Print F...  0.455333   \n",
              "9  Household  Painting Mantra Art Street - Jardin Bird Frame...  0.053052   \n",
              "\n",
              "   desc_len                                       cleaned_desc  \n",
              "0      1338  paper plane design framed wall hanging motivat...  \n",
              "1       346  saf floral framed painting wood inch inch spec...  \n",
              "2      1316  saf textured modern art print framed painting ...  \n",
              "3      1091  saf flower print framed painting synthetic inc...  \n",
              "4       989  incredible gift wooden happy birthday unique p...  \n",
              "5      1745  pitaara box romantic venice canvas painting th...  \n",
              "6      1625  paper plane design starry night vangoh wall ar...  \n",
              "7      1169  saf ganesh modern art print painting synthetic...  \n",
              "8       616  painting villa textured modern art print frame...  \n",
              "9       400  painting mantra art street jardin bird framed ...  "
            ],
            "text/html": [
              "\n",
              "  <div id=\"df-ab6b5dc3-c9ab-4e1a-9562-fdef97d1219f\">\n",
              "    <div class=\"colab-df-container\">\n",
              "      <div>\n",
              "<style scoped>\n",
              "    .dataframe tbody tr th:only-of-type {\n",
              "        vertical-align: middle;\n",
              "    }\n",
              "\n",
              "    .dataframe tbody tr th {\n",
              "        vertical-align: top;\n",
              "    }\n",
              "\n",
              "    .dataframe thead th {\n",
              "        text-align: right;\n",
              "    }\n",
              "</style>\n",
              "<table border=\"1\" class=\"dataframe\">\n",
              "  <thead>\n",
              "    <tr style=\"text-align: right;\">\n",
              "      <th></th>\n",
              "      <th>labels</th>\n",
              "      <th>text</th>\n",
              "      <th>desc_pol</th>\n",
              "      <th>desc_len</th>\n",
              "      <th>cleaned_desc</th>\n",
              "    </tr>\n",
              "  </thead>\n",
              "  <tbody>\n",
              "    <tr>\n",
              "      <th>0</th>\n",
              "      <td>Household</td>\n",
              "      <td>Paper Plane Design Framed Wall Hanging Motivat...</td>\n",
              "      <td>0.351267</td>\n",
              "      <td>1338</td>\n",
              "      <td>paper plane design framed wall hanging motivat...</td>\n",
              "    </tr>\n",
              "    <tr>\n",
              "      <th>1</th>\n",
              "      <td>Household</td>\n",
              "      <td>SAF 'Floral' Framed Painting (Wood, 30 inch x ...</td>\n",
              "      <td>0.614286</td>\n",
              "      <td>346</td>\n",
              "      <td>saf floral framed painting wood inch inch spec...</td>\n",
              "    </tr>\n",
              "    <tr>\n",
              "      <th>2</th>\n",
              "      <td>Household</td>\n",
              "      <td>SAF 'UV Textured Modern Art Print Framed' Pain...</td>\n",
              "      <td>0.283824</td>\n",
              "      <td>1316</td>\n",
              "      <td>saf textured modern art print framed painting ...</td>\n",
              "    </tr>\n",
              "    <tr>\n",
              "      <th>3</th>\n",
              "      <td>Household</td>\n",
              "      <td>SAF Flower Print Framed Painting (Synthetic, 1...</td>\n",
              "      <td>0.303571</td>\n",
              "      <td>1091</td>\n",
              "      <td>saf flower print framed painting synthetic inc...</td>\n",
              "    </tr>\n",
              "    <tr>\n",
              "      <th>4</th>\n",
              "      <td>Household</td>\n",
              "      <td>Incredible Gifts India Wooden Happy Birthday U...</td>\n",
              "      <td>0.299066</td>\n",
              "      <td>989</td>\n",
              "      <td>incredible gift wooden happy birthday unique p...</td>\n",
              "    </tr>\n",
              "    <tr>\n",
              "      <th>5</th>\n",
              "      <td>Household</td>\n",
              "      <td>Pitaara Box Romantic Venice Canvas Painting 6m...</td>\n",
              "      <td>0.245221</td>\n",
              "      <td>1745</td>\n",
              "      <td>pitaara box romantic venice canvas painting th...</td>\n",
              "    </tr>\n",
              "    <tr>\n",
              "      <th>6</th>\n",
              "      <td>Household</td>\n",
              "      <td>Paper Plane Design Starry Night Vangoh Wall Ar...</td>\n",
              "      <td>0.343841</td>\n",
              "      <td>1625</td>\n",
              "      <td>paper plane design starry night vangoh wall ar...</td>\n",
              "    </tr>\n",
              "    <tr>\n",
              "      <th>7</th>\n",
              "      <td>Household</td>\n",
              "      <td>SAF 'Ganesh Modern Art Print' Painting (Synthe...</td>\n",
              "      <td>0.283824</td>\n",
              "      <td>1169</td>\n",
              "      <td>saf ganesh modern art print painting synthetic...</td>\n",
              "    </tr>\n",
              "    <tr>\n",
              "      <th>8</th>\n",
              "      <td>Household</td>\n",
              "      <td>Paintings Villa UV Textured Modern Art Print F...</td>\n",
              "      <td>0.455333</td>\n",
              "      <td>616</td>\n",
              "      <td>painting villa textured modern art print frame...</td>\n",
              "    </tr>\n",
              "    <tr>\n",
              "      <th>9</th>\n",
              "      <td>Household</td>\n",
              "      <td>Painting Mantra Art Street - Jardin Bird Frame...</td>\n",
              "      <td>0.053052</td>\n",
              "      <td>400</td>\n",
              "      <td>painting mantra art street jardin bird framed ...</td>\n",
              "    </tr>\n",
              "  </tbody>\n",
              "</table>\n",
              "</div>\n",
              "      <button class=\"colab-df-convert\" onclick=\"convertToInteractive('df-ab6b5dc3-c9ab-4e1a-9562-fdef97d1219f')\"\n",
              "              title=\"Convert this dataframe to an interactive table.\"\n",
              "              style=\"display:none;\">\n",
              "        \n",
              "  <svg xmlns=\"http://www.w3.org/2000/svg\" height=\"24px\"viewBox=\"0 0 24 24\"\n",
              "       width=\"24px\">\n",
              "    <path d=\"M0 0h24v24H0V0z\" fill=\"none\"/>\n",
              "    <path d=\"M18.56 5.44l.94 2.06.94-2.06 2.06-.94-2.06-.94-.94-2.06-.94 2.06-2.06.94zm-11 1L8.5 8.5l.94-2.06 2.06-.94-2.06-.94L8.5 2.5l-.94 2.06-2.06.94zm10 10l.94 2.06.94-2.06 2.06-.94-2.06-.94-.94-2.06-.94 2.06-2.06.94z\"/><path d=\"M17.41 7.96l-1.37-1.37c-.4-.4-.92-.59-1.43-.59-.52 0-1.04.2-1.43.59L10.3 9.45l-7.72 7.72c-.78.78-.78 2.05 0 2.83L4 21.41c.39.39.9.59 1.41.59.51 0 1.02-.2 1.41-.59l7.78-7.78 2.81-2.81c.8-.78.8-2.07 0-2.86zM5.41 20L4 18.59l7.72-7.72 1.47 1.35L5.41 20z\"/>\n",
              "  </svg>\n",
              "      </button>\n",
              "      \n",
              "  <style>\n",
              "    .colab-df-container {\n",
              "      display:flex;\n",
              "      flex-wrap:wrap;\n",
              "      gap: 12px;\n",
              "    }\n",
              "\n",
              "    .colab-df-convert {\n",
              "      background-color: #E8F0FE;\n",
              "      border: none;\n",
              "      border-radius: 50%;\n",
              "      cursor: pointer;\n",
              "      display: none;\n",
              "      fill: #1967D2;\n",
              "      height: 32px;\n",
              "      padding: 0 0 0 0;\n",
              "      width: 32px;\n",
              "    }\n",
              "\n",
              "    .colab-df-convert:hover {\n",
              "      background-color: #E2EBFA;\n",
              "      box-shadow: 0px 1px 2px rgba(60, 64, 67, 0.3), 0px 1px 3px 1px rgba(60, 64, 67, 0.15);\n",
              "      fill: #174EA6;\n",
              "    }\n",
              "\n",
              "    [theme=dark] .colab-df-convert {\n",
              "      background-color: #3B4455;\n",
              "      fill: #D2E3FC;\n",
              "    }\n",
              "\n",
              "    [theme=dark] .colab-df-convert:hover {\n",
              "      background-color: #434B5C;\n",
              "      box-shadow: 0px 1px 3px 1px rgba(0, 0, 0, 0.15);\n",
              "      filter: drop-shadow(0px 1px 2px rgba(0, 0, 0, 0.3));\n",
              "      fill: #FFFFFF;\n",
              "    }\n",
              "  </style>\n",
              "\n",
              "      <script>\n",
              "        const buttonEl =\n",
              "          document.querySelector('#df-ab6b5dc3-c9ab-4e1a-9562-fdef97d1219f button.colab-df-convert');\n",
              "        buttonEl.style.display =\n",
              "          google.colab.kernel.accessAllowed ? 'block' : 'none';\n",
              "\n",
              "        async function convertToInteractive(key) {\n",
              "          const element = document.querySelector('#df-ab6b5dc3-c9ab-4e1a-9562-fdef97d1219f');\n",
              "          const dataTable =\n",
              "            await google.colab.kernel.invokeFunction('convertToInteractive',\n",
              "                                                     [key], {});\n",
              "          if (!dataTable) return;\n",
              "\n",
              "          const docLinkHtml = 'Like what you see? Visit the ' +\n",
              "            '<a target=\"_blank\" href=https://colab.research.google.com/notebooks/data_table.ipynb>data table notebook</a>'\n",
              "            + ' to learn more about interactive tables.';\n",
              "          element.innerHTML = '';\n",
              "          dataTable['output_type'] = 'display_data';\n",
              "          await google.colab.output.renderOutput(dataTable, element);\n",
              "          const docLink = document.createElement('div');\n",
              "          docLink.innerHTML = docLinkHtml;\n",
              "          element.appendChild(docLink);\n",
              "        }\n",
              "      </script>\n",
              "    </div>\n",
              "  </div>\n",
              "  "
            ]
          },
          "metadata": {},
          "execution_count": 24
        }
      ]
    },
    {
      "cell_type": "markdown",
      "source": [
        "# Visualizing overlapping classes with TSNE Plots\n",
        "\n",
        "reduces dimention to 2 to help in visualization"
      ],
      "metadata": {
        "id": "RmxlQCv4Buq_"
      }
    },
    {
      "cell_type": "code",
      "source": [
        "from yellowbrick.text import TSNEVisualizer\n",
        "\n",
        "# creating the document vectors\n",
        "tfidf = TfidfVectorizer()\n",
        "\n",
        "description = tfidf.fit_transform(dataset[\"cleaned_desc\"])\n",
        "categories_ = dataset[\"labels\"]\n",
        "\n",
        "# creating the visualizer\n",
        "tsne = TSNEVisualizer()\n",
        "tsne.fit_transform(description, categories_)\n",
        "tsne.poof()\n",
        "plt.show()"
      ],
      "metadata": {
        "colab": {
          "base_uri": "https://localhost:8080/",
          "height": 434
        },
        "id": "ajdzA0WTBr0C",
        "outputId": "74733636-d8fa-4bbc-c342-e3d953c975b2"
      },
      "execution_count": 25,
      "outputs": [
        {
          "output_type": "stream",
          "name": "stderr",
          "text": [
            "WARNING:matplotlib.axes._axes:*c* argument looks like a single numeric RGB or RGBA sequence, which should be avoided as value-mapping will have precedence in case its length matches with *x* & *y*.  Please use the *color* keyword-argument or provide a 2-D array with a single row if you intend to specify the same RGB or RGBA value for all points.\n",
            "WARNING:matplotlib.axes._axes:*c* argument looks like a single numeric RGB or RGBA sequence, which should be avoided as value-mapping will have precedence in case its length matches with *x* & *y*.  Please use the *color* keyword-argument or provide a 2-D array with a single row if you intend to specify the same RGB or RGBA value for all points.\n",
            "WARNING:matplotlib.axes._axes:*c* argument looks like a single numeric RGB or RGBA sequence, which should be avoided as value-mapping will have precedence in case its length matches with *x* & *y*.  Please use the *color* keyword-argument or provide a 2-D array with a single row if you intend to specify the same RGB or RGBA value for all points.\n",
            "WARNING:matplotlib.axes._axes:*c* argument looks like a single numeric RGB or RGBA sequence, which should be avoided as value-mapping will have precedence in case its length matches with *x* & *y*.  Please use the *color* keyword-argument or provide a 2-D array with a single row if you intend to specify the same RGB or RGBA value for all points.\n"
          ]
        },
        {
          "output_type": "display_data",
          "data": {
            "text/plain": [
              "<Figure size 576x396 with 1 Axes>"
            ],
            "image/png": "[encoded data removed]"
          },
          "metadata": {}
        }
      ]
    },
    {
      "cell_type": "markdown",
      "source": [
        "# Creating Balanced Dataset"
      ],
      "metadata": {
        "id": "lVhPyyKuCINt"
      }
    },
    {
      "cell_type": "code",
      "source": [
        "# a copy of the unbalanced dataset is made on which further work is done\n",
        "balanced_df = dataset.copy(deep=True)\n",
        "balanced2_df = dataset.copy(deep=True)\n",
        "balanced_df"
      ],
      "metadata": {
        "colab": {
          "base_uri": "https://localhost:8080/",
          "height": 468
        },
        "id": "NXyMTjBoB_30",
        "outputId": "16d0bb97-7650-41ad-abf8-58aa18037a9a"
      },
      "execution_count": 26,
      "outputs": [
        {
          "output_type": "execute_result",
          "data": {
            "text/plain": [
              "            labels                                               text  \\\n",
              "0        Household  Paper Plane Design Framed Wall Hanging Motivat...   \n",
              "1        Household  SAF 'Floral' Framed Painting (Wood, 30 inch x ...   \n",
              "2        Household  SAF 'UV Textured Modern Art Print Framed' Pain...   \n",
              "3        Household  SAF Flower Print Framed Painting (Synthetic, 1...   \n",
              "4        Household  Incredible Gifts India Wooden Happy Birthday U...   \n",
              "...            ...                                                ...   \n",
              "27797  Electronics  Micromax Bharat 5 Plus Zero impact on visual d...   \n",
              "27798  Electronics  Microsoft Lumia 550 8GB 4G Black Microsoft lum...   \n",
              "27799  Electronics  Microsoft Lumia 535 (Black, 8GB) Colour:Black ...   \n",
              "27800  Electronics  Karbonn Titanium Wind W4 (White) Karbonn Titan...   \n",
              "27801  Electronics  Nokia Lumia 530 (Dual SIM, Grey) Colour:Grey  ...   \n",
              "\n",
              "       desc_pol  desc_len                                       cleaned_desc  \n",
              "0      0.351267      1338  paper plane design framed wall hanging motivat...  \n",
              "1      0.614286       346  saf floral framed painting wood inch inch spec...  \n",
              "2      0.283824      1316  saf textured modern art print framed painting ...  \n",
              "3      0.303571      1091  saf flower print framed painting synthetic inc...  \n",
              "4      0.299066       989  incredible gift wooden happy birthday unique p...  \n",
              "...         ...       ...                                                ...  \n",
              "27797  0.000000       144  micromax bharat plus zero impact visual displa...  \n",
              "27798  0.325496      1924  microsoft lumia black microsoft lumia experien...  \n",
              "27799  0.291555      3931  microsoft lumia black colourblack product desc...  \n",
              "27800  0.309242      1653  karbonn titanium wind white karbonn titanium w...  \n",
              "27801  0.344200      2463  nokia lumia dual sim grey colourgrey product d...  \n",
              "\n",
              "[27802 rows x 5 columns]"
            ],
            "text/html": [
              "\n",
              "  <div id=\"df-43b07c82-6eb7-403e-a83c-9e3f8c24e521\">\n",
              "    <div class=\"colab-df-container\">\n",
              "      <div>\n",
              "<style scoped>\n",
              "    .dataframe tbody tr th:only-of-type {\n",
              "        vertical-align: middle;\n",
              "    }\n",
              "\n",
              "    .dataframe tbody tr th {\n",
              "        vertical-align: top;\n",
              "    }\n",
              "\n",
              "    .dataframe thead th {\n",
              "        text-align: right;\n",
              "    }\n",
              "</style>\n",
              "<table border=\"1\" class=\"dataframe\">\n",
              "  <thead>\n",
              "    <tr style=\"text-align: right;\">\n",
              "      <th></th>\n",
              "      <th>labels</th>\n",
              "      <th>text</th>\n",
              "      <th>desc_pol</th>\n",
              "      <th>desc_len</th>\n",
              "      <th>cleaned_desc</th>\n",
              "    </tr>\n",
              "  </thead>\n",
              "  <tbody>\n",
              "    <tr>\n",
              "      <th>0</th>\n",
              "      <td>Household</td>\n",
              "      <td>Paper Plane Design Framed Wall Hanging Motivat...</td>\n",
              "      <td>0.351267</td>\n",
              "      <td>1338</td>\n",
              "      <td>paper plane design framed wall hanging motivat...</td>\n",
              "    </tr>\n",
              "    <tr>\n",
              "      <th>1</th>\n",
              "      <td>Household</td>\n",
              "      <td>SAF 'Floral' Framed Painting (Wood, 30 inch x ...</td>\n",
              "      <td>0.614286</td>\n",
              "      <td>346</td>\n",
              "      <td>saf floral framed painting wood inch inch spec...</td>\n",
              "    </tr>\n",
              "    <tr>\n",
              "      <th>2</th>\n",
              "      <td>Household</td>\n",
              "      <td>SAF 'UV Textured Modern Art Print Framed' Pain...</td>\n",
              "      <td>0.283824</td>\n",
              "      <td>1316</td>\n",
              "      <td>saf textured modern art print framed painting ...</td>\n",
              "    </tr>\n",
              "    <tr>\n",
              "      <th>3</th>\n",
              "      <td>Household</td>\n",
              "      <td>SAF Flower Print Framed Painting (Synthetic, 1...</td>\n",
              "      <td>0.303571</td>\n",
              "      <td>1091</td>\n",
              "      <td>saf flower print framed painting synthetic inc...</td>\n",
              "    </tr>\n",
              "    <tr>\n",
              "      <th>4</th>\n",
              "      <td>Household</td>\n",
              "      <td>Incredible Gifts India Wooden Happy Birthday U...</td>\n",
              "      <td>0.299066</td>\n",
              "      <td>989</td>\n",
              "      <td>incredible gift wooden happy birthday unique p...</td>\n",
              "    </tr>\n",
              "    <tr>\n",
              "      <th>...</th>\n",
              "      <td>...</td>\n",
              "      <td>...</td>\n",
              "      <td>...</td>\n",
              "      <td>...</td>\n",
              "      <td>...</td>\n",
              "    </tr>\n",
              "    <tr>\n",
              "      <th>27797</th>\n",
              "      <td>Electronics</td>\n",
              "      <td>Micromax Bharat 5 Plus Zero impact on visual d...</td>\n",
              "      <td>0.000000</td>\n",
              "      <td>144</td>\n",
              "      <td>micromax bharat plus zero impact visual displa...</td>\n",
              "    </tr>\n",
              "    <tr>\n",
              "      <th>27798</th>\n",
              "      <td>Electronics</td>\n",
              "      <td>Microsoft Lumia 550 8GB 4G Black Microsoft lum...</td>\n",
              "      <td>0.325496</td>\n",
              "      <td>1924</td>\n",
              "      <td>microsoft lumia black microsoft lumia experien...</td>\n",
              "    </tr>\n",
              "    <tr>\n",
              "      <th>27799</th>\n",
              "      <td>Electronics</td>\n",
              "      <td>Microsoft Lumia 535 (Black, 8GB) Colour:Black ...</td>\n",
              "      <td>0.291555</td>\n",
              "      <td>3931</td>\n",
              "      <td>microsoft lumia black colourblack product desc...</td>\n",
              "    </tr>\n",
              "    <tr>\n",
              "      <th>27800</th>\n",
              "      <td>Electronics</td>\n",
              "      <td>Karbonn Titanium Wind W4 (White) Karbonn Titan...</td>\n",
              "      <td>0.309242</td>\n",
              "      <td>1653</td>\n",
              "      <td>karbonn titanium wind white karbonn titanium w...</td>\n",
              "    </tr>\n",
              "    <tr>\n",
              "      <th>27801</th>\n",
              "      <td>Electronics</td>\n",
              "      <td>Nokia Lumia 530 (Dual SIM, Grey) Colour:Grey  ...</td>\n",
              "      <td>0.344200</td>\n",
              "      <td>2463</td>\n",
              "      <td>nokia lumia dual sim grey colourgrey product d...</td>\n",
              "    </tr>\n",
              "  </tbody>\n",
              "</table>\n",
              "<p>27802 rows × 5 columns</p>\n",
              "</div>\n",
              "      <button class=\"colab-df-convert\" onclick=\"convertToInteractive('df-43b07c82-6eb7-403e-a83c-9e3f8c24e521')\"\n",
              "              title=\"Convert this dataframe to an interactive table.\"\n",
              "              style=\"display:none;\">\n",
              "        \n",
              "  <svg xmlns=\"http://www.w3.org/2000/svg\" height=\"24px\"viewBox=\"0 0 24 24\"\n",
              "       width=\"24px\">\n",
              "    <path d=\"M0 0h24v24H0V0z\" fill=\"none\"/>\n",
              "    <path d=\"M18.56 5.44l.94 2.06.94-2.06 2.06-.94-2.06-.94-.94-2.06-.94 2.06-2.06.94zm-11 1L8.5 8.5l.94-2.06 2.06-.94-2.06-.94L8.5 2.5l-.94 2.06-2.06.94zm10 10l.94 2.06.94-2.06 2.06-.94-2.06-.94-.94-2.06-.94 2.06-2.06.94z\"/><path d=\"M17.41 7.96l-1.37-1.37c-.4-.4-.92-.59-1.43-.59-.52 0-1.04.2-1.43.59L10.3 9.45l-7.72 7.72c-.78.78-.78 2.05 0 2.83L4 21.41c.39.39.9.59 1.41.59.51 0 1.02-.2 1.41-.59l7.78-7.78 2.81-2.81c.8-.78.8-2.07 0-2.86zM5.41 20L4 18.59l7.72-7.72 1.47 1.35L5.41 20z\"/>\n",
              "  </svg>\n",
              "      </button>\n",
              "      \n",
              "  <style>\n",
              "    .colab-df-container {\n",
              "      display:flex;\n",
              "      flex-wrap:wrap;\n",
              "      gap: 12px;\n",
              "    }\n",
              "\n",
              "    .colab-df-convert {\n",
              "      background-color: #E8F0FE;\n",
              "      border: none;\n",
              "      border-radius: 50%;\n",
              "      cursor: pointer;\n",
              "      display: none;\n",
              "      fill: #1967D2;\n",
              "      height: 32px;\n",
              "      padding: 0 0 0 0;\n",
              "      width: 32px;\n",
              "    }\n",
              "\n",
              "    .colab-df-convert:hover {\n",
              "      background-color: #E2EBFA;\n",
              "      box-shadow: 0px 1px 2px rgba(60, 64, 67, 0.3), 0px 1px 3px 1px rgba(60, 64, 67, 0.15);\n",
              "      fill: #174EA6;\n",
              "    }\n",
              "\n",
              "    [theme=dark] .colab-df-convert {\n",
              "      background-color: #3B4455;\n",
              "      fill: #D2E3FC;\n",
              "    }\n",
              "\n",
              "    [theme=dark] .colab-df-convert:hover {\n",
              "      background-color: #434B5C;\n",
              "      box-shadow: 0px 1px 3px 1px rgba(0, 0, 0, 0.15);\n",
              "      filter: drop-shadow(0px 1px 2px rgba(0, 0, 0, 0.3));\n",
              "      fill: #FFFFFF;\n",
              "    }\n",
              "  </style>\n",
              "\n",
              "      <script>\n",
              "        const buttonEl =\n",
              "          document.querySelector('#df-43b07c82-6eb7-403e-a83c-9e3f8c24e521 button.colab-df-convert');\n",
              "        buttonEl.style.display =\n",
              "          google.colab.kernel.accessAllowed ? 'block' : 'none';\n",
              "\n",
              "        async function convertToInteractive(key) {\n",
              "          const element = document.querySelector('#df-43b07c82-6eb7-403e-a83c-9e3f8c24e521');\n",
              "          const dataTable =\n",
              "            await google.colab.kernel.invokeFunction('convertToInteractive',\n",
              "                                                     [key], {});\n",
              "          if (!dataTable) return;\n",
              "\n",
              "          const docLinkHtml = 'Like what you see? Visit the ' +\n",
              "            '<a target=\"_blank\" href=https://colab.research.google.com/notebooks/data_table.ipynb>data table notebook</a>'\n",
              "            + ' to learn more about interactive tables.';\n",
              "          element.innerHTML = '';\n",
              "          dataTable['output_type'] = 'display_data';\n",
              "          await google.colab.output.renderOutput(dataTable, element);\n",
              "          const docLink = document.createElement('div');\n",
              "          docLink.innerHTML = docLinkHtml;\n",
              "          element.appendChild(docLink);\n",
              "        }\n",
              "      </script>\n",
              "    </div>\n",
              "  </div>\n",
              "  "
            ]
          },
          "metadata": {},
          "execution_count": 26
        }
      ]
    },
    {
      "cell_type": "code",
      "source": [
        "from sklearn.utils import resample\n",
        "\n",
        "final_balanced_df = {category: balanced_df[balanced_df['labels']==category] for category in set(balanced_df['labels'])}\n",
        "\n",
        "train_df = pd.concat([resample(data, n_samples=3000, replace=True, random_state=42) for data in final_balanced_df.values()])\n",
        "train_df"
      ],
      "metadata": {
        "colab": {
          "base_uri": "https://localhost:8080/",
          "height": 520
        },
        "id": "gRaZmOlmCLhx",
        "outputId": "a77c1e70-a57a-4d91-d80b-5fbfe6c45a72"
      },
      "execution_count": 27,
      "outputs": [
        {
          "output_type": "execute_result",
          "data": {
            "text/plain": [
              "            labels                                               text  \\\n",
              "11424        Books  The 80/20 Principle and 92 Other Powerful Laws...   \n",
              "15954        Books  Pet Lover's Guide to First Aid and Emergencies...   \n",
              "15790        Books  The Running Dream (Schneider Family Book Award...   \n",
              "15755        Books  An Elementary Treatise on Pure Geometry With N...   \n",
              "14336        Books  Macroeconomics: Theories and Policies (Pearson...   \n",
              "...            ...                                                ...   \n",
              "26136  Electronics  eyoyo Waterproof 6X Multifunction Golf Hunting...   \n",
              "22676  Electronics  PC Hardware in a Nutshell 2e (Nutshell Handboo...   \n",
              "25606  Electronics  Omron NE C28 Compressor Nebulizer For Child an...   \n",
              "26986  Electronics  Isoelite RMADU138 Remote for Sony AV Music Sys...   \n",
              "24011  Electronics  Casio FX-100MS Scientific Calculator Many diff...   \n",
              "\n",
              "       desc_pol  desc_len                                       cleaned_desc  \n",
              "11424  0.158333        80      principle powerful law nature science success  \n",
              "15954  0.250000       280  pet lover guide first aid emergency pet lover ...  \n",
              "15790  0.176774      1919  running dream schneider family book award teen...  \n",
              "15755  0.171429        68  elementary treatise pure geometry numerous exa...  \n",
              "14336  0.000000        80  macroeconomics theory policy pearson series ec...  \n",
              "...         ...       ...                                                ...  \n",
              "26136  0.000000       599  eyoyo waterproof multifunction golf hunting ra...  \n",
              "22676  0.223469      1152  hardware nutshell nutshell handbook author bar...  \n",
              "25606  0.258333       433  omron compressor nebulizer child adult virtual...  \n",
              "26986  0.071970       880  isoelite rmadu remote sony music system remote...  \n",
              "24011  0.204646       645  casio fxms scientific calculator many differen...  \n",
              "\n",
              "[12000 rows x 5 columns]"
            ],
            "text/html": [
              "\n",
              "  <div id=\"df-d1f2cc72-5106-4e68-9da9-46b624b93ae3\">\n",
              "    <div class=\"colab-df-container\">\n",
              "      <div>\n",
              "<style scoped>\n",
              "    .dataframe tbody tr th:only-of-type {\n",
              "        vertical-align: middle;\n",
              "    }\n",
              "\n",
              "    .dataframe tbody tr th {\n",
              "        vertical-align: top;\n",
              "    }\n",
              "\n",
              "    .dataframe thead th {\n",
              "        text-align: right;\n",
              "    }\n",
              "</style>\n",
              "<table border=\"1\" class=\"dataframe\">\n",
              "  <thead>\n",
              "    <tr style=\"text-align: right;\">\n",
              "      <th></th>\n",
              "      <th>labels</th>\n",
              "      <th>text</th>\n",
              "      <th>desc_pol</th>\n",
              "      <th>desc_len</th>\n",
              "      <th>cleaned_desc</th>\n",
              "    </tr>\n",
              "  </thead>\n",
              "  <tbody>\n",
              "    <tr>\n",
              "      <th>11424</th>\n",
              "      <td>Books</td>\n",
              "      <td>The 80/20 Principle and 92 Other Powerful Laws...</td>\n",
              "      <td>0.158333</td>\n",
              "      <td>80</td>\n",
              "      <td>principle powerful law nature science success</td>\n",
              "    </tr>\n",
              "    <tr>\n",
              "      <th>15954</th>\n",
              "      <td>Books</td>\n",
              "      <td>Pet Lover's Guide to First Aid and Emergencies...</td>\n",
              "      <td>0.250000</td>\n",
              "      <td>280</td>\n",
              "      <td>pet lover guide first aid emergency pet lover ...</td>\n",
              "    </tr>\n",
              "    <tr>\n",
              "      <th>15790</th>\n",
              "      <td>Books</td>\n",
              "      <td>The Running Dream (Schneider Family Book Award...</td>\n",
              "      <td>0.176774</td>\n",
              "      <td>1919</td>\n",
              "      <td>running dream schneider family book award teen...</td>\n",
              "    </tr>\n",
              "    <tr>\n",
              "      <th>15755</th>\n",
              "      <td>Books</td>\n",
              "      <td>An Elementary Treatise on Pure Geometry With N...</td>\n",
              "      <td>0.171429</td>\n",
              "      <td>68</td>\n",
              "      <td>elementary treatise pure geometry numerous exa...</td>\n",
              "    </tr>\n",
              "    <tr>\n",
              "      <th>14336</th>\n",
              "      <td>Books</td>\n",
              "      <td>Macroeconomics: Theories and Policies (Pearson...</td>\n",
              "      <td>0.000000</td>\n",
              "      <td>80</td>\n",
              "      <td>macroeconomics theory policy pearson series ec...</td>\n",
              "    </tr>\n",
              "    <tr>\n",
              "      <th>...</th>\n",
              "      <td>...</td>\n",
              "      <td>...</td>\n",
              "      <td>...</td>\n",
              "      <td>...</td>\n",
              "      <td>...</td>\n",
              "    </tr>\n",
              "    <tr>\n",
              "      <th>26136</th>\n",
              "      <td>Electronics</td>\n",
              "      <td>eyoyo Waterproof 6X Multifunction Golf Hunting...</td>\n",
              "      <td>0.000000</td>\n",
              "      <td>599</td>\n",
              "      <td>eyoyo waterproof multifunction golf hunting ra...</td>\n",
              "    </tr>\n",
              "    <tr>\n",
              "      <th>22676</th>\n",
              "      <td>Electronics</td>\n",
              "      <td>PC Hardware in a Nutshell 2e (Nutshell Handboo...</td>\n",
              "      <td>0.223469</td>\n",
              "      <td>1152</td>\n",
              "      <td>hardware nutshell nutshell handbook author bar...</td>\n",
              "    </tr>\n",
              "    <tr>\n",
              "      <th>25606</th>\n",
              "      <td>Electronics</td>\n",
              "      <td>Omron NE C28 Compressor Nebulizer For Child an...</td>\n",
              "      <td>0.258333</td>\n",
              "      <td>433</td>\n",
              "      <td>omron compressor nebulizer child adult virtual...</td>\n",
              "    </tr>\n",
              "    <tr>\n",
              "      <th>26986</th>\n",
              "      <td>Electronics</td>\n",
              "      <td>Isoelite RMADU138 Remote for Sony AV Music Sys...</td>\n",
              "      <td>0.071970</td>\n",
              "      <td>880</td>\n",
              "      <td>isoelite rmadu remote sony music system remote...</td>\n",
              "    </tr>\n",
              "    <tr>\n",
              "      <th>24011</th>\n",
              "      <td>Electronics</td>\n",
              "      <td>Casio FX-100MS Scientific Calculator Many diff...</td>\n",
              "      <td>0.204646</td>\n",
              "      <td>645</td>\n",
              "      <td>casio fxms scientific calculator many differen...</td>\n",
              "    </tr>\n",
              "  </tbody>\n",
              "</table>\n",
              "<p>12000 rows × 5 columns</p>\n",
              "</div>\n",
              "      <button class=\"colab-df-convert\" onclick=\"convertToInteractive('df-d1f2cc72-5106-4e68-9da9-46b624b93ae3')\"\n",
              "              title=\"Convert this dataframe to an interactive table.\"\n",
              "              style=\"display:none;\">\n",
              "        \n",
              "  <svg xmlns=\"http://www.w3.org/2000/svg\" height=\"24px\"viewBox=\"0 0 24 24\"\n",
              "       width=\"24px\">\n",
              "    <path d=\"M0 0h24v24H0V0z\" fill=\"none\"/>\n",
              "    <path d=\"M18.56 5.44l.94 2.06.94-2.06 2.06-.94-2.06-.94-.94-2.06-.94 2.06-2.06.94zm-11 1L8.5 8.5l.94-2.06 2.06-.94-2.06-.94L8.5 2.5l-.94 2.06-2.06.94zm10 10l.94 2.06.94-2.06 2.06-.94-2.06-.94-.94-2.06-.94 2.06-2.06.94z\"/><path d=\"M17.41 7.96l-1.37-1.37c-.4-.4-.92-.59-1.43-.59-.52 0-1.04.2-1.43.59L10.3 9.45l-7.72 7.72c-.78.78-.78 2.05 0 2.83L4 21.41c.39.39.9.59 1.41.59.51 0 1.02-.2 1.41-.59l7.78-7.78 2.81-2.81c.8-.78.8-2.07 0-2.86zM5.41 20L4 18.59l7.72-7.72 1.47 1.35L5.41 20z\"/>\n",
              "  </svg>\n",
              "      </button>\n",
              "      \n",
              "  <style>\n",
              "    .colab-df-container {\n",
              "      display:flex;\n",
              "      flex-wrap:wrap;\n",
              "      gap: 12px;\n",
              "    }\n",
              "\n",
              "    .colab-df-convert {\n",
              "      background-color: #E8F0FE;\n",
              "      border: none;\n",
              "      border-radius: 50%;\n",
              "      cursor: pointer;\n",
              "      display: none;\n",
              "      fill: #1967D2;\n",
              "      height: 32px;\n",
              "      padding: 0 0 0 0;\n",
              "      width: 32px;\n",
              "    }\n",
              "\n",
              "    .colab-df-convert:hover {\n",
              "      background-color: #E2EBFA;\n",
              "      box-shadow: 0px 1px 2px rgba(60, 64, 67, 0.3), 0px 1px 3px 1px rgba(60, 64, 67, 0.15);\n",
              "      fill: #174EA6;\n",
              "    }\n",
              "\n",
              "    [theme=dark] .colab-df-convert {\n",
              "      background-color: #3B4455;\n",
              "      fill: #D2E3FC;\n",
              "    }\n",
              "\n",
              "    [theme=dark] .colab-df-convert:hover {\n",
              "      background-color: #434B5C;\n",
              "      box-shadow: 0px 1px 3px 1px rgba(0, 0, 0, 0.15);\n",
              "      filter: drop-shadow(0px 1px 2px rgba(0, 0, 0, 0.3));\n",
              "      fill: #FFFFFF;\n",
              "    }\n",
              "  </style>\n",
              "\n",
              "      <script>\n",
              "        const buttonEl =\n",
              "          document.querySelector('#df-d1f2cc72-5106-4e68-9da9-46b624b93ae3 button.colab-df-convert');\n",
              "        buttonEl.style.display =\n",
              "          google.colab.kernel.accessAllowed ? 'block' : 'none';\n",
              "\n",
              "        async function convertToInteractive(key) {\n",
              "          const element = document.querySelector('#df-d1f2cc72-5106-4e68-9da9-46b624b93ae3');\n",
              "          const dataTable =\n",
              "            await google.colab.kernel.invokeFunction('convertToInteractive',\n",
              "                                                     [key], {});\n",
              "          if (!dataTable) return;\n",
              "\n",
              "          const docLinkHtml = 'Like what you see? Visit the ' +\n",
              "            '<a target=\"_blank\" href=https://colab.research.google.com/notebooks/data_table.ipynb>data table notebook</a>'\n",
              "            + ' to learn more about interactive tables.';\n",
              "          element.innerHTML = '';\n",
              "          dataTable['output_type'] = 'display_data';\n",
              "          await google.colab.output.renderOutput(dataTable, element);\n",
              "          const docLink = document.createElement('div');\n",
              "          docLink.innerHTML = docLinkHtml;\n",
              "          element.appendChild(docLink);\n",
              "        }\n",
              "      </script>\n",
              "    </div>\n",
              "  </div>\n",
              "  "
            ]
          },
          "metadata": {},
          "execution_count": 27
        }
      ]
    },
    {
      "cell_type": "code",
      "source": [
        "temp_balanced_categories = {\n",
        "    'primary_category':[],\n",
        "    'count':[]\n",
        "}\n",
        "\n",
        "categories = [\"Household\", \"Books\", \"Electronics\", \"Clothing & Accessories\"]\n",
        "\n",
        "\n",
        "for category in categories:\n",
        "  count = np.sum(train_df.loc[:, 'labels'].values == category)\n",
        "  temp_balanced_categories['primary_category'].append(category)\n",
        "  temp_balanced_categories['count'].append(count)\n",
        "\n",
        "category_balanced_df = pd.DataFrame(temp_balanced_categories)\n",
        "category_balanced_df = category_balanced_df.sort_values(by = 'count', ascending=False)\n",
        "category_balanced_df = category_balanced_df.reset_index(drop=True)\n",
        "category_balanced_df"
      ],
      "metadata": {
        "colab": {
          "base_uri": "https://localhost:8080/",
          "height": 175
        },
        "id": "V2PeKjexCOmf",
        "outputId": "d01ac723-5597-4b9b-8d05-e6bd922d9145"
      },
      "execution_count": 28,
      "outputs": [
        {
          "output_type": "execute_result",
          "data": {
            "text/plain": [
              "         primary_category  count\n",
              "0               Household   3000\n",
              "1                   Books   3000\n",
              "2             Electronics   3000\n",
              "3  Clothing & Accessories   3000"
            ],
            "text/html": [
              "\n",
              "  <div id=\"df-acfae18c-6679-4b8f-ad9a-97b0ddeebcd5\">\n",
              "    <div class=\"colab-df-container\">\n",
              "      <div>\n",
              "<style scoped>\n",
              "    .dataframe tbody tr th:only-of-type {\n",
              "        vertical-align: middle;\n",
              "    }\n",
              "\n",
              "    .dataframe tbody tr th {\n",
              "        vertical-align: top;\n",
              "    }\n",
              "\n",
              "    .dataframe thead th {\n",
              "        text-align: right;\n",
              "    }\n",
              "</style>\n",
              "<table border=\"1\" class=\"dataframe\">\n",
              "  <thead>\n",
              "    <tr style=\"text-align: right;\">\n",
              "      <th></th>\n",
              "      <th>primary_category</th>\n",
              "      <th>count</th>\n",
              "    </tr>\n",
              "  </thead>\n",
              "  <tbody>\n",
              "    <tr>\n",
              "      <th>0</th>\n",
              "      <td>Household</td>\n",
              "      <td>3000</td>\n",
              "    </tr>\n",
              "    <tr>\n",
              "      <th>1</th>\n",
              "      <td>Books</td>\n",
              "      <td>3000</td>\n",
              "    </tr>\n",
              "    <tr>\n",
              "      <th>2</th>\n",
              "      <td>Electronics</td>\n",
              "      <td>3000</td>\n",
              "    </tr>\n",
              "    <tr>\n",
              "      <th>3</th>\n",
              "      <td>Clothing &amp; Accessories</td>\n",
              "      <td>3000</td>\n",
              "    </tr>\n",
              "  </tbody>\n",
              "</table>\n",
              "</div>\n",
              "      <button class=\"colab-df-convert\" onclick=\"convertToInteractive('df-acfae18c-6679-4b8f-ad9a-97b0ddeebcd5')\"\n",
              "              title=\"Convert this dataframe to an interactive table.\"\n",
              "              style=\"display:none;\">\n",
              "        \n",
              "  <svg xmlns=\"http://www.w3.org/2000/svg\" height=\"24px\"viewBox=\"0 0 24 24\"\n",
              "       width=\"24px\">\n",
              "    <path d=\"M0 0h24v24H0V0z\" fill=\"none\"/>\n",
              "    <path d=\"M18.56 5.44l.94 2.06.94-2.06 2.06-.94-2.06-.94-.94-2.06-.94 2.06-2.06.94zm-11 1L8.5 8.5l.94-2.06 2.06-.94-2.06-.94L8.5 2.5l-.94 2.06-2.06.94zm10 10l.94 2.06.94-2.06 2.06-.94-2.06-.94-.94-2.06-.94 2.06-2.06.94z\"/><path d=\"M17.41 7.96l-1.37-1.37c-.4-.4-.92-.59-1.43-.59-.52 0-1.04.2-1.43.59L10.3 9.45l-7.72 7.72c-.78.78-.78 2.05 0 2.83L4 21.41c.39.39.9.59 1.41.59.51 0 1.02-.2 1.41-.59l7.78-7.78 2.81-2.81c.8-.78.8-2.07 0-2.86zM5.41 20L4 18.59l7.72-7.72 1.47 1.35L5.41 20z\"/>\n",
              "  </svg>\n",
              "      </button>\n",
              "      \n",
              "  <style>\n",
              "    .colab-df-container {\n",
              "      display:flex;\n",
              "      flex-wrap:wrap;\n",
              "      gap: 12px;\n",
              "    }\n",
              "\n",
              "    .colab-df-convert {\n",
              "      background-color: #E8F0FE;\n",
              "      border: none;\n",
              "      border-radius: 50%;\n",
              "      cursor: pointer;\n",
              "      display: none;\n",
              "      fill: #1967D2;\n",
              "      height: 32px;\n",
              "      padding: 0 0 0 0;\n",
              "      width: 32px;\n",
              "    }\n",
              "\n",
              "    .colab-df-convert:hover {\n",
              "      background-color: #E2EBFA;\n",
              "      box-shadow: 0px 1px 2px rgba(60, 64, 67, 0.3), 0px 1px 3px 1px rgba(60, 64, 67, 0.15);\n",
              "      fill: #174EA6;\n",
              "    }\n",
              "\n",
              "    [theme=dark] .colab-df-convert {\n",
              "      background-color: #3B4455;\n",
              "      fill: #D2E3FC;\n",
              "    }\n",
              "\n",
              "    [theme=dark] .colab-df-convert:hover {\n",
              "      background-color: #434B5C;\n",
              "      box-shadow: 0px 1px 3px 1px rgba(0, 0, 0, 0.15);\n",
              "      filter: drop-shadow(0px 1px 2px rgba(0, 0, 0, 0.3));\n",
              "      fill: #FFFFFF;\n",
              "    }\n",
              "  </style>\n",
              "\n",
              "      <script>\n",
              "        const buttonEl =\n",
              "          document.querySelector('#df-acfae18c-6679-4b8f-ad9a-97b0ddeebcd5 button.colab-df-convert');\n",
              "        buttonEl.style.display =\n",
              "          google.colab.kernel.accessAllowed ? 'block' : 'none';\n",
              "\n",
              "        async function convertToInteractive(key) {\n",
              "          const element = document.querySelector('#df-acfae18c-6679-4b8f-ad9a-97b0ddeebcd5');\n",
              "          const dataTable =\n",
              "            await google.colab.kernel.invokeFunction('convertToInteractive',\n",
              "                                                     [key], {});\n",
              "          if (!dataTable) return;\n",
              "\n",
              "          const docLinkHtml = 'Like what you see? Visit the ' +\n",
              "            '<a target=\"_blank\" href=https://colab.research.google.com/notebooks/data_table.ipynb>data table notebook</a>'\n",
              "            + ' to learn more about interactive tables.';\n",
              "          element.innerHTML = '';\n",
              "          dataTable['output_type'] = 'display_data';\n",
              "          await google.colab.output.renderOutput(dataTable, element);\n",
              "          const docLink = document.createElement('div');\n",
              "          docLink.innerHTML = docLinkHtml;\n",
              "          element.appendChild(docLink);\n",
              "        }\n",
              "      </script>\n",
              "    </div>\n",
              "  </div>\n",
              "  "
            ]
          },
          "metadata": {},
          "execution_count": 28
        }
      ]
    },
    {
      "cell_type": "code",
      "source": [
        "balanced_df = train_df"
      ],
      "metadata": {
        "id": "BmW9q-MuCXse"
      },
      "execution_count": 29,
      "outputs": []
    },
    {
      "cell_type": "markdown",
      "source": [
        "# Prediction using BERT"
      ],
      "metadata": {
        "id": "etLsx7a1DK3-"
      }
    },
    {
      "cell_type": "code",
      "source": [
        "!pip install torch==1.7.1\n",
        "!pip install transformers\n",
        "!pip install simpletransformers\n",
        "!pip install tensorboardx\n",
        "!pip install pytorch-nlp"
      ],
      "metadata": {
        "colab": {
          "base_uri": "https://localhost:8080/"
        },
        "id": "swOF-Z0cDPhd",
        "outputId": "9c2f350b-0e88-47cc-9a79-8ab3976298c8"
      },
      "execution_count": 30,
      "outputs": [
        {
          "output_type": "stream",
          "name": "stdout",
          "text": [
            "Looking in indexes: https://pypi.org/simple, https://us-python.pkg.dev/colab-wheels/public/simple/\n",
            "Collecting torch==1.7.1\n",
            "  Downloading torch-1.7.1-cp37-cp37m-manylinux1_x86_64.whl (776.8 MB)\n",
            "\u001b[2K     \u001b[90m━━━━━━━━━━━━━━━━━━━━━━━━━━━━━━━━━━━━━━━\u001b[0m \u001b[32m776.8/776.8 MB\u001b[0m \u001b[31m2.2 MB/s\u001b[0m eta \u001b[36m0:00:00\u001b[0m\n",
            "\u001b[?25hRequirement already satisfied: typing-extensions in /usr/local/lib/python3.7/dist-packages (from torch==1.7.1) (4.1.1)\n",
            "Requirement already satisfied: numpy in /usr/local/lib/python3.7/dist-packages (from torch==1.7.1) (1.21.6)\n",
            "Installing collected packages: torch\n",
            "  Attempting uninstall: torch\n",
            "    Found existing installation: torch 1.12.1+cu113\n",
            "    Uninstalling torch-1.12.1+cu113:\n",
            "      Successfully uninstalled torch-1.12.1+cu113\n",
            "\u001b[31mERROR: pip's dependency resolver does not currently take into account all the packages that are installed. This behaviour is the source of the following dependency conflicts.\n",
            "torchvision 0.13.1+cu113 requires torch==1.12.1, but you have torch 1.7.1 which is incompatible.\n",
            "torchtext 0.13.1 requires torch==1.12.1, but you have torch 1.7.1 which is incompatible.\n",
            "torchaudio 0.12.1+cu113 requires torch==1.12.1, but you have torch 1.7.1 which is incompatible.\u001b[0m\u001b[31m\n",
            "\u001b[0mSuccessfully installed torch-1.7.1\n",
            "\u001b[33mWARNING: Running pip as the 'root' user can result in broken permissions and conflicting behaviour with the system package manager. It is recommended to use a virtual environment instead: https://pip.pypa.io/warnings/venv\u001b[0m\u001b[33m\n",
            "\u001b[0mLooking in indexes: https://pypi.org/simple, https://us-python.pkg.dev/colab-wheels/public/simple/\n",
            "Collecting transformers\n",
            "  Downloading transformers-4.22.1-py3-none-any.whl (4.9 MB)\n",
            "\u001b[2K     \u001b[90m━━━━━━━━━━━━━━━━━━━━━━━━━━━━━━━━━━━━━━━━\u001b[0m \u001b[32m4.9/4.9 MB\u001b[0m \u001b[31m46.5 MB/s\u001b[0m eta \u001b[36m0:00:00\u001b[0m\n",
            "\u001b[?25hRequirement already satisfied: requests in /usr/local/lib/python3.7/dist-packages (from transformers) (2.23.0)\n",
            "Requirement already satisfied: tqdm>=4.27 in /usr/local/lib/python3.7/dist-packages (from transformers) (4.64.1)\n",
            "Requirement already satisfied: numpy>=1.17 in /usr/local/lib/python3.7/dist-packages (from transformers) (1.21.6)\n",
            "Collecting huggingface-hub<1.0,>=0.9.0\n",
            "  Downloading huggingface_hub-0.9.1-py3-none-any.whl (120 kB)\n",
            "\u001b[2K     \u001b[90m━━━━━━━━━━━━━━━━━━━━━━━━━━━━━━━━━━━━━━\u001b[0m \u001b[32m120.7/120.7 kB\u001b[0m \u001b[31m13.5 MB/s\u001b[0m eta \u001b[36m0:00:00\u001b[0m\n",
            "\u001b[?25hCollecting tokenizers!=0.11.3,<0.13,>=0.11.1\n",
            "  Downloading tokenizers-0.12.1-cp37-cp37m-manylinux_2_12_x86_64.manylinux2010_x86_64.whl (6.6 MB)\n",
            "\u001b[2K     \u001b[90m━━━━━━━━━━━━━━━━━━━━━━━━━━━━━━━━━━━━━━━━\u001b[0m \u001b[32m6.6/6.6 MB\u001b[0m \u001b[31m72.8 MB/s\u001b[0m eta \u001b[36m0:00:00\u001b[0m\n",
            "\u001b[?25hRequirement already satisfied: pyyaml>=5.1 in /usr/local/lib/python3.7/dist-packages (from transformers) (6.0)\n",
            "Requirement already satisfied: regex!=2019.12.17 in /usr/local/lib/python3.7/dist-packages (from transformers) (2022.6.2)\n",
            "Requirement already satisfied: importlib-metadata in /usr/local/lib/python3.7/dist-packages (from transformers) (4.12.0)\n",
            "Requirement already satisfied: packaging>=20.0 in /usr/local/lib/python3.7/dist-packages (from transformers) (21.3)\n",
            "Requirement already satisfied: filelock in /usr/local/lib/python3.7/dist-packages (from transformers) (3.8.0)\n",
            "Requirement already satisfied: typing-extensions>=3.7.4.3 in /usr/local/lib/python3.7/dist-packages (from huggingface-hub<1.0,>=0.9.0->transformers) (4.1.1)\n",
            "Requirement already satisfied: pyparsing!=3.0.5,>=2.0.2 in /usr/local/lib/python3.7/dist-packages (from packaging>=20.0->transformers) (3.0.9)\n",
            "Requirement already satisfied: zipp>=0.5 in /usr/local/lib/python3.7/dist-packages (from importlib-metadata->transformers) (3.8.1)\n",
            "Requirement already satisfied: certifi>=2017.4.17 in /usr/local/lib/python3.7/dist-packages (from requests->transformers) (2022.6.15)\n",
            "Requirement already satisfied: urllib3!=1.25.0,!=1.25.1,<1.26,>=1.21.1 in /usr/local/lib/python3.7/dist-packages (from requests->transformers) (1.24.3)\n",
            "Requirement already satisfied: idna<3,>=2.5 in /usr/local/lib/python3.7/dist-packages (from requests->transformers) (2.10)\n",
            "Requirement already satisfied: chardet<4,>=3.0.2 in /usr/local/lib/python3.7/dist-packages (from requests->transformers) (3.0.4)\n",
            "Installing collected packages: tokenizers, huggingface-hub, transformers\n",
            "Successfully installed huggingface-hub-0.9.1 tokenizers-0.12.1 transformers-4.22.1\n",
            "\u001b[33mWARNING: Running pip as the 'root' user can result in broken permissions and conflicting behaviour with the system package manager. It is recommended to use a virtual environment instead: https://pip.pypa.io/warnings/venv\u001b[0m\u001b[33m\n",
            "\u001b[0mLooking in indexes: https://pypi.org/simple, https://us-python.pkg.dev/colab-wheels/public/simple/\n",
            "Collecting simpletransformers\n",
            "  Downloading simpletransformers-0.63.9-py3-none-any.whl (250 kB)\n",
            "\u001b[2K     \u001b[90m━━━━━━━━━━━━━━━━━━━━━━━━━━━━━━━━━━━━━━\u001b[0m \u001b[32m250.5/250.5 kB\u001b[0m \u001b[31m16.3 MB/s\u001b[0m eta \u001b[36m0:00:00\u001b[0m\n",
            "\u001b[?25hCollecting datasets\n",
            "  Downloading datasets-2.5.1-py3-none-any.whl (431 kB)\n",
            "\u001b[2K     \u001b[90m━━━━━━━━━━━━━━━━━━━━━━━━━━━━━━━━━━━━━━\u001b[0m \u001b[32m431.2/431.2 kB\u001b[0m \u001b[31m28.1 MB/s\u001b[0m eta \u001b[36m0:00:00\u001b[0m\n",
            "\u001b[?25hRequirement already satisfied: scipy in /usr/local/lib/python3.7/dist-packages (from simpletransformers) (1.7.3)\n",
            "Requirement already satisfied: scikit-learn in /usr/local/lib/python3.7/dist-packages (from simpletransformers) (1.0.2)\n",
            "Requirement already satisfied: numpy in /usr/local/lib/python3.7/dist-packages (from simpletransformers) (1.21.6)\n",
            "Requirement already satisfied: regex in /usr/local/lib/python3.7/dist-packages (from simpletransformers) (2022.6.2)\n",
            "Collecting wandb>=0.10.32\n",
            "  Downloading wandb-0.13.3-py2.py3-none-any.whl (1.8 MB)\n",
            "\u001b[2K     \u001b[90m━━━━━━━━━━━━━━━━━━━━━━━━━━━━━━━━━━━━━━━━\u001b[0m \u001b[32m1.8/1.8 MB\u001b[0m \u001b[31m50.2 MB/s\u001b[0m eta \u001b[36m0:00:00\u001b[0m\n",
            "\u001b[?25hCollecting streamlit\n",
            "  Downloading streamlit-1.13.0-py2.py3-none-any.whl (9.2 MB)\n",
            "\u001b[2K     \u001b[90m━━━━━━━━━━━━━━━━━━━━━━━━━━━━━━━━━━━━━━━━\u001b[0m \u001b[32m9.2/9.2 MB\u001b[0m \u001b[31m85.5 MB/s\u001b[0m eta \u001b[36m0:00:00\u001b[0m\n",
            "\u001b[?25hRequirement already satisfied: transformers>=4.6.0 in /usr/local/lib/python3.7/dist-packages (from simpletransformers) (4.22.1)\n",
            "Requirement already satisfied: requests in /usr/local/lib/python3.7/dist-packages (from simpletransformers) (2.23.0)\n",
            "Requirement already satisfied: tqdm>=4.47.0 in /usr/local/lib/python3.7/dist-packages (from simpletransformers) (4.64.1)\n",
            "Collecting seqeval\n",
            "  Downloading seqeval-1.2.2.tar.gz (43 kB)\n",
            "\u001b[2K     \u001b[90m━━━━━━━━━━━━━━━━━━━━━━━━━━━━━━━━━━━━━━━━\u001b[0m \u001b[32m43.6/43.6 kB\u001b[0m \u001b[31m5.3 MB/s\u001b[0m eta \u001b[36m0:00:00\u001b[0m\n",
            "\u001b[?25h  Preparing metadata (setup.py) ... \u001b[?25l\u001b[?25hdone\n",
            "Requirement already satisfied: pandas in /usr/local/lib/python3.7/dist-packages (from simpletransformers) (1.3.5)\n",
            "Requirement already satisfied: tokenizers in /usr/local/lib/python3.7/dist-packages (from simpletransformers) (0.12.1)\n",
            "Requirement already satisfied: tensorboard in /usr/local/lib/python3.7/dist-packages (from simpletransformers) (2.8.0)\n",
            "Collecting sentencepiece\n",
            "  Downloading sentencepiece-0.1.97-cp37-cp37m-manylinux_2_17_x86_64.manylinux2014_x86_64.whl (1.3 MB)\n",
            "\u001b[2K     \u001b[90m━━━━━━━━━━━━━━━━━━━━━━━━━━━━━━━━━━━━━━━━\u001b[0m \u001b[32m1.3/1.3 MB\u001b[0m \u001b[31m64.7 MB/s\u001b[0m eta \u001b[36m0:00:00\u001b[0m\n",
            "\u001b[?25hRequirement already satisfied: importlib-metadata in /usr/local/lib/python3.7/dist-packages (from transformers>=4.6.0->simpletransformers) (4.12.0)\n",
            "Requirement already satisfied: packaging>=20.0 in /usr/local/lib/python3.7/dist-packages (from transformers>=4.6.0->simpletransformers) (21.3)\n",
            "Requirement already satisfied: filelock in /usr/local/lib/python3.7/dist-packages (from transformers>=4.6.0->simpletransformers) (3.8.0)\n",
            "Requirement already satisfied: huggingface-hub<1.0,>=0.9.0 in /usr/local/lib/python3.7/dist-packages (from transformers>=4.6.0->simpletransformers) (0.9.1)\n",
            "Requirement already satisfied: pyyaml>=5.1 in /usr/local/lib/python3.7/dist-packages (from transformers>=4.6.0->simpletransformers) (6.0)\n",
            "Requirement already satisfied: promise<3,>=2.0 in /usr/local/lib/python3.7/dist-packages (from wandb>=0.10.32->simpletransformers) (2.3)\n",
            "Collecting docker-pycreds>=0.4.0\n",
            "  Downloading docker_pycreds-0.4.0-py2.py3-none-any.whl (9.0 kB)\n",
            "Collecting setproctitle\n",
            "  Downloading setproctitle-1.3.2-cp37-cp37m-manylinux_2_5_x86_64.manylinux1_x86_64.manylinux_2_17_x86_64.manylinux2014_x86_64.whl (30 kB)\n",
            "Collecting pathtools\n",
            "  Downloading pathtools-0.1.2.tar.gz (11 kB)\n",
            "  Preparing metadata (setup.py) ... \u001b[?25l\u001b[?25hdone\n",
            "Requirement already satisfied: setuptools in /usr/local/lib/python3.7/dist-packages (from wandb>=0.10.32->simpletransformers) (57.4.0)\n",
            "Requirement already satisfied: Click!=8.0.0,>=7.0 in /usr/local/lib/python3.7/dist-packages (from wandb>=0.10.32->simpletransformers) (7.1.2)\n",
            "Collecting shortuuid>=0.5.0\n",
            "  Downloading shortuuid-1.0.9-py3-none-any.whl (9.4 kB)\n",
            "Requirement already satisfied: psutil>=5.0.0 in /usr/local/lib/python3.7/dist-packages (from wandb>=0.10.32->simpletransformers) (5.4.8)\n",
            "Collecting sentry-sdk>=1.0.0\n",
            "  Downloading sentry_sdk-1.9.8-py2.py3-none-any.whl (158 kB)\n",
            "\u001b[2K     \u001b[90m━━━━━━━━━━━━━━━━━━━━━━━━━━━━━━━━━━━━━━\u001b[0m \u001b[32m158.7/158.7 kB\u001b[0m \u001b[31m17.1 MB/s\u001b[0m eta \u001b[36m0:00:00\u001b[0m\n",
            "\u001b[?25hRequirement already satisfied: protobuf<4.0dev,>=3.12.0 in /usr/local/lib/python3.7/dist-packages (from wandb>=0.10.32->simpletransformers) (3.17.3)\n",
            "Collecting GitPython>=1.0.0\n",
            "  Downloading GitPython-3.1.27-py3-none-any.whl (181 kB)\n",
            "\u001b[2K     \u001b[90m━━━━━━━━━━━━━━━━━━━━━━━━━━━━━━━━━━━━━━\u001b[0m \u001b[32m181.2/181.2 kB\u001b[0m \u001b[31m22.4 MB/s\u001b[0m eta \u001b[36m0:00:00\u001b[0m\n",
            "\u001b[?25hRequirement already satisfied: six>=1.13.0 in /usr/local/lib/python3.7/dist-packages (from wandb>=0.10.32->simpletransformers) (1.15.0)\n",
            "Requirement already satisfied: idna<3,>=2.5 in /usr/local/lib/python3.7/dist-packages (from requests->simpletransformers) (2.10)\n",
            "Requirement already satisfied: urllib3!=1.25.0,!=1.25.1,<1.26,>=1.21.1 in /usr/local/lib/python3.7/dist-packages (from requests->simpletransformers) (1.24.3)\n",
            "Requirement already satisfied: certifi>=2017.4.17 in /usr/local/lib/python3.7/dist-packages (from requests->simpletransformers) (2022.6.15)\n",
            "Requirement already satisfied: chardet<4,>=3.0.2 in /usr/local/lib/python3.7/dist-packages (from requests->simpletransformers) (3.0.4)\n",
            "Collecting multiprocess\n",
            "  Downloading multiprocess-0.70.13-py37-none-any.whl (115 kB)\n",
            "\u001b[2K     \u001b[90m━━━━━━━━━━━━━━━━━━━━━━━━━━━━━━━━━━━━━━\u001b[0m \u001b[32m115.1/115.1 kB\u001b[0m \u001b[31m11.9 MB/s\u001b[0m eta \u001b[36m0:00:00\u001b[0m\n",
            "\u001b[?25hRequirement already satisfied: pyarrow>=6.0.0 in /usr/local/lib/python3.7/dist-packages (from datasets->simpletransformers) (6.0.1)\n",
            "Collecting xxhash\n",
            "  Downloading xxhash-3.0.0-cp37-cp37m-manylinux_2_17_x86_64.manylinux2014_x86_64.whl (212 kB)\n",
            "\u001b[2K     \u001b[90m━━━━━━━━━━━━━━━━━━━━━━━━━━━━━━━━━━━━━━\u001b[0m \u001b[32m212.2/212.2 kB\u001b[0m \u001b[31m25.1 MB/s\u001b[0m eta \u001b[36m0:00:00\u001b[0m\n",
            "\u001b[?25hRequirement already satisfied: fsspec[http]>=2021.11.1 in /usr/local/lib/python3.7/dist-packages (from datasets->simpletransformers) (2022.8.2)\n",
            "Collecting responses<0.19\n",
            "  Downloading responses-0.18.0-py3-none-any.whl (38 kB)\n",
            "Requirement already satisfied: aiohttp in /usr/local/lib/python3.7/dist-packages (from datasets->simpletransformers) (3.8.1)\n",
            "Requirement already satisfied: dill<0.3.6 in /usr/local/lib/python3.7/dist-packages (from datasets->simpletransformers) (0.3.5.1)\n",
            "Requirement already satisfied: pytz>=2017.3 in /usr/local/lib/python3.7/dist-packages (from pandas->simpletransformers) (2022.2.1)\n",
            "Requirement already satisfied: python-dateutil>=2.7.3 in /usr/local/lib/python3.7/dist-packages (from pandas->simpletransformers) (2.8.2)\n",
            "Requirement already satisfied: joblib>=0.11 in /usr/local/lib/python3.7/dist-packages (from scikit-learn->simpletransformers) (1.1.0)\n",
            "Requirement already satisfied: threadpoolctl>=2.0.0 in /usr/local/lib/python3.7/dist-packages (from scikit-learn->simpletransformers) (3.1.0)\n",
            "Collecting pympler>=0.9\n",
            "  Downloading Pympler-1.0.1-py3-none-any.whl (164 kB)\n",
            "\u001b[2K     \u001b[90m━━━━━━━━━━━━━━━━━━━━━━━━━━━━━━━━━━━━━━\u001b[0m \u001b[32m164.8/164.8 kB\u001b[0m \u001b[31m21.1 MB/s\u001b[0m eta \u001b[36m0:00:00\u001b[0m\n",
            "\u001b[?25hRequirement already satisfied: toml in /usr/local/lib/python3.7/dist-packages (from streamlit->simpletransformers) (0.10.2)\n",
            "Requirement already satisfied: tzlocal>=1.1 in /usr/local/lib/python3.7/dist-packages (from streamlit->simpletransformers) (1.5.1)\n",
            "Requirement already satisfied: altair>=3.2.0 in /usr/local/lib/python3.7/dist-packages (from streamlit->simpletransformers) (4.2.0)\n",
            "Requirement already satisfied: typing-extensions>=3.10.0.0 in /usr/local/lib/python3.7/dist-packages (from streamlit->simpletransformers) (4.1.1)\n",
            "Requirement already satisfied: tornado>=5.0 in /usr/local/lib/python3.7/dist-packages (from streamlit->simpletransformers) (5.1.1)\n",
            "Collecting pydeck>=0.1.dev5\n",
            "  Downloading pydeck-0.8.0b3-py2.py3-none-any.whl (4.7 MB)\n",
            "\u001b[2K     \u001b[90m━━━━━━━━━━━━━━━━━━━━━━━━━━━━━━━━━━━━━━━━\u001b[0m \u001b[32m4.7/4.7 MB\u001b[0m \u001b[31m55.8 MB/s\u001b[0m eta \u001b[36m0:00:00\u001b[0m\n",
            "\u001b[?25hCollecting rich>=10.11.0\n",
            "  Downloading rich-12.5.1-py3-none-any.whl (235 kB)\n",
            "\u001b[2K     \u001b[90m━━━━━━━━━━━━━━━━━━━━━━━━━━━━━━━━━━━━━━\u001b[0m \u001b[32m235.6/235.6 kB\u001b[0m \u001b[31m15.2 MB/s\u001b[0m eta \u001b[36m0:00:00\u001b[0m\n",
            "\u001b[?25hRequirement already satisfied: cachetools>=4.0 in /usr/local/lib/python3.7/dist-packages (from streamlit->simpletransformers) (4.2.4)\n",
            "Collecting semver\n",
            "  Downloading semver-2.13.0-py2.py3-none-any.whl (12 kB)\n",
            "Collecting validators>=0.2\n",
            "  Downloading validators-0.20.0.tar.gz (30 kB)\n",
            "  Preparing metadata (setup.py) ... \u001b[?25l\u001b[?25hdone\n",
            "Requirement already satisfied: pillow>=6.2.0 in /usr/local/lib/python3.7/dist-packages (from streamlit->simpletransformers) (7.1.2)\n",
            "Collecting watchdog\n",
            "  Downloading watchdog-2.1.9-py3-none-manylinux2014_x86_64.whl (78 kB)\n",
            "\u001b[2K     \u001b[90m━━━━━━━━━━━━━━━━━━━━━━━━━━━━━━━━━━━━━━━━\u001b[0m \u001b[32m78.4/78.4 kB\u001b[0m \u001b[31m10.9 MB/s\u001b[0m eta \u001b[36m0:00:00\u001b[0m\n",
            "\u001b[?25hCollecting blinker>=1.0.0\n",
            "  Downloading blinker-1.5-py2.py3-none-any.whl (12 kB)\n",
            "Requirement already satisfied: grpcio>=1.24.3 in /usr/local/lib/python3.7/dist-packages (from tensorboard->simpletransformers) (1.48.1)\n",
            "Requirement already satisfied: tensorboard-data-server<0.7.0,>=0.6.0 in /usr/local/lib/python3.7/dist-packages (from tensorboard->simpletransformers) (0.6.1)\n",
            "Requirement already satisfied: absl-py>=0.4 in /usr/local/lib/python3.7/dist-packages (from tensorboard->simpletransformers) (1.2.0)\n",
            "Requirement already satisfied: markdown>=2.6.8 in /usr/local/lib/python3.7/dist-packages (from tensorboard->simpletransformers) (3.4.1)\n",
            "Requirement already satisfied: tensorboard-plugin-wit>=1.6.0 in /usr/local/lib/python3.7/dist-packages (from tensorboard->simpletransformers) (1.8.1)\n",
            "Requirement already satisfied: werkzeug>=0.11.15 in /usr/local/lib/python3.7/dist-packages (from tensorboard->simpletransformers) (1.0.1)\n",
            "Requirement already satisfied: wheel>=0.26 in /usr/local/lib/python3.7/dist-packages (from tensorboard->simpletransformers) (0.37.1)\n",
            "Requirement already satisfied: google-auth<3,>=1.6.3 in /usr/local/lib/python3.7/dist-packages (from tensorboard->simpletransformers) (1.35.0)\n",
            "Requirement already satisfied: google-auth-oauthlib<0.5,>=0.4.1 in /usr/local/lib/python3.7/dist-packages (from tensorboard->simpletransformers) (0.4.6)\n",
            "Requirement already satisfied: entrypoints in /usr/local/lib/python3.7/dist-packages (from altair>=3.2.0->streamlit->simpletransformers) (0.4)\n",
            "Requirement already satisfied: toolz in /usr/local/lib/python3.7/dist-packages (from altair>=3.2.0->streamlit->simpletransformers) (0.12.0)\n",
            "Requirement already satisfied: jinja2 in /usr/local/lib/python3.7/dist-packages (from altair>=3.2.0->streamlit->simpletransformers) (2.11.3)\n",
            "Requirement already satisfied: jsonschema>=3.0 in /usr/local/lib/python3.7/dist-packages (from altair>=3.2.0->streamlit->simpletransformers) (4.3.3)\n",
            "Requirement already satisfied: aiosignal>=1.1.2 in /usr/local/lib/python3.7/dist-packages (from aiohttp->datasets->simpletransformers) (1.2.0)\n",
            "Requirement already satisfied: multidict<7.0,>=4.5 in /usr/local/lib/python3.7/dist-packages (from aiohttp->datasets->simpletransformers) (6.0.2)\n",
            "Requirement already satisfied: charset-normalizer<3.0,>=2.0 in /usr/local/lib/python3.7/dist-packages (from aiohttp->datasets->simpletransformers) (2.1.1)\n",
            "Requirement already satisfied: asynctest==0.13.0 in /usr/local/lib/python3.7/dist-packages (from aiohttp->datasets->simpletransformers) (0.13.0)\n",
            "Requirement already satisfied: attrs>=17.3.0 in /usr/local/lib/python3.7/dist-packages (from aiohttp->datasets->simpletransformers) (22.1.0)\n",
            "Requirement already satisfied: async-timeout<5.0,>=4.0.0a3 in /usr/local/lib/python3.7/dist-packages (from aiohttp->datasets->simpletransformers) (4.0.2)\n",
            "Requirement already satisfied: yarl<2.0,>=1.0 in /usr/local/lib/python3.7/dist-packages (from aiohttp->datasets->simpletransformers) (1.8.1)\n",
            "Requirement already satisfied: frozenlist>=1.1.1 in /usr/local/lib/python3.7/dist-packages (from aiohttp->datasets->simpletransformers) (1.3.1)\n",
            "Collecting gitdb<5,>=4.0.1\n",
            "  Downloading gitdb-4.0.9-py3-none-any.whl (63 kB)\n",
            "\u001b[2K     \u001b[90m━━━━━━━━━━━━━━━━━━━━━━━━━━━━━━━━━━━━━━━━\u001b[0m \u001b[32m63.1/63.1 kB\u001b[0m \u001b[31m6.3 MB/s\u001b[0m eta \u001b[36m0:00:00\u001b[0m\n",
            "\u001b[?25hRequirement already satisfied: rsa<5,>=3.1.4 in /usr/local/lib/python3.7/dist-packages (from google-auth<3,>=1.6.3->tensorboard->simpletransformers) (4.9)\n",
            "Requirement already satisfied: pyasn1-modules>=0.2.1 in /usr/local/lib/python3.7/dist-packages (from google-auth<3,>=1.6.3->tensorboard->simpletransformers) (0.2.8)\n",
            "Requirement already satisfied: requests-oauthlib>=0.7.0 in /usr/local/lib/python3.7/dist-packages (from google-auth-oauthlib<0.5,>=0.4.1->tensorboard->simpletransformers) (1.3.1)\n",
            "Requirement already satisfied: zipp>=0.5 in /usr/local/lib/python3.7/dist-packages (from importlib-metadata->transformers>=4.6.0->simpletransformers) (3.8.1)\n",
            "Requirement already satisfied: pyparsing!=3.0.5,>=2.0.2 in /usr/local/lib/python3.7/dist-packages (from packaging>=20.0->transformers>=4.6.0->simpletransformers) (3.0.9)\n",
            "Collecting urllib3!=1.25.0,!=1.25.1,<1.26,>=1.21.1\n",
            "  Downloading urllib3-1.25.11-py2.py3-none-any.whl (127 kB)\n",
            "\u001b[2K     \u001b[90m━━━━━━━━━━━━━━━━━━━━━━━━━━━━━━━━━━━━━━\u001b[0m \u001b[32m128.0/128.0 kB\u001b[0m \u001b[31m17.7 MB/s\u001b[0m eta \u001b[36m0:00:00\u001b[0m\n",
            "\u001b[?25hRequirement already satisfied: pygments<3.0.0,>=2.6.0 in /usr/local/lib/python3.7/dist-packages (from rich>=10.11.0->streamlit->simpletransformers) (2.6.1)\n",
            "Collecting commonmark<0.10.0,>=0.9.0\n",
            "  Downloading commonmark-0.9.1-py2.py3-none-any.whl (51 kB)\n",
            "\u001b[2K     \u001b[90m━━━━━━━━━━━━━━━━━━━━━━━━━━━━━━━━━━━━━━━━\u001b[0m \u001b[32m51.1/51.1 kB\u001b[0m \u001b[31m6.9 MB/s\u001b[0m eta \u001b[36m0:00:00\u001b[0m\n",
            "\u001b[?25hCollecting sentry-sdk>=1.0.0\n",
            "  Downloading sentry_sdk-1.9.7-py2.py3-none-any.whl (157 kB)\n",
            "\u001b[2K     \u001b[90m━━━━━━━━━━━━━━━━━━━━━━━━━━━━━━━━━━━━━━\u001b[0m \u001b[32m157.9/157.9 kB\u001b[0m \u001b[31m14.6 MB/s\u001b[0m eta \u001b[36m0:00:00\u001b[0m\n",
            "\u001b[?25h  Downloading sentry_sdk-1.9.6-py2.py3-none-any.whl (157 kB)\n",
            "\u001b[2K     \u001b[90m━━━━━━━━━━━━━━━━━━━━━━━━━━━━━━━━━━━━━━\u001b[0m \u001b[32m157.8/157.8 kB\u001b[0m \u001b[31m17.8 MB/s\u001b[0m eta \u001b[36m0:00:00\u001b[0m\n",
            "\u001b[?25h  Downloading sentry_sdk-1.9.5-py2.py3-none-any.whl (157 kB)\n",
            "\u001b[2K     \u001b[90m━━━━━━━━━━━━━━━━━━━━━━━━━━━━━━━━━━━━━━\u001b[0m \u001b[32m157.6/157.6 kB\u001b[0m \u001b[31m16.0 MB/s\u001b[0m eta \u001b[36m0:00:00\u001b[0m\n",
            "\u001b[?25h  Downloading sentry_sdk-1.9.4-py2.py3-none-any.whl (157 kB)\n",
            "\u001b[2K     \u001b[90m━━━━━━━━━━━━━━━━━━━━━━━━━━━━━━━━━━━━━━\u001b[0m \u001b[32m157.6/157.6 kB\u001b[0m \u001b[31m18.1 MB/s\u001b[0m eta \u001b[36m0:00:00\u001b[0m\n",
            "\u001b[?25h  Downloading sentry_sdk-1.9.3-py2.py3-none-any.whl (157 kB)\n",
            "\u001b[2K     \u001b[90m━━━━━━━━━━━━━━━━━━━━━━━━━━━━━━━━━━━━━━\u001b[0m \u001b[32m157.2/157.2 kB\u001b[0m \u001b[31m17.8 MB/s\u001b[0m eta \u001b[36m0:00:00\u001b[0m\n",
            "\u001b[?25h  Downloading sentry_sdk-1.9.2-py2.py3-none-any.whl (157 kB)\n",
            "\u001b[2K     \u001b[90m━━━━━━━━━━━━━━━━━━━━━━━━━━━━━━━━━━━━━━\u001b[0m \u001b[32m157.2/157.2 kB\u001b[0m \u001b[31m17.1 MB/s\u001b[0m eta \u001b[36m0:00:00\u001b[0m\n",
            "\u001b[?25h  Downloading sentry_sdk-1.9.1-py2.py3-none-any.whl (157 kB)\n",
            "\u001b[2K     \u001b[90m━━━━━━━━━━━━━━━━━━━━━━━━━━━━━━━━━━━━━━\u001b[0m \u001b[32m157.2/157.2 kB\u001b[0m \u001b[31m18.1 MB/s\u001b[0m eta \u001b[36m0:00:00\u001b[0m\n",
            "\u001b[?25h  Downloading sentry_sdk-1.9.0-py2.py3-none-any.whl (156 kB)\n",
            "\u001b[2K     \u001b[90m━━━━━━━━━━━━━━━━━━━━━━━━━━━━━━━━━━━━━━\u001b[0m \u001b[32m156.6/156.6 kB\u001b[0m \u001b[31m17.6 MB/s\u001b[0m eta \u001b[36m0:00:00\u001b[0m\n",
            "\u001b[?25hRequirement already satisfied: decorator>=3.4.0 in /usr/local/lib/python3.7/dist-packages (from validators>=0.2->streamlit->simpletransformers) (4.4.2)\n",
            "Collecting smmap<6,>=3.0.1\n",
            "  Downloading smmap-5.0.0-py3-none-any.whl (24 kB)\n",
            "Requirement already satisfied: MarkupSafe>=0.23 in /usr/local/lib/python3.7/dist-packages (from jinja2->altair>=3.2.0->streamlit->simpletransformers) (2.0.1)\n",
            "Requirement already satisfied: pyrsistent!=0.17.0,!=0.17.1,!=0.17.2,>=0.14.0 in /usr/local/lib/python3.7/dist-packages (from jsonschema>=3.0->altair>=3.2.0->streamlit->simpletransformers) (0.18.1)\n",
            "Requirement already satisfied: importlib-resources>=1.4.0 in /usr/local/lib/python3.7/dist-packages (from jsonschema>=3.0->altair>=3.2.0->streamlit->simpletransformers) (5.9.0)\n",
            "Requirement already satisfied: pyasn1<0.5.0,>=0.4.6 in /usr/local/lib/python3.7/dist-packages (from pyasn1-modules>=0.2.1->google-auth<3,>=1.6.3->tensorboard->simpletransformers) (0.4.8)\n",
            "Requirement already satisfied: oauthlib>=3.0.0 in /usr/local/lib/python3.7/dist-packages (from requests-oauthlib>=0.7.0->google-auth-oauthlib<0.5,>=0.4.1->tensorboard->simpletransformers) (3.2.0)\n",
            "Building wheels for collected packages: seqeval, validators, pathtools\n",
            "  Building wheel for seqeval (setup.py) ... \u001b[?25l\u001b[?25hdone\n",
            "  Created wheel for seqeval: filename=seqeval-1.2.2-py3-none-any.whl size=16180 sha256=e8164d4bfbdf4f7d712ce98a523c66b4cc210c61319296f09a1109edcc575e84\n",
            "  Stored in directory: /root/.cache/pip/wheels/05/96/ee/7cac4e74f3b19e3158dce26a20a1c86b3533c43ec72a549fd7\n",
            "  Building wheel for validators (setup.py) ... \u001b[?25l\u001b[?25hdone\n",
            "  Created wheel for validators: filename=validators-0.20.0-py3-none-any.whl size=19582 sha256=b6f6ea3b7f3b86f695be9171c4535c4bd7f206f33b63fabb2486fd3e7f879d92\n",
            "  Stored in directory: /root/.cache/pip/wheels/5f/55/ab/36a76989f7f88d9ca7b1f68da6d94252bb6a8d6ad4f18e04e9\n",
            "  Building wheel for pathtools (setup.py) ... \u001b[?25l\u001b[?25hdone\n",
            "  Created wheel for pathtools: filename=pathtools-0.1.2-py3-none-any.whl size=8806 sha256=4a952acdee00464be66182e94963d28ab5a5cc050096c1789df0c0e7fedf6f65\n",
            "  Stored in directory: /root/.cache/pip/wheels/3e/31/09/fa59cef12cdcfecc627b3d24273699f390e71828921b2cbba2\n",
            "Successfully built seqeval validators pathtools\n",
            "Installing collected packages: sentencepiece, pathtools, commonmark, xxhash, watchdog, validators, urllib3, smmap, shortuuid, setproctitle, semver, rich, pympler, multiprocess, docker-pycreds, blinker, sentry-sdk, pydeck, gitdb, seqeval, responses, GitPython, wandb, streamlit, datasets, simpletransformers\n",
            "  Attempting uninstall: urllib3\n",
            "    Found existing installation: urllib3 1.24.3\n",
            "    Uninstalling urllib3-1.24.3:\n",
            "      Successfully uninstalled urllib3-1.24.3\n",
            "\u001b[31mERROR: pip's dependency resolver does not currently take into account all the packages that are installed. This behaviour is the source of the following dependency conflicts.\n",
            "kaggle 1.5.6 requires urllib3<1.25,>=1.21.1, but you have urllib3 1.25.11 which is incompatible.\u001b[0m\u001b[31m\n",
            "\u001b[0mSuccessfully installed GitPython-3.1.27 blinker-1.5 commonmark-0.9.1 datasets-2.5.1 docker-pycreds-0.4.0 gitdb-4.0.9 multiprocess-0.70.13 pathtools-0.1.2 pydeck-0.8.0b3 pympler-1.0.1 responses-0.18.0 rich-12.5.1 semver-2.13.0 sentencepiece-0.1.97 sentry-sdk-1.9.0 seqeval-1.2.2 setproctitle-1.3.2 shortuuid-1.0.9 simpletransformers-0.63.9 smmap-5.0.0 streamlit-1.13.0 urllib3-1.25.11 validators-0.20.0 wandb-0.13.3 watchdog-2.1.9 xxhash-3.0.0\n",
            "\u001b[33mWARNING: Running pip as the 'root' user can result in broken permissions and conflicting behaviour with the system package manager. It is recommended to use a virtual environment instead: https://pip.pypa.io/warnings/venv\u001b[0m\u001b[33m\n",
            "\u001b[0mLooking in indexes: https://pypi.org/simple, https://us-python.pkg.dev/colab-wheels/public/simple/\n",
            "Collecting tensorboardx\n",
            "  Downloading tensorboardX-2.5.1-py2.py3-none-any.whl (125 kB)\n",
            "\u001b[2K     \u001b[90m━━━━━━━━━━━━━━━━━━━━━━━━━━━━━━━━━━━━━━\u001b[0m \u001b[32m125.4/125.4 kB\u001b[0m \u001b[31m12.4 MB/s\u001b[0m eta \u001b[36m0:00:00\u001b[0m\n",
            "\u001b[?25hRequirement already satisfied: protobuf<=3.20.1,>=3.8.0 in /usr/local/lib/python3.7/dist-packages (from tensorboardx) (3.17.3)\n",
            "Requirement already satisfied: numpy in /usr/local/lib/python3.7/dist-packages (from tensorboardx) (1.21.6)\n",
            "Requirement already satisfied: six>=1.9 in /usr/local/lib/python3.7/dist-packages (from protobuf<=3.20.1,>=3.8.0->tensorboardx) (1.15.0)\n",
            "Installing collected packages: tensorboardx\n",
            "Successfully installed tensorboardx-2.5.1\n",
            "\u001b[33mWARNING: Running pip as the 'root' user can result in broken permissions and conflicting behaviour with the system package manager. It is recommended to use a virtual environment instead: https://pip.pypa.io/warnings/venv\u001b[0m\u001b[33m\n",
            "\u001b[0mLooking in indexes: https://pypi.org/simple, https://us-python.pkg.dev/colab-wheels/public/simple/\n",
            "Collecting pytorch-nlp\n",
            "  Downloading pytorch_nlp-0.5.0-py3-none-any.whl (90 kB)\n",
            "\u001b[2K     \u001b[90m━━━━━━━━━━━━━━━━━━━━━━━━━━━━━━━━━━━━━━━━\u001b[0m \u001b[32m90.1/90.1 kB\u001b[0m \u001b[31m10.8 MB/s\u001b[0m eta \u001b[36m0:00:00\u001b[0m\n",
            "\u001b[?25hRequirement already satisfied: numpy in /usr/local/lib/python3.7/dist-packages (from pytorch-nlp) (1.21.6)\n",
            "Requirement already satisfied: tqdm in /usr/local/lib/python3.7/dist-packages (from pytorch-nlp) (4.64.1)\n",
            "Installing collected packages: pytorch-nlp\n",
            "Successfully installed pytorch-nlp-0.5.0\n",
            "\u001b[33mWARNING: Running pip as the 'root' user can result in broken permissions and conflicting behaviour with the system package manager. It is recommended to use a virtual environment instead: https://pip.pypa.io/warnings/venv\u001b[0m\u001b[33m\n",
            "\u001b[0m"
          ]
        }
      ]
    },
    {
      "cell_type": "code",
      "source": [
        "print(balanced_df.shape)\n",
        "print(Counter(balanced_df['labels']))"
      ],
      "metadata": {
        "colab": {
          "base_uri": "https://localhost:8080/"
        },
        "id": "spoHOn0WDiIm",
        "outputId": "e253035a-0d08-4329-d701-232c3fa7cfdb"
      },
      "execution_count": 31,
      "outputs": [
        {
          "output_type": "stream",
          "name": "stdout",
          "text": [
            "(12000, 5)\n",
            "Counter({'Books': 3000, 'Clothing & Accessories': 3000, 'Household': 3000, 'Electronics': 3000})\n"
          ]
        }
      ]
    },
    {
      "cell_type": "code",
      "source": [
        "#splitting the dataframe into test and training dataframe\n",
        "from sklearn.model_selection import train_test_split\n",
        "\n",
        "balanced_df, test_df = train_test_split(balanced_df, test_size=0.1, random_state = 2018)\n",
        "print(balanced_df.shape, test_df.shape)"
      ],
      "metadata": {
        "colab": {
          "base_uri": "https://localhost:8080/"
        },
        "id": "2qZrPdmLEFxI",
        "outputId": "20f30f5c-1da0-415d-aef9-35a9f7d6defd"
      },
      "execution_count": 33,
      "outputs": [
        {
          "output_type": "stream",
          "name": "stdout",
          "text": [
            "(10800, 5) (1200, 5)\n"
          ]
        }
      ]
    },
    {
      "cell_type": "code",
      "source": [
        "import torch\n",
        "\n",
        "# If there's a GPU available...\n",
        "if torch.cuda.is_available():    \n",
        "    # Tell PyTorch to use the GPU.    \n",
        "    device = torch.device(\"cuda\")\n",
        "    print('There are %d GPU(s) available.' % torch.cuda.device_count())\n",
        "    print('We will use the GPU:', torch.cuda.get_device_name(0))\n",
        "\n",
        "# If not...\n",
        "else:\n",
        "    print('No GPU available, using the CPU instead.')\n",
        "    device = torch.device(\"cpu\")"
      ],
      "metadata": {
        "colab": {
          "base_uri": "https://localhost:8080/"
        },
        "id": "GJ4sHXuuEIJc",
        "outputId": "52905f32-ae36-4aa2-dd76-68ebd23119c3"
      },
      "execution_count": 34,
      "outputs": [
        {
          "output_type": "stream",
          "name": "stdout",
          "text": [
            "There are 1 GPU(s) available.\n",
            "We will use the GPU: Tesla T4\n"
          ]
        }
      ]
    },
    {
      "cell_type": "markdown",
      "source": [
        "Encoding using LabelEncoder"
      ],
      "metadata": {
        "id": "uIq2-B1WEUjj"
      }
    },
    {
      "cell_type": "code",
      "source": [
        "from sklearn.preprocessing import LabelEncoder\n",
        "\n",
        "encoder = LabelEncoder()\n",
        "balanced_df['labels']=encoder.fit_transform(balanced_df['labels'])\n",
        "print(Counter(balanced_df['labels']))\n",
        "\n",
        "prediction_decoded = encoder.inverse_transform(balanced_df['labels'])\n",
        "print(Counter(prediction_decoded))"
      ],
      "metadata": {
        "colab": {
          "base_uri": "https://localhost:8080/"
        },
        "id": "7D_ipBaJELQC",
        "outputId": "72fdf9f2-dbfc-4da6-d485-8f9d9ac113ca"
      },
      "execution_count": 35,
      "outputs": [
        {
          "output_type": "stream",
          "name": "stdout",
          "text": [
            "Counter({2: 2712, 3: 2703, 1: 2693, 0: 2692})\n",
            "Counter({'Electronics': 2712, 'Household': 2703, 'Clothing & Accessories': 2693, 'Books': 2692})\n"
          ]
        }
      ]
    },
    {
      "cell_type": "code",
      "source": [
        "#loading the BERT tokenizer\n",
        "from transformers import BertTokenizer\n",
        "\n",
        "print('Loading BERT tokenizer...')\n",
        "tokenizer = BertTokenizer.from_pretrained('bert-base-uncased', do_lower_case=True)"
      ],
      "metadata": {
        "colab": {
          "base_uri": "https://localhost:8080/",
          "height": 217,
          "referenced_widgets": [
            "f467a1c3419443ef86a8349e25bb93bb",
            "bbb876c57ff04d7db2a23f5aa1fcdc8c",
            "12cae35c5f944745a3a44511e403a1e3",
            "189e5954845042b4bacf64092d34937a",
            "48e28bed27a945a2bccd3c4bca140168",
            "ad5f8d5c90ba479bac69da02eca9a186",
            "6de0ff7dfc924ae3984713d0797c83db",
            "6ebfd3888d7c4b918b8db0a33c19da11",
            "70aab9afa8e34513b60f52538cdbd67c",
            "6698d567980b4b179f142f422290d485",
            "2ba6ce26b56c4898b934b1f12f172cfc",
            "c5ac8a1adfd5492890ed83e92963c6f4",
            "3f901524bffc4d2798fdf56725db7530",
            "7e748d0f0ea948ddb78d71f3076e07e7",
            "676d279876ab42dcbad7235d0de08273",
            "d086795cfdf0488da07f7fe04c31cfc2",
            "fb05b2272bf946ff91492fb324a8edc3",
            "33057b03ad1f4bf4b4a82c135de51a5f",
            "d5b514e114ea4846b62e2ea2b35c38ac",
            "57dadb7e2ded427fa2fe9c4d1d7dc982",
            "75002d42fd2b4de0b4de12e3fb1b0418",
            "c766f1b4ef1f4528bbd363f5103039ad",
            "0a38fbf07a214d6e9586263bc173fa84",
            "59035d3a13094d56aa068da5483e3f15",
            "f31fd2aea1c948b1bd8863656b3b9a81",
            "4bceb98948f14cb9902776d5905b3a18",
            "370bff45f5eb4c8ab33271bf26ad4e27",
            "54f7801040944b898bbd804b9de9b0ae",
            "48d3d6935448483783311afb91714236",
            "c929f938231742baa0cd05bb2c6ac826",
            "39a0892745cc4efab68d5f3bd8234a30",
            "b6a8000f68914e739e706a4454fbea14",
            "0fa83c84fa5043b78fc082aa0f428f11",
            "9bbd09f23b9c4fcdae504220a37057bf",
            "867331f078634f96a41b427417c76fb0",
            "2fcc671704574390ba44f09b3cb91439",
            "2a5db7fc7c1347fa9ac4deec19cbb8e8",
            "21c192cebb0f47b6803e417ac8e8f52a",
            "a7782188aa274bd298d927ba64688fe9",
            "4119f356af264ac09361710cf92f9b9c",
            "b9954a25a75f4ddcbd07a17d011d3bff",
            "92d19efbbf424f0ea3c330a279d4daeb",
            "6059397cf1374b3dae7ac04da793f740",
            "c2ae57170a8f41ca91f57a83ce8c264a"
          ]
        },
        "id": "_9vtZzpQEiOR",
        "outputId": "a70a60b0-70ad-4eca-896f-528edd3df8f9"
      },
      "execution_count": 36,
      "outputs": [
        {
          "output_type": "stream",
          "name": "stderr",
          "text": [
            "The cache for model files in Transformers v4.22.0 has been updated. Migrating your old cache. This is a one-time only operation. You can interrupt this and resume the migration later on by calling `transformers.utils.move_cache()`.\n"
          ]
        },
        {
          "output_type": "stream",
          "name": "stdout",
          "text": [
            "Moving 0 files to the new cache system\n"
          ]
        },
        {
          "output_type": "display_data",
          "data": {
            "text/plain": [
              "0it [00:00, ?it/s]"
            ],
            "application/vnd.jupyter.widget-view+json": {
              "version_major": 2,
              "version_minor": 0,
              "model_id": "f467a1c3419443ef86a8349e25bb93bb"
            }
          },
          "metadata": {}
        },
        {
          "output_type": "stream",
          "name": "stdout",
          "text": [
            "Loading BERT tokenizer...\n"
          ]
        },
        {
          "output_type": "display_data",
          "data": {
            "text/plain": [
              "Downloading:   0%|          | 0.00/232k [00:00<?, ?B/s]"
            ],
            "application/vnd.jupyter.widget-view+json": {
              "version_major": 2,
              "version_minor": 0,
              "model_id": "c5ac8a1adfd5492890ed83e92963c6f4"
            }
          },
          "metadata": {}
        },
        {
          "output_type": "display_data",
          "data": {
            "text/plain": [
              "Downloading:   0%|          | 0.00/28.0 [00:00<?, ?B/s]"
            ],
            "application/vnd.jupyter.widget-view+json": {
              "version_major": 2,
              "version_minor": 0,
              "model_id": "0a38fbf07a214d6e9586263bc173fa84"
            }
          },
          "metadata": {}
        },
        {
          "output_type": "display_data",
          "data": {
            "text/plain": [
              "Downloading:   0%|          | 0.00/570 [00:00<?, ?B/s]"
            ],
            "application/vnd.jupyter.widget-view+json": {
              "version_major": 2,
              "version_minor": 0,
              "model_id": "9bbd09f23b9c4fcdae504220a37057bf"
            }
          },
          "metadata": {}
        }
      ]
    },
    {
      "cell_type": "code",
      "source": [
        "# get an idea about avg length of desriptions as BERT requires input in a particular format\n",
        "desc = balanced_df[\"cleaned_desc\"].tolist()\n",
        "\n",
        "seq_len = [len(i.split()) for i in desc]\n",
        "pd.Series(seq_len).hist(bins = 30)"
      ],
      "metadata": {
        "colab": {
          "base_uri": "https://localhost:8080/",
          "height": 364
        },
        "id": "SXvi_ioSE04C",
        "outputId": "d634a0bc-b6d5-4808-c9e6-edad8af7c5f4"
      },
      "execution_count": 37,
      "outputs": [
        {
          "output_type": "execute_result",
          "data": {
            "text/plain": [
              "<matplotlib.axes._subplots.AxesSubplot at 0x7f1e7208ce90>"
            ]
          },
          "metadata": {},
          "execution_count": 37
        },
        {
          "output_type": "display_data",
          "data": {
            "text/plain": [
              "<Figure size 576x396 with 1 Axes>"
            ],
            "image/png": "[encoded data removed]"
          },
          "metadata": {}
        }
      ]
    },
    {
      "cell_type": "markdown",
      "source": [
        "tokenizer.encode() splits sentences into tokens and adds special tokens at start and end according to the BERT input requirements"
      ],
      "metadata": {
        "id": "k3NAoAePFZ48"
      }
    },
    {
      "cell_type": "code",
      "source": [
        "#tokenization of all the sentences followed by the mapping of the tokens to their word ids\n",
        "tokenized_inputs = []\n",
        "tokenized_len = []\n",
        "input_data = balanced_df[\"cleaned_desc\"].tolist()\n",
        "\n",
        "for sentence in input_data:\n",
        "  '''\n",
        "    tokenizer.encode does the following:\n",
        "    1. tokenizes the sentences\n",
        "    2. adds [CLS] to the start of the tokens and [SEP] to the end of the tokens\n",
        "    3. Maps the tokens to their word IDS\n",
        "  '''\n",
        "  encoded_sentence = tokenizer.encode(sentence, add_special_tokens=True)\n",
        "  tokenized_inputs.append(encoded_sentence)\n",
        "  tokenized_len.append(len(encoded_sentence))\n",
        "\n",
        "balanced_df[\"Token_ids\"] = tokenized_inputs"
      ],
      "metadata": {
        "colab": {
          "base_uri": "https://localhost:8080/"
        },
        "id": "Xnfmq6SVFVwy",
        "outputId": "1ef54e93-d9f7-4222-d022-ecd5d464a409"
      },
      "execution_count": 38,
      "outputs": [
        {
          "output_type": "stream",
          "name": "stderr",
          "text": [
            "Token indices sequence length is longer than the specified maximum sequence length for this model (1210 > 512). Running this sequence through the model will result in indexing errors\n"
          ]
        }
      ]
    },
    {
      "cell_type": "code",
      "source": [
        "# distribution of token lengths across the corpus\n",
        "\n",
        "sns.distplot(tokenized_len)\n",
        "plt.xlabel('Token count');"
      ],
      "metadata": {
        "colab": {
          "base_uri": "https://localhost:8080/",
          "height": 361
        },
        "id": "FvuwXhAbFkbE",
        "outputId": "99735e35-f713-4374-db4d-b77f9f34aaea"
      },
      "execution_count": 39,
      "outputs": [
        {
          "output_type": "display_data",
          "data": {
            "text/plain": [
              "<Figure size 576x396 with 1 Axes>"
            ],
            "image/png": "[encoded data removed]"
          },
          "metadata": {}
        }
      ]
    },
    {
      "cell_type": "code",
      "source": [
        "from keras.preprocessing.sequence import pad_sequences\n",
        "\n",
        "# from the above, we can see that most of the sentences are below 200 -> choosing a max_len of 128\n",
        "max_len = 128\n",
        "#padding and truncating the sentences according to the maximum length\n",
        "tokenized_inputs = pad_sequences(balanced_df[\"Token_ids\"], maxlen=max_len, dtype=\"long\",value=0, truncating=\"post\", padding=\"post\")\n",
        "\n",
        "#creating the attention masks\n",
        "attention_mask = []\n",
        "\n",
        "for sentence in tokenized_inputs:\n",
        "  temp_mask = [int(token_id>0) for token_id in sentence]\n",
        "  attention_mask.append(temp_mask)"
      ],
      "metadata": {
        "id": "Iw2S8Ck8F8BB"
      },
      "execution_count": 41,
      "outputs": []
    },
    {
      "cell_type": "markdown",
      "source": [
        "Converting to Pytorch tensors, splitting to validation and training dataset"
      ],
      "metadata": {
        "id": "mBZsAQKtGLrQ"
      }
    },
    {
      "cell_type": "code",
      "source": [
        "description_inputs = torch.tensor(tokenized_inputs)\n",
        "category_labels = torch.tensor(balanced_df[\"labels\"].values)\n",
        "mask = torch.tensor(attention_mask)\n",
        "\n",
        "print(description_inputs.shape, category_labels.shape, mask.shape)\n",
        "\n",
        "#splitting the dataset and attention masks\n",
        "training_dataset, validation_dataset, training_categories, validation_categories = train_test_split(description_inputs, \n",
        "                                                                                                    category_labels, \n",
        "                                                                                                    random_state = 42, \n",
        "                                                                                                    test_size = 0.15,\n",
        "                                                                                                    shuffle=True)\n",
        "\n",
        "training_mask, validation_mask, _, _ = train_test_split(mask, \n",
        "                                                        category_labels, \n",
        "                                                        random_state = 42, \n",
        "                                                        test_size = 0.15,\n",
        "                                                        shuffle=True)"
      ],
      "metadata": {
        "colab": {
          "base_uri": "https://localhost:8080/"
        },
        "id": "dJg2AEYiGTL4",
        "outputId": "dc80b0da-ff9e-48b3-a077-7ac05f995453"
      },
      "execution_count": 42,
      "outputs": [
        {
          "output_type": "stream",
          "name": "stdout",
          "text": [
            "torch.Size([10800, 128]) torch.Size([10800]) torch.Size([10800, 128])\n"
          ]
        }
      ]
    },
    {
      "cell_type": "code",
      "source": [
        "from torch.utils.data import TensorDataset, DataLoader, RandomSampler, SequentialSampler\n",
        "\n",
        "#barch size has been chosen to be 16 as a batch size of 32 gave out of memory errors (limitation)\n",
        "BATCH_SIZE = 16\n",
        "\n",
        "# creating the dataloader for the training dataset\n",
        "training_data = TensorDataset(training_dataset, training_mask, training_categories)\n",
        "training_dataloader = DataLoader(training_data, sampler=RandomSampler(training_data), batch_size=BATCH_SIZE)\n",
        "\n",
        "# creating the dataloader for the validation dataset\n",
        "validation_data = TensorDataset(validation_dataset, validation_mask, validation_categories)\n",
        "validation_dataloader = DataLoader(validation_data, sampler=SequentialSampler(validation_data), batch_size=BATCH_SIZE)"
      ],
      "metadata": {
        "id": "5id-lm70GWaB"
      },
      "execution_count": 43,
      "outputs": []
    },
    {
      "cell_type": "markdown",
      "source": [
        "# Training Multiclass Classification model"
      ],
      "metadata": {
        "id": "l9NR7W_AGcF_"
      }
    },
    {
      "cell_type": "code",
      "source": [
        "from transformers import BertForSequenceClassification, AdamW, BertConfig\n",
        "from transformers import get_linear_schedule_with_warmup\n",
        "\n",
        "# choosing the model version that has only lowercase characters and is the smaller one out the two versions\n",
        "option_name = \"bert-base-uncased\"\n",
        "\n",
        "model = BertForSequenceClassification.from_pretrained(option_name, \n",
        "                                                      num_labels = 4, \n",
        "                                                      output_attentions = False, \n",
        "                                                      output_hidden_states = False)\n",
        "model.cuda()\n",
        "\n",
        "#optimzer: object that actually performs updates to our weights\n",
        "optimizer = AdamW(model.parameters(),\n",
        "                  lr = 3e-5, \n",
        "                  eps = 1e-8)\n",
        "\n",
        "# number of training epochs\n",
        "epochs = 4"
      ],
      "metadata": {
        "colab": {
          "base_uri": "https://localhost:8080/",
          "height": 156,
          "referenced_widgets": [
            "2a39130079ef4bdf99d9b3b0f312a09b",
            "016a282e8af943c58b6481663909dcaf",
            "10eb853978d445879b41519dd5642661",
            "8dd2c1b50e9d482790c56d30f69721fe",
            "b84dde4e4685476b9e8503ce95f4094c",
            "87ccab2e6db545b1b1a4d3aa760f8d19",
            "7a6b8d0a034941ee925d9cf0bba79971",
            "87d741d979c1462ab168b373fa3fe473",
            "332c38e6f937470db051c61d673f0c81",
            "59208dc1c6414fbc958d783c39ce0e1d",
            "c4ff4ccc8c184a969530dee098096f76"
          ]
        },
        "id": "g2SoT3GEGhvg",
        "outputId": "4a2a5ec4-5a4e-4f18-c38d-9fd3a2053e68"
      },
      "execution_count": 44,
      "outputs": [
        {
          "output_type": "display_data",
          "data": {
            "text/plain": [
              "Downloading:   0%|          | 0.00/440M [00:00<?, ?B/s]"
            ],
            "application/vnd.jupyter.widget-view+json": {
              "version_major": 2,
              "version_minor": 0,
              "model_id": "2a39130079ef4bdf99d9b3b0f312a09b"
            }
          },
          "metadata": {}
        },
        {
          "output_type": "stream",
          "name": "stderr",
          "text": [
            "Some weights of the model checkpoint at bert-base-uncased were not used when initializing BertForSequenceClassification: ['cls.predictions.transform.LayerNorm.weight', 'cls.predictions.bias', 'cls.seq_relationship.bias', 'cls.predictions.transform.dense.bias', 'cls.predictions.transform.dense.weight', 'cls.predictions.decoder.weight', 'cls.predictions.transform.LayerNorm.bias', 'cls.seq_relationship.weight']\n",
            "- This IS expected if you are initializing BertForSequenceClassification from the checkpoint of a model trained on another task or with another architecture (e.g. initializing a BertForSequenceClassification model from a BertForPreTraining model).\n",
            "- This IS NOT expected if you are initializing BertForSequenceClassification from the checkpoint of a model that you expect to be exactly identical (initializing a BertForSequenceClassification model from a BertForSequenceClassification model).\n",
            "Some weights of BertForSequenceClassification were not initialized from the model checkpoint at bert-base-uncased and are newly initialized: ['classifier.weight', 'classifier.bias']\n",
            "You should probably TRAIN this model on a down-stream task to be able to use it for predictions and inference.\n"
          ]
        }
      ]
    },
    {
      "cell_type": "code",
      "source": [
        "#HELPER FUNCTIONS\n",
        "\n",
        "# this function takes time in seconds and returns a string hh:mm:ss\n",
        "def format_time(elapsed):\n",
        "    # Round to the nearest second.\n",
        "    elapsed_rounded = int(round((elapsed)))\n",
        "    \n",
        "    # Format as hh:mm:ss\n",
        "    return str(datetime.timedelta(seconds=elapsed_rounded))\n",
        "\n",
        "# this function calculates the accuracy by taking in the predicted and actual labels as parameters\n",
        "def flat_accuracy(preds, labels):\n",
        "    pred_flat = np.argmax(preds, axis=1).flatten()\n",
        "    labels_flat = labels.flatten()\n",
        "    return np.sum(pred_flat == labels_flat) / len(labels_flat)"
      ],
      "metadata": {
        "id": "wj139dpqG1z9"
      },
      "execution_count": 45,
      "outputs": []
    },
    {
      "cell_type": "code",
      "source": [
        "import random\n",
        "import timeit\n",
        "import datetime"
      ],
      "metadata": {
        "id": "AiUNPe0dHTCb"
      },
      "execution_count": 46,
      "outputs": []
    },
    {
      "cell_type": "code",
      "source": [
        "# ************ TRAINING LOOP ************************\n",
        "\n",
        "def train_model(model = model,\n",
        "                optimizer = optimizer,\n",
        "                train_loader = training_dataloader,\n",
        "                valid_loader = validation_dataloader,\n",
        "                num_epochs = epochs,\n",
        "                eval_every = len(training_dataloader) // 4):\n",
        "  \n",
        "  seed_val = 42\n",
        "\n",
        "  random.seed(seed_val)\n",
        "  np.random.seed(seed_val)\n",
        "  torch.manual_seed(seed_val)\n",
        "  torch.cuda.manual_seed_all(seed_val)\n",
        "\n",
        "  #initialising the running variables\n",
        "  train_loss_list = []\n",
        "  valid_loss_list = []\n",
        "  running_loss = 0.0\n",
        "  valid_loss = 0.0\n",
        "\n",
        "  for each_epoch in range(num_epochs):\n",
        "\n",
        "    '''\n",
        "    ****************** TRAINING *******************\n",
        "    '''\n",
        "\n",
        "    #performing one full pass of the training set\n",
        "    print('\\n')\n",
        "    print(\"*************** Epoch {:}/{:} ***************\".format(each_epoch+1,epochs))\n",
        "    print(\"Training....\")\n",
        "\n",
        "    #calculating how much running time each epoch takes\n",
        "    start = timeit.default_timer()\n",
        "    #resetting the running loss variable\n",
        "    running_loss = 0.0\n",
        "\n",
        "    #putting the model into training mode\n",
        "    model.train()\n",
        "\n",
        "    for step, (input_desc_ids, input_mask, input_label) in enumerate(train_loader):\n",
        "\n",
        "      #evaluation of each batch \n",
        "      if step%eval_every==0 and step!=0:\n",
        "        stop = timeit.default_timer()\n",
        "        #calculating the time elapsed in hh:mm:ss format\n",
        "        time_elapsed = format_time(stop-start)\n",
        "        print('  Batch {:>5,}  of  {:>5,}.    Elapsed: {:}.'.format(step, len(train_loader), time_elapsed))\n",
        "\n",
        "      # unpacking the training batch from the data loader and copying the Pytoch tensors to the GPU\n",
        "      input_desc_ids = input_desc_ids.to(device)\n",
        "      input_mask = input_mask.to(device)\n",
        "      input_label = input_label.to(device)\n",
        "      \n",
        "      #clearing the previously calculated gradients before performing a backward pass\n",
        "      model.zero_grad()\n",
        "\n",
        "      #performing a forward pass on this particular batch of data\n",
        "      outputs = model(input_desc_ids,\n",
        "                      token_type_ids=None,\n",
        "                      attention_mask = input_mask,\n",
        "                      labels = input_label)\n",
        "\n",
        "      loss = outputs[0]\n",
        "      running_loss += loss.item()\n",
        "\n",
        "      #performing a backward pass to calculate the gradients\n",
        "      loss.backward()\n",
        "      torch.nn.utils.clip_grad_norm_(model.parameters(), 1.0)\n",
        "\n",
        "      #updating the parameters \n",
        "      optimizer.step()\n",
        "\n",
        "    # calculating the average training loss and storing it\n",
        "    average_train_loss = running_loss / len(train_loader)\n",
        "    train_loss_list.append(average_train_loss)\n",
        "\n",
        "    print('\\n')\n",
        "    print(\"  Average training loss: {0:.2f}\".format(average_train_loss))\n",
        "    print(\"  Training epoch took: {:}\".format(format_time(timeit.default_timer() - start)))\n",
        "\n",
        "\n",
        "    '''\n",
        "    ****************** VALIDATION *******************\n",
        "    '''\n",
        "\n",
        "    print(\"\\n\")\n",
        "    print(\"Validating....\")\n",
        "\n",
        "    start = timeit.default_timer()\n",
        "\n",
        "    model.eval()\n",
        "\n",
        "    #initialising the tracking variables\n",
        "    valid_loss = 0.0\n",
        "    valid_accuracy = 0.0\n",
        "    steps_eval = 0\n",
        "    examples_eval = 0\n",
        "\n",
        "    for (input_ids, input_masks, input_labels) in valid_loader:\n",
        "      input_ids = input_ids.to(device)\n",
        "      input_masks = input_masks.to(device)\n",
        "      input_labels = input_labels.to(device)\n",
        "\n",
        "      # saves computing requirements by setting requires_grad to False\n",
        "      with torch.no_grad():\n",
        "        outputs = model(input_ids, \n",
        "                        token_type_ids=None, \n",
        "                        attention_mask=input_masks)\n",
        "      \n",
        "      logits = outputs[0]\n",
        "\n",
        "      logits = logits.detach().cpu().numpy()\n",
        "      label_ids = input_labels.to('cpu').numpy()\n",
        "\n",
        "      temp_accuracy = flat_accuracy(logits, label_ids)\n",
        "      valid_accuracy += temp_accuracy\n",
        "      steps_eval += 1\n",
        "\n",
        "    average_valid_accuracy = valid_accuracy/steps_eval\n",
        "    valid_loss_list.append(average_valid_accuracy)\n",
        "\n",
        "    print(\"  Accuracy: {0:.2f}\".format(average_valid_accuracy))\n",
        "    print(\"  Validation took: {:}\".format(format_time(timeit.default_timer() - start)))\n",
        "\n",
        "    return train_loss_list, valid_loss_list\n",
        "\n",
        "  print(\"\\n\")\n",
        "  print(\"Training complete!!!\")"
      ],
      "metadata": {
        "id": "1KEURvb6G2lY"
      },
      "execution_count": 47,
      "outputs": []
    },
    {
      "cell_type": "code",
      "source": [
        "train_loss_list, valid_loss_list = train_model()"
      ],
      "metadata": {
        "colab": {
          "base_uri": "https://localhost:8080/"
        },
        "id": "xbaXMG_XHfXW",
        "outputId": "3f8e0988-3762-42af-aa7d-26c731872699"
      },
      "execution_count": 48,
      "outputs": [
        {
          "output_type": "stream",
          "name": "stdout",
          "text": [
            "\n",
            "\n",
            "*************** Epoch 1/4 ***************\n",
            "Training....\n",
            "  Batch   143  of    574.    Elapsed: 0:00:57.\n",
            "  Batch   286  of    574.    Elapsed: 0:01:57.\n",
            "  Batch   429  of    574.    Elapsed: 0:02:56.\n",
            "  Batch   572  of    574.    Elapsed: 0:03:54.\n",
            "\n",
            "\n",
            "  Average training loss: 0.34\n",
            "  Training epoch took: 0:03:55\n",
            "\n",
            "\n",
            "Validating....\n",
            "  Accuracy: 0.96\n",
            "  Validation took: 0:00:14\n"
          ]
        }
      ]
    },
    {
      "cell_type": "markdown",
      "source": [
        "# Test Data Performance"
      ],
      "metadata": {
        "id": "FYJO2uZdHmK1"
      }
    },
    {
      "cell_type": "code",
      "source": [
        "test_df.sample(10)"
      ],
      "metadata": {
        "colab": {
          "base_uri": "https://localhost:8080/",
          "height": 581
        },
        "id": "nE4bibtkHq7B",
        "outputId": "1bfe29cc-f745-4deb-c042-d8c294625d96"
      },
      "execution_count": 49,
      "outputs": [
        {
          "output_type": "execute_result",
          "data": {
            "text/plain": [
              "                       labels  \\\n",
              "12232                   Books   \n",
              "25962             Electronics   \n",
              "19976  Clothing & Accessories   \n",
              "23734             Electronics   \n",
              "2785                Household   \n",
              "16894  Clothing & Accessories   \n",
              "18643  Clothing & Accessories   \n",
              "4324                Household   \n",
              "27293             Electronics   \n",
              "22471  Clothing & Accessories   \n",
              "\n",
              "                                                    text  desc_pol  desc_len  \\\n",
              "12232  IELTS Speaking From The Past Exams This is one...  0.301786       480   \n",
              "25962  Godox LSD60 Mini Photography Studio Lighting T...  0.200000       191   \n",
              "19976  BATA Men's Class Formal Shoes Elevate your sty...  0.483333       246   \n",
              "23734  shoptronix GSM Long Wire SMA Magnetic Base Ant...  0.109944       788   \n",
              "2785   Natraj Studio Photo, 200 Pocket, 4 X 6 Inch Al...  0.277778       270   \n",
              "16894  Satyam Kraft PU Leather Adjustable Automatic B...  0.250000       390   \n",
              "18643  Jockey Women's Cotton Bikini (Pack of 3) (Colo...  0.266667       209   \n",
              "4324   HOKIPO 28 Rings Metal Folding Rope Hanger for ...  0.250000       497   \n",
              "27293  iKraft ABS Germany France Europe Universal Con...  0.291667       371   \n",
              "22471  Vansh Online Shop Women's Cotton Camisole Comb...  0.500000       193   \n",
              "\n",
              "                                            cleaned_desc  \n",
              "12232  ielts speaking past exam one best book makkari...  \n",
              "25962  godox lsd mini photography studio lighting ten...  \n",
              "19976  bata men class formal shoe elevate style class...  \n",
              "23734  shoptronix gsm long wire sma magnetic base ant...  \n",
              "2785   natraj studio photo pocket inch album material...  \n",
              "16894  satyam kraft leather adjustable automatic belt...  \n",
              "18643  jockey woman cotton bikini pack color may vary...  \n",
              "4324   hokipo ring metal folding rope hanger scarf be...  \n",
              "27293  ikraft germany france europe universal convers...  \n",
              "22471  vansh online shop woman cotton camisole combo ...  "
            ],
            "text/html": [
              "\n",
              "  <div id=\"df-3b76bc5d-12b1-4b5d-bb2e-82e0f2e66431\">\n",
              "    <div class=\"colab-df-container\">\n",
              "      <div>\n",
              "<style scoped>\n",
              "    .dataframe tbody tr th:only-of-type {\n",
              "        vertical-align: middle;\n",
              "    }\n",
              "\n",
              "    .dataframe tbody tr th {\n",
              "        vertical-align: top;\n",
              "    }\n",
              "\n",
              "    .dataframe thead th {\n",
              "        text-align: right;\n",
              "    }\n",
              "</style>\n",
              "<table border=\"1\" class=\"dataframe\">\n",
              "  <thead>\n",
              "    <tr style=\"text-align: right;\">\n",
              "      <th></th>\n",
              "      <th>labels</th>\n",
              "      <th>text</th>\n",
              "      <th>desc_pol</th>\n",
              "      <th>desc_len</th>\n",
              "      <th>cleaned_desc</th>\n",
              "    </tr>\n",
              "  </thead>\n",
              "  <tbody>\n",
              "    <tr>\n",
              "      <th>12232</th>\n",
              "      <td>Books</td>\n",
              "      <td>IELTS Speaking From The Past Exams This is one...</td>\n",
              "      <td>0.301786</td>\n",
              "      <td>480</td>\n",
              "      <td>ielts speaking past exam one best book makkari...</td>\n",
              "    </tr>\n",
              "    <tr>\n",
              "      <th>25962</th>\n",
              "      <td>Electronics</td>\n",
              "      <td>Godox LSD60 Mini Photography Studio Lighting T...</td>\n",
              "      <td>0.200000</td>\n",
              "      <td>191</td>\n",
              "      <td>godox lsd mini photography studio lighting ten...</td>\n",
              "    </tr>\n",
              "    <tr>\n",
              "      <th>19976</th>\n",
              "      <td>Clothing &amp; Accessories</td>\n",
              "      <td>BATA Men's Class Formal Shoes Elevate your sty...</td>\n",
              "      <td>0.483333</td>\n",
              "      <td>246</td>\n",
              "      <td>bata men class formal shoe elevate style class...</td>\n",
              "    </tr>\n",
              "    <tr>\n",
              "      <th>23734</th>\n",
              "      <td>Electronics</td>\n",
              "      <td>shoptronix GSM Long Wire SMA Magnetic Base Ant...</td>\n",
              "      <td>0.109944</td>\n",
              "      <td>788</td>\n",
              "      <td>shoptronix gsm long wire sma magnetic base ant...</td>\n",
              "    </tr>\n",
              "    <tr>\n",
              "      <th>2785</th>\n",
              "      <td>Household</td>\n",
              "      <td>Natraj Studio Photo, 200 Pocket, 4 X 6 Inch Al...</td>\n",
              "      <td>0.277778</td>\n",
              "      <td>270</td>\n",
              "      <td>natraj studio photo pocket inch album material...</td>\n",
              "    </tr>\n",
              "    <tr>\n",
              "      <th>16894</th>\n",
              "      <td>Clothing &amp; Accessories</td>\n",
              "      <td>Satyam Kraft PU Leather Adjustable Automatic B...</td>\n",
              "      <td>0.250000</td>\n",
              "      <td>390</td>\n",
              "      <td>satyam kraft leather adjustable automatic belt...</td>\n",
              "    </tr>\n",
              "    <tr>\n",
              "      <th>18643</th>\n",
              "      <td>Clothing &amp; Accessories</td>\n",
              "      <td>Jockey Women's Cotton Bikini (Pack of 3) (Colo...</td>\n",
              "      <td>0.266667</td>\n",
              "      <td>209</td>\n",
              "      <td>jockey woman cotton bikini pack color may vary...</td>\n",
              "    </tr>\n",
              "    <tr>\n",
              "      <th>4324</th>\n",
              "      <td>Household</td>\n",
              "      <td>HOKIPO 28 Rings Metal Folding Rope Hanger for ...</td>\n",
              "      <td>0.250000</td>\n",
              "      <td>497</td>\n",
              "      <td>hokipo ring metal folding rope hanger scarf be...</td>\n",
              "    </tr>\n",
              "    <tr>\n",
              "      <th>27293</th>\n",
              "      <td>Electronics</td>\n",
              "      <td>iKraft ABS Germany France Europe Universal Con...</td>\n",
              "      <td>0.291667</td>\n",
              "      <td>371</td>\n",
              "      <td>ikraft germany france europe universal convers...</td>\n",
              "    </tr>\n",
              "    <tr>\n",
              "      <th>22471</th>\n",
              "      <td>Clothing &amp; Accessories</td>\n",
              "      <td>Vansh Online Shop Women's Cotton Camisole Comb...</td>\n",
              "      <td>0.500000</td>\n",
              "      <td>193</td>\n",
              "      <td>vansh online shop woman cotton camisole combo ...</td>\n",
              "    </tr>\n",
              "  </tbody>\n",
              "</table>\n",
              "</div>\n",
              "      <button class=\"colab-df-convert\" onclick=\"convertToInteractive('df-3b76bc5d-12b1-4b5d-bb2e-82e0f2e66431')\"\n",
              "              title=\"Convert this dataframe to an interactive table.\"\n",
              "              style=\"display:none;\">\n",
              "        \n",
              "  <svg xmlns=\"http://www.w3.org/2000/svg\" height=\"24px\"viewBox=\"0 0 24 24\"\n",
              "       width=\"24px\">\n",
              "    <path d=\"M0 0h24v24H0V0z\" fill=\"none\"/>\n",
              "    <path d=\"M18.56 5.44l.94 2.06.94-2.06 2.06-.94-2.06-.94-.94-2.06-.94 2.06-2.06.94zm-11 1L8.5 8.5l.94-2.06 2.06-.94-2.06-.94L8.5 2.5l-.94 2.06-2.06.94zm10 10l.94 2.06.94-2.06 2.06-.94-2.06-.94-.94-2.06-.94 2.06-2.06.94z\"/><path d=\"M17.41 7.96l-1.37-1.37c-.4-.4-.92-.59-1.43-.59-.52 0-1.04.2-1.43.59L10.3 9.45l-7.72 7.72c-.78.78-.78 2.05 0 2.83L4 21.41c.39.39.9.59 1.41.59.51 0 1.02-.2 1.41-.59l7.78-7.78 2.81-2.81c.8-.78.8-2.07 0-2.86zM5.41 20L4 18.59l7.72-7.72 1.47 1.35L5.41 20z\"/>\n",
              "  </svg>\n",
              "      </button>\n",
              "      \n",
              "  <style>\n",
              "    .colab-df-container {\n",
              "      display:flex;\n",
              "      flex-wrap:wrap;\n",
              "      gap: 12px;\n",
              "    }\n",
              "\n",
              "    .colab-df-convert {\n",
              "      background-color: #E8F0FE;\n",
              "      border: none;\n",
              "      border-radius: 50%;\n",
              "      cursor: pointer;\n",
              "      display: none;\n",
              "      fill: #1967D2;\n",
              "      height: 32px;\n",
              "      padding: 0 0 0 0;\n",
              "      width: 32px;\n",
              "    }\n",
              "\n",
              "    .colab-df-convert:hover {\n",
              "      background-color: #E2EBFA;\n",
              "      box-shadow: 0px 1px 2px rgba(60, 64, 67, 0.3), 0px 1px 3px 1px rgba(60, 64, 67, 0.15);\n",
              "      fill: #174EA6;\n",
              "    }\n",
              "\n",
              "    [theme=dark] .colab-df-convert {\n",
              "      background-color: #3B4455;\n",
              "      fill: #D2E3FC;\n",
              "    }\n",
              "\n",
              "    [theme=dark] .colab-df-convert:hover {\n",
              "      background-color: #434B5C;\n",
              "      box-shadow: 0px 1px 3px 1px rgba(0, 0, 0, 0.15);\n",
              "      filter: drop-shadow(0px 1px 2px rgba(0, 0, 0, 0.3));\n",
              "      fill: #FFFFFF;\n",
              "    }\n",
              "  </style>\n",
              "\n",
              "      <script>\n",
              "        const buttonEl =\n",
              "          document.querySelector('#df-3b76bc5d-12b1-4b5d-bb2e-82e0f2e66431 button.colab-df-convert');\n",
              "        buttonEl.style.display =\n",
              "          google.colab.kernel.accessAllowed ? 'block' : 'none';\n",
              "\n",
              "        async function convertToInteractive(key) {\n",
              "          const element = document.querySelector('#df-3b76bc5d-12b1-4b5d-bb2e-82e0f2e66431');\n",
              "          const dataTable =\n",
              "            await google.colab.kernel.invokeFunction('convertToInteractive',\n",
              "                                                     [key], {});\n",
              "          if (!dataTable) return;\n",
              "\n",
              "          const docLinkHtml = 'Like what you see? Visit the ' +\n",
              "            '<a target=\"_blank\" href=https://colab.research.google.com/notebooks/data_table.ipynb>data table notebook</a>'\n",
              "            + ' to learn more about interactive tables.';\n",
              "          element.innerHTML = '';\n",
              "          dataTable['output_type'] = 'display_data';\n",
              "          await google.colab.output.renderOutput(dataTable, element);\n",
              "          const docLink = document.createElement('div');\n",
              "          docLink.innerHTML = docLinkHtml;\n",
              "          element.appendChild(docLink);\n",
              "        }\n",
              "      </script>\n",
              "    </div>\n",
              "  </div>\n",
              "  "
            ]
          },
          "metadata": {},
          "execution_count": 49
        }
      ]
    },
    {
      "cell_type": "markdown",
      "source": [
        "apply similar encoding on test dataframe as applied on training dataset"
      ],
      "metadata": {
        "id": "KM-p0hfKHzA3"
      }
    },
    {
      "cell_type": "code",
      "source": [
        "test_df['labels']=encoder.fit_transform(test_df['labels'])\n",
        "print(Counter(test_df['labels']))\n",
        "\n",
        "prediction_decoded = encoder.inverse_transform(test_df['labels'])\n",
        "print(Counter(prediction_decoded))"
      ],
      "metadata": {
        "colab": {
          "base_uri": "https://localhost:8080/"
        },
        "id": "nFFhPMbEHwHR",
        "outputId": "aca56bb2-0123-42c0-9c91-fed82251a123"
      },
      "execution_count": 50,
      "outputs": [
        {
          "output_type": "stream",
          "name": "stdout",
          "text": [
            "Counter({0: 308, 1: 307, 3: 297, 2: 288})\n",
            "Counter({'Books': 308, 'Clothing & Accessories': 307, 'Household': 297, 'Electronics': 288})\n"
          ]
        }
      ]
    },
    {
      "cell_type": "code",
      "source": [
        "test_description = test_df[\"cleaned_desc\"].values\n",
        "test_labels = test_df[\"labels\"].values"
      ],
      "metadata": {
        "id": "p_pYzdL3H-VF"
      },
      "execution_count": 51,
      "outputs": []
    },
    {
      "cell_type": "code",
      "source": [
        "#converting into tokens\n",
        "test_ids = []\n",
        "\n",
        "for sentence in test_description:\n",
        "  encoded_sentence = tokenizer.encode(sentence,                      \n",
        "                                  add_special_tokens = True)\n",
        "    \n",
        "  test_ids.append(encoded_sentence)\n",
        "\n",
        "test_ids = pad_sequences(test_ids, \n",
        "                         maxlen=max_len, \n",
        "                        dtype=\"long\", \n",
        "                        truncating=\"post\", \n",
        "                         padding=\"post\")\n",
        "\n",
        "# creating the attention masks\n",
        "attention_masks = []\n",
        "\n",
        "for id in test_ids:\n",
        "  temp_mask = [int(i>0) for i in id]\n",
        "  attention_masks.append(temp_mask)\n",
        "\n",
        "# converting into tensors\n",
        "prediction_inputs = torch.tensor(test_ids)\n",
        "prediction_masks = torch.tensor(attention_masks)\n",
        "prediction_labels = torch.tensor(test_labels)"
      ],
      "metadata": {
        "id": "EL44ktztH_Ar"
      },
      "execution_count": 52,
      "outputs": []
    },
    {
      "cell_type": "code",
      "source": [
        "#creating the Pytorch Dataloader\n",
        "testing_data = TensorDataset(prediction_inputs, \n",
        "                                prediction_masks, \n",
        "                                prediction_labels)\n",
        "\n",
        "testing_dataloader = DataLoader(testing_data, \n",
        "                                   sampler=SequentialSampler(testing_data), \n",
        "                                   batch_size=BATCH_SIZE)"
      ],
      "metadata": {
        "id": "YzknXKX3IAnr"
      },
      "execution_count": 53,
      "outputs": []
    },
    {
      "cell_type": "markdown",
      "source": [
        "# Evaluation function -> generating predictions"
      ],
      "metadata": {
        "id": "8ihMI-DeICnZ"
      }
    },
    {
      "cell_type": "code",
      "source": [
        "def evaluation(model = model,\n",
        "               test_loader = testing_dataloader):\n",
        "  \n",
        "  print('Predicting labels for {:,} test descriptions'.format(len(testing_data)))\n",
        "\n",
        "  #initialising the running variables\n",
        "  predictions = []\n",
        "  true_categories = []\n",
        "\n",
        "  #putting the model in avaluation mode\n",
        "  model.eval()\n",
        "\n",
        "  for (test_desc_ids, test_mask, test_label) in test_loader:\n",
        "    \n",
        "    # adding the batch variables to the GPU\n",
        "    test_desc_ids = test_desc_ids.to(device)\n",
        "    test_mask = test_mask.to(device)\n",
        "    test_label = test_label.to(device)\n",
        "\n",
        "    with torch.no_grad():\n",
        "      #forward pass\n",
        "      #calculating the logit predictions\n",
        "      outputs = model(test_desc_ids,\n",
        "                      token_type_ids=None,\n",
        "                      attention_mask = test_mask)\n",
        "      \n",
        "    logits = outputs[0]\n",
        "\n",
        "    # Move logits and labels to CPU\n",
        "    logits = logits.detach().cpu().numpy()\n",
        "    label_ids = test_label.to('cpu').numpy()\n",
        "    \n",
        "    # Store predictions and true labels\n",
        "    predictions.extend(list( np.argmax(logits, axis=1).flatten()))\n",
        "    true_categories.extend(list(label_ids.flatten()))\n",
        "\n",
        "  print(\"Evaluation done!!!\")\n",
        "\n",
        "  return true_categories, predictions\n",
        "  "
      ],
      "metadata": {
        "id": "uTxU0Xc6IK3l"
      },
      "execution_count": 54,
      "outputs": []
    },
    {
      "cell_type": "code",
      "source": [
        "true_labels, pred_labels = evaluation()"
      ],
      "metadata": {
        "colab": {
          "base_uri": "https://localhost:8080/"
        },
        "id": "3_ugurqiIQn7",
        "outputId": "2305bc86-f8c7-45d2-a9d1-7c2011058ea2"
      },
      "execution_count": 55,
      "outputs": [
        {
          "output_type": "stream",
          "name": "stdout",
          "text": [
            "Predicting labels for 1,200 test descriptions\n",
            "Evaluation done!!!\n"
          ]
        }
      ]
    },
    {
      "cell_type": "markdown",
      "source": [
        "# Evaluation Metrics"
      ],
      "metadata": {
        "id": "VFa8MvJQISsH"
      }
    },
    {
      "cell_type": "code",
      "source": [
        "from sklearn.metrics import accuracy_score, confusion_matrix, classification_report\n",
        "\n",
        "print('Classification Report:')\n",
        "print(classification_report(true_labels, pred_labels))\n",
        "    \n",
        "plt.figure(figsize = (10,10))\n",
        "cm = confusion_matrix(true_labels, pred_labels)\n",
        "cm = cm / cm.astype(np.float).sum(axis=1)\n",
        "ax= plt.subplot()\n",
        "sns.heatmap(cm, annot=True, ax = ax, cmap='Blues')\n",
        "ax.set_title('Confusion Matrix')\n",
        "ax.set_xlabel('Predicted Labels')\n",
        "ax.set_ylabel('True Labels')"
      ],
      "metadata": {
        "colab": {
          "base_uri": "https://localhost:8080/",
          "height": 846
        },
        "id": "zOnfGAbLIRYZ",
        "outputId": "8f17fdd7-be28-4944-c8f1-44d34bd7f2a1"
      },
      "execution_count": 56,
      "outputs": [
        {
          "output_type": "stream",
          "name": "stdout",
          "text": [
            "Classification Report:\n",
            "              precision    recall  f1-score   support\n",
            "\n",
            "           0       0.96      0.91      0.93       308\n",
            "           1       0.96      0.96      0.96       307\n",
            "           2       0.91      0.94      0.93       288\n",
            "           3       0.91      0.92      0.92       297\n",
            "\n",
            "    accuracy                           0.94      1200\n",
            "   macro avg       0.94      0.94      0.94      1200\n",
            "weighted avg       0.94      0.94      0.94      1200\n",
            "\n"
          ]
        },
        {
          "output_type": "execute_result",
          "data": {
            "text/plain": [
              "Text(69.0, 0.5, 'True Labels')"
            ]
          },
          "metadata": {},
          "execution_count": 56
        },
        {
          "output_type": "display_data",
          "data": {
            "text/plain": [
              "<Figure size 720x720 with 2 Axes>"
            ],
            "image/png": "[encoded data removed]"
          },
          "metadata": {}
        }
      ]
    },
    {
      "cell_type": "markdown",
      "source": [
        "# **FINAL ACCURACY ACHIEVED : 94%**"
      ],
      "metadata": {
        "id": "9o3L88kiJg78"
      }
    }
  ]
}